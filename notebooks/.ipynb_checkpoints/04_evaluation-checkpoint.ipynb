{
 "cells": [
  {
   "cell_type": "code",
   "execution_count": null,
   "id": "1c5e63c3-92e8-4f44-b884-11a23eafe80e",
   "metadata": {},
   "outputs": [],
   "source": [
    "# Evaluation setup\n",
    "from src.evaluate import ModelEvaluator\n",
    "\n",
    "# Initialize evaluator\n",
    "evaluator = ModelEvaluator()\n",
    "\n",
    "# Load trained model\n",
    "model = evaluator.load_model(\"../outputs/models/best_model.pth\")\n",
    "\n",
    "# Run comprehensive evaluation\n",
    "results = evaluator.run_comprehensive_evaluation()\n",
    "\n",
    "# Generate reports and visualizations\n",
    "print(f\"Overall Accuracy: {results['metrics']['accuracy']:.4f}\")"
   ]
  }
 ],
 "metadata": {
  "kernelspec": {
   "display_name": "Python 3 (ipykernel)",
   "language": "python",
   "name": "python3"
  },
  "language_info": {
   "codemirror_mode": {
    "name": "ipython",
    "version": 3
   },
   "file_extension": ".py",
   "mimetype": "text/x-python",
   "name": "python",
   "nbconvert_exporter": "python",
   "pygments_lexer": "ipython3",
   "version": "3.12.3"
  }
 },
 "nbformat": 4,
 "nbformat_minor": 5
}
