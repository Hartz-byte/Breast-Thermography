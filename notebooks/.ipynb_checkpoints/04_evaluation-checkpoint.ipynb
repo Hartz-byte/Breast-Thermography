{
 "cells": [
  {
   "cell_type": "code",
   "execution_count": 7,
   "id": "8b9ca3f9-4f71-430d-9841-6dda361ccbe9",
   "metadata": {},
   "outputs": [],
   "source": [
    "import os\n",
    "import sys\n",
    "import torch\n",
    "import numpy as np\n",
    "import matplotlib.pyplot as plt\n",
    "import seaborn as sns\n",
    "from sklearn.metrics import classification_report, confusion_matrix, roc_curve, auc, precision_recall_curve, average_precision_score\n",
    "from torch.utils.data import DataLoader\n",
    "from tqdm import tqdm\n",
    "import yaml\n",
    "from pathlib import Path\n",
    "\n",
    "project_root = Path.cwd().parent\n",
    "sys.path.append(str(project_root))\n",
    "\n",
    "from src.data_prep import DataPreprocessor"
   ]
  },
  {
   "cell_type": "code",
   "execution_count": 8,
   "id": "1e7e7734-8892-4ce5-bcd6-745ce61098b5",
   "metadata": {},
   "outputs": [],
   "source": [
    "class ModelEvaluator:\n",
    "    def __init__(self, model, device='cuda' if torch.cuda.is_available() else 'cpu'):\n",
    "        self.model = model.to(device)\n",
    "        self.device = device\n",
    "        self.model.eval()\n",
    "        \n",
    "    def evaluate(self, dataloader):\n",
    "        all_preds = []\n",
    "        all_labels = []\n",
    "        all_probs = []\n",
    "        \n",
    "        with torch.no_grad():\n",
    "            for batch in tqdm(dataloader, desc=\"Evaluating\"):\n",
    "                images = batch['image'].to(self.device)\n",
    "                labels = batch['label'].to(self.device)\n",
    "                \n",
    "                outputs = self.model(images)\n",
    "                \n",
    "                # Handle different output formats\n",
    "                if isinstance(outputs, dict):\n",
    "                    # Try common output keys\n",
    "                    for key in ['logits', 'output', 'out', 'prediction']:\n",
    "                        if key in outputs:\n",
    "                            outputs = outputs[key]\n",
    "                            break\n",
    "                    else:\n",
    "                        # If no standard key found, try to use the first value\n",
    "                        outputs = next(iter(outputs.values()))\n",
    "                \n",
    "                # Ensure outputs is a tensor\n",
    "                if not isinstance(outputs, torch.Tensor):\n",
    "                    raise ValueError(f\"Unexpected model output type: {type(outputs)}\")\n",
    "                \n",
    "                probs = torch.softmax(outputs, dim=1)\n",
    "                _, preds = torch.max(outputs, 1)\n",
    "                \n",
    "                all_preds.extend(preds.cpu().numpy())\n",
    "                all_labels.extend(labels.cpu().numpy())\n",
    "                all_probs.extend(probs.cpu().numpy())\n",
    "        \n",
    "        return np.array(all_preds), np.array(all_labels), np.array(all_probs)\n",
    "    \n",
    "    def generate_classification_report(self, y_true, y_pred, target_names=None):\n",
    "        \"\"\"Generate detailed classification report\"\"\"\n",
    "        print(\"\\n\" + \"=\"*60)\n",
    "        print(\"Classification Report\")\n",
    "        print(\"=\"*60)\n",
    "        print(classification_report(y_true, y_pred, target_names=target_names))\n",
    "        \n",
    "    def plot_confusion_matrix(self, y_true, y_pred, class_names, save_path=None):\n",
    "        \"\"\"Plot confusion matrix\"\"\"\n",
    "        cm = confusion_matrix(y_true, y_pred)\n",
    "        plt.figure(figsize=(8, 6))\n",
    "        sns.heatmap(cm, annot=True, fmt='d', cmap='Blues', \n",
    "                   xticklabels=class_names, \n",
    "                   yticklabels=class_names)\n",
    "        plt.title('Confusion Matrix')\n",
    "        plt.ylabel('True Label')\n",
    "        plt.xlabel('Predicted Label')\n",
    "        if save_path:\n",
    "            os.makedirs(os.path.dirname(save_path), exist_ok=True)\n",
    "            plt.savefig(save_path, bbox_inches='tight')\n",
    "        plt.show()\n",
    "        \n",
    "    def plot_roc_curve(self, y_true, y_prob, class_names, save_path=None):\n",
    "        \"\"\"Plot ROC curve\"\"\"\n",
    "        fpr, tpr, _ = roc_curve(y_true, y_prob[:, 1])\n",
    "        roc_auc = auc(fpr, tpr)\n",
    "        \n",
    "        plt.figure(figsize=(8, 6))\n",
    "        plt.plot(fpr, tpr, color='darkorange', lw=2, \n",
    "                label=f'ROC curve (area = {roc_auc:.2f})')\n",
    "        plt.plot([0, 1], [0, 1], color='navy', lw=2, linestyle='--')\n",
    "        plt.xlim([0.0, 1.0])\n",
    "        plt.ylim([0.0, 1.05])\n",
    "        plt.xlabel('False Positive Rate')\n",
    "        plt.ylabel('True Positive Rate')\n",
    "        plt.title('Receiver Operating Characteristic')\n",
    "        plt.legend(loc=\"lower right\")\n",
    "        if save_path:\n",
    "            os.makedirs(os.path.dirname(save_path), exist_ok=True)\n",
    "            plt.savefig(save_path, bbox_inches='tight')\n",
    "        plt.show()\n",
    "        return roc_auc\n",
    "    \n",
    "    def plot_precision_recall_curve(self, y_true, y_prob, class_names, save_path=None):\n",
    "        \"\"\"Plot precision-recall curve\"\"\"\n",
    "        precision, recall, _ = precision_recall_curve(y_true, y_prob[:, 1])\n",
    "        avg_precision = average_precision_score(y_true, y_prob[:, 1])\n",
    "        \n",
    "        plt.figure(figsize=(8, 6))\n",
    "        plt.step(recall, precision, where='post')\n",
    "        plt.xlabel('Recall')\n",
    "        plt.ylabel('Precision')\n",
    "        plt.ylim([0.0, 1.05])\n",
    "        plt.xlim([0.0, 1.0])\n",
    "        plt.title(f'Precision-Recall curve: AP={avg_precision:0.2f}')\n",
    "        if save_path:\n",
    "            os.makedirs(os.path.dirname(save_path), exist_ok=True)\n",
    "            plt.savefig(save_path, bbox_inches='tight')\n",
    "        plt.show()\n",
    "        return avg_precision"
   ]
  },
  {
   "cell_type": "code",
   "execution_count": 9,
   "id": "0dda4bdb-8020-468e-b320-e1d0e9b07372",
   "metadata": {},
   "outputs": [],
   "source": [
    "def check_data_loading(dataloader, num_batches=2):\n",
    "    \"\"\"Helper function to verify data loading\"\"\"\n",
    "    print(\"\\n\" + \"=\"*60)\n",
    "    print(\"Checking Data Loading...\")\n",
    "    print(\"=\"*60)\n",
    "    \n",
    "    for i, batch in enumerate(dataloader):\n",
    "        if i >= num_batches:\n",
    "            break\n",
    "        print(f\"\\nBatch {i+1}:\")\n",
    "        print(f\"Images shape: {batch['image'].shape}\")\n",
    "        print(f\"Image range: {batch['image'].min():.2f} to {batch['image'].max():.2f}\")\n",
    "        print(f\"Labels: {batch['label']}\")\n",
    "        print(f\"Patient IDs: {batch['patient_id']}\")\n",
    "        \n",
    "        # Print first few patient IDs and their corresponding labels\n",
    "        for j in range(min(3, len(batch['patient_id']))):  # Print first 3 samples\n",
    "            print(f\"\\nSample {j+1}:\")\n",
    "            print(f\"  Patient ID: {batch['patient_id'][j]}\")\n",
    "            print(f\"  Label: {batch['label'][j].item()} ({'Benign' if batch['label'][j].item() == 0 else 'Malignant'})\")\n",
    "            print(f\"  Image stats - Mean: {batch['image'][j].mean():.4f}, Std: {batch['image'][j].std():.4f}\")"
   ]
  },
  {
   "cell_type": "code",
   "execution_count": 10,
   "id": "9eeb2b13-12a8-4f22-9938-0ef7158707cd",
   "metadata": {},
   "outputs": [],
   "source": [
    "def get_project_root():\n",
    "    \"\"\"Get the project root directory in a way that works in both scripts and notebooks\"\"\"\n",
    "    try:\n",
    "        # This works in regular Python files\n",
    "        return os.path.dirname(os.path.dirname(os.path.abspath(__file__)))\n",
    "    except NameError:\n",
    "        # For Jupyter notebooks, find the project root by looking for the config file\n",
    "        import glob\n",
    "        project_root = os.getcwd()\n",
    "        while project_root != '/':\n",
    "            if os.path.exists(os.path.join(project_root, 'configs', 'config.yaml')):\n",
    "                return project_root\n",
    "            project_root = os.path.dirname(project_root)\n",
    "        raise FileNotFoundError(\"Could not find project root directory\")"
   ]
  },
  {
   "cell_type": "code",
   "execution_count": 11,
   "id": "960343f5-1f13-4bd9-a83a-ea9a37504f94",
   "metadata": {},
   "outputs": [],
   "source": [
    "def run_evaluation(model_path, test_loader):\n",
    "    \"\"\"Run full evaluation pipeline\"\"\"\n",
    "    # Import the correct model class\n",
    "    from src.model import HybridCNNViT, ModelBuilder\n",
    "    \n",
    "    # Create model using the ModelBuilder with the correct config path\n",
    "    config_path = os.path.join(get_project_root(), 'configs', 'config.yaml')\n",
    "    builder = ModelBuilder(config_path=config_path)\n",
    "    model = builder.build_model()\n",
    "    \n",
    "    # Load model\n",
    "    checkpoint = torch.load(\n",
    "        model_path, \n",
    "        map_location=torch.device('cuda' if torch.cuda.is_available() else 'cpu'),\n",
    "        weights_only=True\n",
    "    )\n",
    "    \n",
    "    # Load the state dict\n",
    "    if isinstance(checkpoint, dict):\n",
    "        if 'model_state_dict' in checkpoint:\n",
    "            model.load_state_dict(checkpoint['model_state_dict'])\n",
    "        else:\n",
    "            model.load_state_dict(checkpoint)\n",
    "    else:\n",
    "        model = checkpoint\n",
    "    \n",
    "    evaluator = ModelEvaluator(model)\n",
    "    \n",
    "    # Rest of your evaluation code remains the same...\n",
    "    check_data_loading(test_loader)\n",
    "    \n",
    "    preds, labels, probs = evaluator.evaluate(test_loader)\n",
    "    class_names = ['Benign', 'Malignant']\n",
    "    \n",
    "    # Create output directories\n",
    "    output_dir = os.path.join(get_project_root(), 'outputs', 'plots')\n",
    "    os.makedirs(output_dir, exist_ok=True)\n",
    "    \n",
    "    # Generate reports\n",
    "    evaluator.generate_classification_report(labels, preds, target_names=class_names)\n",
    "    evaluator.plot_confusion_matrix(labels, preds, class_names, \n",
    "                                  save_path=os.path.join(output_dir, 'confusion_matrix.png'))\n",
    "    roc_auc = evaluator.plot_roc_curve(labels, probs, class_names,\n",
    "                                     save_path=os.path.join(output_dir, 'roc_curve.png'))\n",
    "    avg_precision = evaluator.plot_precision_recall_curve(labels, probs, class_names,\n",
    "                                                        save_path=os.path.join(output_dir, 'pr_curve.png'))\n",
    "    \n",
    "    return {\n",
    "        'accuracy': (labels == preds).mean(),\n",
    "        'roc_auc': roc_auc,\n",
    "        'avg_precision': avg_precision\n",
    "    }"
   ]
  },
  {
   "cell_type": "code",
   "execution_count": 12,
   "id": "1c5e63c3-92e8-4f44-b884-11a23eafe80e",
   "metadata": {
    "scrolled": true
   },
   "outputs": [
    {
     "name": "stderr",
     "output_type": "stream",
     "text": [
      "/mnt/d/ML/Projects/Breast-Thermography/venv/lib/python3.11/site-packages/albumentations/core/validation.py:114: UserWarning: ShiftScaleRotate is a special case of Affine transform. Please use Affine transform instead.\n",
      "  original_init(self, **validated_kwargs)\n",
      "/mnt/d/ML/Projects/Breast-Thermography/src/data_prep.py:387: UserWarning: Argument(s) 'var_limit' are not valid for transform GaussNoise\n",
      "  A.GaussNoise(var_limit=(10.0 * strength, 50.0 * strength), p=0.1 * strength),\n",
      "/mnt/d/ML/Projects/Breast-Thermography/src/data_prep.py:391: UserWarning: Argument(s) 'max_holes, max_height, max_width, min_holes, min_height, min_width, fill_value' are not valid for transform CoarseDropout\n",
      "  A.CoarseDropout(\n"
     ]
    },
    {
     "name": "stdout",
     "output_type": "stream",
     "text": [
      "Loading diagnostics from: /mnt/d/ML/Projects/Breast-Thermography/data/raw/Breast-Thermography-Raw/Diagnostics.xlsx\n",
      "\n",
      "Processing 95 samples...\n"
     ]
    },
    {
     "name": "stderr",
     "output_type": "stream",
     "text": [
      "Processing:   0%|                                                                         | 0/95 [00:00<?, ?it/s]"
     ]
    },
    {
     "name": "stdout",
     "output_type": "stream",
     "text": [
      "\n",
      "Error processing IIR0100: single positional indexer is out-of-bounds\n"
     ]
    },
    {
     "name": "stderr",
     "output_type": "stream",
     "text": [
      "Processing:   3%|██                                                               | 3/95 [00:00<00:03, 27.99it/s]"
     ]
    },
    {
     "name": "stdout",
     "output_type": "stream",
     "text": [
      "\n",
      "Error processing IIR0117: single positional indexer is out-of-bounds\n"
     ]
    },
    {
     "name": "stderr",
     "output_type": "stream",
     "text": [
      "Processing:   6%|████                                                             | 6/95 [00:00<00:03, 27.75it/s]"
     ]
    },
    {
     "name": "stdout",
     "output_type": "stream",
     "text": [
      "\n",
      "Error processing IIR0111: single positional indexer is out-of-bounds\n"
     ]
    },
    {
     "name": "stderr",
     "output_type": "stream",
     "text": [
      "Processing:   9%|██████▏                                                          | 9/95 [00:00<00:03, 27.63it/s]"
     ]
    },
    {
     "name": "stdout",
     "output_type": "stream",
     "text": [
      "\n",
      "Error processing IIR0119: single positional indexer is out-of-bounds\n"
     ]
    },
    {
     "name": "stderr",
     "output_type": "stream",
     "text": [
      "Processing:  13%|████████                                                        | 12/95 [00:00<00:02, 27.67it/s]"
     ]
    },
    {
     "name": "stdout",
     "output_type": "stream",
     "text": [
      "\n",
      "Error processing IIR0112: single positional indexer is out-of-bounds\n"
     ]
    },
    {
     "name": "stderr",
     "output_type": "stream",
     "text": [
      "Processing:  17%|██████████▊                                                     | 16/95 [00:00<00:02, 30.99it/s]"
     ]
    },
    {
     "name": "stdout",
     "output_type": "stream",
     "text": [
      "\n",
      "Error processing IIR0114: single positional indexer is out-of-bounds\n"
     ]
    },
    {
     "name": "stderr",
     "output_type": "stream",
     "text": [
      "Processing:  21%|█████████████▍                                                  | 20/95 [00:00<00:02, 32.85it/s]"
     ]
    },
    {
     "name": "stdout",
     "output_type": "stream",
     "text": [
      "\n",
      "Error processing IIR0102: single positional indexer is out-of-bounds\n",
      "\n",
      "Error processing IIR0098: single positional indexer is out-of-bounds\n",
      "\n",
      "Error processing IIR0099: single positional indexer is out-of-bounds\n"
     ]
    },
    {
     "name": "stderr",
     "output_type": "stream",
     "text": [
      "Processing:  25%|████████████████▏                                               | 24/95 [00:00<00:03, 21.20it/s]"
     ]
    },
    {
     "name": "stdout",
     "output_type": "stream",
     "text": [
      "\n",
      "Error processing IIR0096: single positional indexer is out-of-bounds\n"
     ]
    },
    {
     "name": "stderr",
     "output_type": "stream",
     "text": [
      "Processing:  47%|██████████████████████████████▎                                 | 45/95 [00:01<00:00, 55.96it/s]"
     ]
    },
    {
     "name": "stdout",
     "output_type": "stream",
     "text": [
      "\n",
      "Error processing IIR0103: single positional indexer is out-of-bounds\n"
     ]
    },
    {
     "name": "stderr",
     "output_type": "stream",
     "text": [
      "Processing:  55%|███████████████████████████████████                             | 52/95 [00:01<00:00, 57.10it/s]"
     ]
    },
    {
     "name": "stdout",
     "output_type": "stream",
     "text": [
      "\n",
      "Error processing IIR0101: single positional indexer is out-of-bounds\n"
     ]
    },
    {
     "name": "stderr",
     "output_type": "stream",
     "text": [
      "Processing:  62%|███████████████████████████████████████▋                        | 59/95 [00:01<00:00, 57.94it/s]"
     ]
    },
    {
     "name": "stdout",
     "output_type": "stream",
     "text": [
      "\n",
      "Error processing IIR0105: single positional indexer is out-of-bounds\n"
     ]
    },
    {
     "name": "stderr",
     "output_type": "stream",
     "text": [
      "Processing:  69%|████████████████████████████████████████████▍                   | 66/95 [00:01<00:00, 58.57it/s]"
     ]
    },
    {
     "name": "stdout",
     "output_type": "stream",
     "text": [
      "\n",
      "Error processing IIR0118: single positional indexer is out-of-bounds\n"
     ]
    },
    {
     "name": "stderr",
     "output_type": "stream",
     "text": [
      "Processing:  77%|█████████████████████████████████████████████████▏              | 73/95 [00:01<00:00, 59.11it/s]"
     ]
    },
    {
     "name": "stdout",
     "output_type": "stream",
     "text": [
      "\n",
      "Error processing IIR0115: single positional indexer is out-of-bounds\n"
     ]
    },
    {
     "name": "stderr",
     "output_type": "stream",
     "text": [
      "Processing:  84%|█████████████████████████████████████████████████████▉          | 80/95 [00:01<00:00, 59.46it/s]"
     ]
    },
    {
     "name": "stdout",
     "output_type": "stream",
     "text": [
      "\n",
      "Error processing IIR0110: single positional indexer is out-of-bounds\n"
     ]
    },
    {
     "name": "stderr",
     "output_type": "stream",
     "text": [
      "Processing:  92%|██████████████████████████████████████████████████████████▌     | 87/95 [00:01<00:00, 59.43it/s]"
     ]
    },
    {
     "name": "stdout",
     "output_type": "stream",
     "text": [
      "\n",
      "Error processing IIR0116: single positional indexer is out-of-bounds\n",
      "\n",
      "Error processing IIR0108: single positional indexer is out-of-bounds\n",
      "\n",
      "Error processing IIR0104: single positional indexer is out-of-bounds\n"
     ]
    },
    {
     "name": "stderr",
     "output_type": "stream",
     "text": [
      "Processing: 100%|████████████████████████████████████████████████████████████████| 95/95 [00:02<00:00, 44.70it/s]"
     ]
    },
    {
     "name": "stdout",
     "output_type": "stream",
     "text": [
      "\n",
      "Processing complete!\n",
      "  - Processed: 76/95 samples\n",
      "  - Errors: 19\n",
      "  - Time taken: 2.13 seconds\n",
      "\n",
      "Warning: Some samples could not be processed. Check the error messages above.\n",
      "\n",
      "Processed data saved to: /mnt/d/ML/Projects/Breast-Thermography/data/processed\n"
     ]
    },
    {
     "name": "stderr",
     "output_type": "stream",
     "text": [
      "\n"
     ]
    },
    {
     "name": "stdout",
     "output_type": "stream",
     "text": [
      "\n",
      "============================================================\n",
      "Checking Data Loading...\n",
      "============================================================\n"
     ]
    },
    {
     "name": "stderr",
     "output_type": "stream",
     "text": [
      "WARNING:root:Patient IIR0023 is missing 3 view(s) out of 3\n",
      "WARNING:root:Patient IIR0086 is missing 3 view(s) out of 3\n",
      "WARNING:root:Patient IIR0026 is missing 3 view(s) out of 3\n",
      "WARNING:root:Patient IIR0109 is missing 3 view(s) out of 3\n",
      "WARNING:root:Patient IIR0068 is missing 3 view(s) out of 3\n",
      "WARNING:root:Patient IIR0106 is missing 3 view(s) out of 3\n",
      "WARNING:root:Patient IIR0090 is missing 3 view(s) out of 3\n",
      "WARNING:root:Patient IIR0045 is missing 3 view(s) out of 3\n",
      "WARNING:root:Patient IIR0048 is missing 3 view(s) out of 3\n",
      "WARNING:root:Patient IIR0082 is missing 3 view(s) out of 3\n",
      "WARNING:root:Patient IIR0033 is missing 3 view(s) out of 3\n",
      "WARNING:root:Patient IIR0107 is missing 3 view(s) out of 3\n",
      "WARNING:root:Patient IIR0073 is missing 3 view(s) out of 3\n",
      "WARNING:root:Patient IIR0063 is missing 3 view(s) out of 3\n",
      "WARNING:root:Patient IIR0043 is missing 3 view(s) out of 3\n",
      "WARNING:root:Patient IIR0022 is missing 3 view(s) out of 3\n",
      "WARNING:root:Patient IIR0097 is missing 3 view(s) out of 3\n",
      "WARNING:root:Patient IIR0015 is missing 3 view(s) out of 3\n",
      "WARNING:root:Patient IIR0087 is missing 3 view(s) out of 3\n",
      "WARNING:root:Patient IIR0002 is missing 3 view(s) out of 3\n",
      "WARNING:root:Patient IIR0113 is missing 3 view(s) out of 3\n",
      "WARNING:root:Patient IIR0019 is missing 3 view(s) out of 3\n",
      "WARNING:root:Patient IIR0003 is missing 3 view(s) out of 3\n",
      "WARNING:root:Patient IIR0080 is missing 3 view(s) out of 3\n"
     ]
    },
    {
     "name": "stdout",
     "output_type": "stream",
     "text": [
      "\n",
      "Batch 1:\n",
      "Images shape: torch.Size([4, 9, 224, 224])\n",
      "Image range: -2.12 to -1.80\n",
      "Labels: tensor([0, 0, 0, 1])\n",
      "Patient IDs: ['IIR0023', 'IIR0090', 'IIR0033', 'IIR0043']\n",
      "\n",
      "Sample 1:\n",
      "  Patient ID: IIR0023\n",
      "  Label: 0 (Benign)\n",
      "  Image stats - Mean: -1.9860, Std: 0.1327\n",
      "\n",
      "Sample 2:\n",
      "  Patient ID: IIR0090\n",
      "  Label: 0 (Benign)\n",
      "  Image stats - Mean: -1.9860, Std: 0.1327\n",
      "\n",
      "Sample 3:\n",
      "  Patient ID: IIR0033\n",
      "  Label: 0 (Benign)\n",
      "  Image stats - Mean: -1.9860, Std: 0.1327\n",
      "\n",
      "Batch 2:\n",
      "Images shape: torch.Size([4, 9, 224, 224])\n",
      "Image range: -2.12 to -1.80\n",
      "Labels: tensor([1, 0, 1, 0])\n",
      "Patient IDs: ['IIR0086', 'IIR0068', 'IIR0048', 'IIR0073']\n",
      "\n",
      "Sample 1:\n",
      "  Patient ID: IIR0086\n",
      "  Label: 1 (Malignant)\n",
      "  Image stats - Mean: -1.9860, Std: 0.1327\n",
      "\n",
      "Sample 2:\n",
      "  Patient ID: IIR0068\n",
      "  Label: 0 (Benign)\n",
      "  Image stats - Mean: -1.9860, Std: 0.1327\n",
      "\n",
      "Sample 3:\n",
      "  Patient ID: IIR0048\n",
      "  Label: 1 (Malignant)\n",
      "  Image stats - Mean: -1.9860, Std: 0.1327\n"
     ]
    },
    {
     "name": "stderr",
     "output_type": "stream",
     "text": [
      "Evaluating:   0%|                                                                          | 0/6 [00:00<?, ?it/s]WARNING:root:Patient IIR0026 is missing 3 view(s) out of 3\n",
      "WARNING:root:Patient IIR0109 is missing 3 view(s) out of 3\n",
      "WARNING:root:Patient IIR0086 is missing 3 view(s) out of 3\n",
      "WARNING:root:Patient IIR0023 is missing 3 view(s) out of 3\n",
      "WARNING:root:Patient IIR0106 is missing 3 view(s) out of 3\n",
      "WARNING:root:Patient IIR0045 is missing 3 view(s) out of 3\n",
      "WARNING:root:Patient IIR0068 is missing 3 view(s) out of 3\n",
      "WARNING:root:Patient IIR0090 is missing 3 view(s) out of 3\n",
      "WARNING:root:Patient IIR0048 is missing 3 view(s) out of 3\n",
      "WARNING:root:Patient IIR0033 is missing 3 view(s) out of 3\n",
      "WARNING:root:Patient IIR0082 is missing 3 view(s) out of 3\n",
      "WARNING:root:Patient IIR0107 is missing 3 view(s) out of 3\n",
      "WARNING:root:Patient IIR0063 is missing 3 view(s) out of 3\n",
      "WARNING:root:Patient IIR0043 is missing 3 view(s) out of 3\n",
      "WARNING:root:Patient IIR0073 is missing 3 view(s) out of 3\n",
      "WARNING:root:Patient IIR0022 is missing 3 view(s) out of 3\n",
      "WARNING:root:Patient IIR0087 is missing 3 view(s) out of 3\n",
      "WARNING:root:Patient IIR0097 is missing 3 view(s) out of 3\n",
      "WARNING:root:Patient IIR0015 is missing 3 view(s) out of 3\n",
      "WARNING:root:Patient IIR0002 is missing 3 view(s) out of 3\n",
      "WARNING:root:Patient IIR0003 is missing 3 view(s) out of 3\n",
      "WARNING:root:Patient IIR0113 is missing 3 view(s) out of 3\n",
      "WARNING:root:Patient IIR0019 is missing 3 view(s) out of 3\n",
      "WARNING:root:Patient IIR0080 is missing 3 view(s) out of 3\n",
      "Evaluating: 100%|██████████████████████████████████████████████████████████████████| 6/6 [00:00<00:00, 18.22it/s]\n",
      "/mnt/d/ML/Projects/Breast-Thermography/venv/lib/python3.11/site-packages/sklearn/metrics/_classification.py:1731: UndefinedMetricWarning: Precision is ill-defined and being set to 0.0 in labels with no predicted samples. Use `zero_division` parameter to control this behavior.\n",
      "  _warn_prf(average, modifier, f\"{metric.capitalize()} is\", result.shape[0])\n",
      "/mnt/d/ML/Projects/Breast-Thermography/venv/lib/python3.11/site-packages/sklearn/metrics/_classification.py:1731: UndefinedMetricWarning: Precision is ill-defined and being set to 0.0 in labels with no predicted samples. Use `zero_division` parameter to control this behavior.\n",
      "  _warn_prf(average, modifier, f\"{metric.capitalize()} is\", result.shape[0])\n",
      "/mnt/d/ML/Projects/Breast-Thermography/venv/lib/python3.11/site-packages/sklearn/metrics/_classification.py:1731: UndefinedMetricWarning: Precision is ill-defined and being set to 0.0 in labels with no predicted samples. Use `zero_division` parameter to control this behavior.\n",
      "  _warn_prf(average, modifier, f\"{metric.capitalize()} is\", result.shape[0])\n"
     ]
    },
    {
     "name": "stdout",
     "output_type": "stream",
     "text": [
      "\n",
      "============================================================\n",
      "Classification Report\n",
      "============================================================\n",
      "              precision    recall  f1-score   support\n",
      "\n",
      "      Benign       0.71      1.00      0.83        17\n",
      "   Malignant       0.00      0.00      0.00         7\n",
      "\n",
      "    accuracy                           0.71        24\n",
      "   macro avg       0.35      0.50      0.41        24\n",
      "weighted avg       0.50      0.71      0.59        24\n",
      "\n"
     ]
    },
    {
     "data": {
      "image/png": "[encoded data removed]",
      "text/plain": [
       "<Figure size 800x600 with 2 Axes>"
      ]
     },
     "metadata": {},
     "output_type": "display_data"
    },
    {
     "data": {
      "image/png": "[encoded data removed]",
      "text/plain": [
       "<Figure size 800x600 with 1 Axes>"
      ]
     },
     "metadata": {},
     "output_type": "display_data"
    },
    {
     "data": {
      "image/png": "[encoded data removed]",
      "text/plain": [
       "<Figure size 800x600 with 1 Axes>"
      ]
     },
     "metadata": {},
     "output_type": "display_data"
    },
    {
     "name": "stdout",
     "output_type": "stream",
     "text": [
      "\n",
      "Evaluation Results:\n",
      "accuracy: 0.7083\n",
      "roc_auc: 0.5000\n",
      "avg_precision: 0.2917\n"
     ]
    }
   ],
   "source": [
    "# Main execution block\n",
    "if __name__ == \"__main__\" or \"get_ipython\" in globals():\n",
    "    # Initialize data preprocessor with config path\n",
    "    config_path = os.path.join(get_project_root(), 'configs', 'config.yaml')\n",
    "    preprocessor = DataPreprocessor(config_path=config_path)\n",
    "    \n",
    "    # Create dataloaders\n",
    "    train_loader, val_loader, _ = preprocessor.create_datasets()\n",
    "    test_loader = val_loader  # Using validation set as test for evaluation\n",
    "    \n",
    "    # Set model path\n",
    "    model_path = os.path.join(get_project_root(), 'notebooks', 'outputs', 'models', 'final_model.pth')\n",
    "    \n",
    "    # Run evaluation\n",
    "    results = run_evaluation(model_path=model_path, test_loader=test_loader)\n",
    "    \n",
    "    print(\"\\nEvaluation Results:\")\n",
    "    for k, v in results.items():\n",
    "        print(f\"{k}: {v:.4f}\")"
   ]
  },
  {
   "cell_type": "code",
   "execution_count": null,
   "id": "b095b789-3c64-4321-b7ca-c91f658d4dba",
   "metadata": {},
   "outputs": [],
   "source": []
  }
 ],
 "metadata": {
  "kernelspec": {
   "display_name": "Python 3 (ipykernel)",
   "language": "python",
   "name": "python3"
  },
  "language_info": {
   "codemirror_mode": {
    "name": "ipython",
    "version": 3
   },
   "file_extension": ".py",
   "mimetype": "text/x-python",
   "name": "python",
   "nbconvert_exporter": "python",
   "pygments_lexer": "ipython3",
   "version": "3.11.13"
  }
 },
 "nbformat": 4,
 "nbformat_minor": 5
}
