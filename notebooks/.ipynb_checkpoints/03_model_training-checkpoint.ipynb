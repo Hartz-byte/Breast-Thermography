{
 "cells": [
  {
   "cell_type": "code",
   "execution_count": null,
   "id": "a9ac0b34-6e38-4003-94f9-440217800e85",
   "metadata": {},
   "outputs": [],
   "source": [
    "# Training setup\n",
    "from src.train import Trainer\n",
    "from src.model import ModelBuilder"
   ]
  },
  {
   "cell_type": "code",
   "execution_count": null,
   "id": "f8d4f3a7-3aeb-4c2a-8f86-bd662a1f289d",
   "metadata": {},
   "outputs": [],
   "source": [
    "# Initialize trainer\n",
    "trainer = Trainer()\n",
    "\n",
    "# Build and test model\n",
    "model_builder = ModelBuilder()\n",
    "model = model_builder.build_model()"
   ]
  },
  {
   "cell_type": "code",
   "execution_count": null,
   "id": "58d59e39-d57e-4069-a252-172b193a848f",
   "metadata": {},
   "outputs": [],
   "source": [
    "# Start training\n",
    "trained_model = trainer.train()\n",
    "\n",
    "# Evaluate results\n",
    "if hasattr(trainer, 'train_losses'):\n",
    "    print(f\"Final training loss: {trainer.train_losses[-1]:.4f}\")\n",
    "    print(f\"Final validation loss: {trainer.val_losses[-1]:.4f}\")"
   ]
  },
  {
   "cell_type": "code",
   "execution_count": null,
   "id": "0b7da516-fa0c-44fe-82db-3d8fd6219e1d",
   "metadata": {},
   "outputs": [],
   "source": []
  }
 ],
 "metadata": {
  "kernelspec": {
   "display_name": "Python 3 (ipykernel)",
   "language": "python",
   "name": "python3"
  },
  "language_info": {
   "codemirror_mode": {
    "name": "ipython",
    "version": 3
   },
   "file_extension": ".py",
   "mimetype": "text/x-python",
   "name": "python",
   "nbconvert_exporter": "python",
   "pygments_lexer": "ipython3",
   "version": "3.12.3"
  }
 },
 "nbformat": 4,
 "nbformat_minor": 5
}
