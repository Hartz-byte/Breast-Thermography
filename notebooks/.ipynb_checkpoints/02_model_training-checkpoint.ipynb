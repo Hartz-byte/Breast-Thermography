{
 "cells": [
  {
   "cell_type": "code",
   "execution_count": null,
   "id": "58d59e39-d57e-4069-a252-172b193a848f",
   "metadata": {},
   "outputs": [],
   "source": [
    "# Training setup\n",
    "from src.train import Trainer\n",
    "from src.model import ModelBuilder\n",
    "\n",
    "# Initialize trainer\n",
    "trainer = Trainer()\n",
    "\n",
    "# Build and test model\n",
    "model_builder = ModelBuilder()\n",
    "model = model_builder.build_model()\n",
    "\n",
    "# Start training\n",
    "trained_model = trainer.train()\n",
    "\n",
    "# Evaluate results\n",
    "if hasattr(trainer, 'train_losses'):\n",
    "    print(f\"Final training loss: {trainer.train_losses[-1]:.4f}\")\n",
    "    print(f\"Final validation loss: {trainer.val_losses[-1]:.4f}\")"
   ]
  }
 ],
 "metadata": {
  "kernelspec": {
   "display_name": "Python 3 (ipykernel)",
   "language": "python",
   "name": "python3"
  },
  "language_info": {
   "codemirror_mode": {
    "name": "ipython",
    "version": 3
   },
   "file_extension": ".py",
   "mimetype": "text/x-python",
   "name": "python",
   "nbconvert_exporter": "python",
   "pygments_lexer": "ipython3",
   "version": "3.12.3"
  }
 },
 "nbformat": 4,
 "nbformat_minor": 5
}
