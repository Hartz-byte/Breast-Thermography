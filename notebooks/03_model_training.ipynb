{
 "cells": [
  {
   "cell_type": "code",
   "execution_count": 1,
   "id": "d6e38ff5-5dfd-487c-86bf-7628ae063b47",
   "metadata": {},
   "outputs": [],
   "source": [
    "# Imports\n",
    "import os\n",
    "import sys\n",
    "import yaml\n",
    "import torch\n",
    "import torch.nn as nn\n",
    "import numpy as np\n",
    "import matplotlib.pyplot as plt\n",
    "from torch.cuda.amp import GradScaler\n",
    "from tqdm import tqdm\n",
    "from pathlib import Path\n",
    "from torch.utils.data import DataLoader\n",
    "import shutil\n",
    "from datetime import datetime\n",
    "\n",
    "project_root = Path.cwd().parent\n",
    "sys.path.append(str(project_root))\n",
    "\n",
    "from src.train import Trainer\n",
    "from visualize_training import plot_training_metrics, print_best_metrics"
   ]
  },
  {
   "cell_type": "code",
   "execution_count": 2,
   "id": "220e2fff-4c23-46f7-b172-73bb73cf49a8",
   "metadata": {},
   "outputs": [],
   "source": [
    "class TrainingMonitor:\n",
    "    \"\"\"Utility class for monitoring and visualizing training progress.\"\"\"\n",
    "    \n",
    "    @staticmethod\n",
    "    def plot_training_history(trainer, save_path=None):\n",
    "        \"\"\"Plot training and validation metrics.\"\"\"\n",
    "        if not hasattr(trainer, 'train_losses') or not hasattr(trainer, 'val_losses'):\n",
    "            print(\"No training history found to plot.\")\n",
    "            return\n",
    "            \n",
    "        fig, (ax1, ax2) = plt.subplots(1, 2, figsize=(18, 6))\n",
    "        \n",
    "        # Plot losses\n",
    "        ax1.plot(trainer.train_losses, label='Train Loss')\n",
    "        ax1.plot(trainer.val_losses, label='Validation Loss')\n",
    "        ax1.set_title('Training and Validation Loss')\n",
    "        ax1.set_xlabel('Epoch')\n",
    "        ax1.set_ylabel('Loss')\n",
    "        ax1.legend()\n",
    "        ax1.grid(True)\n",
    "        \n",
    "        # Plot accuracies if available\n",
    "        if hasattr(trainer, 'train_accuracies'):\n",
    "            ax2.plot(trainer.train_accuracies, label='Train Accuracy')\n",
    "            ax2.plot(trainer.val_accuracies, label='Validation Accuracy')\n",
    "            ax2.set_title('Training and Validation Accuracy')\n",
    "            ax2.set_xlabel('Epoch')\n",
    "            ax2.set_ylabel('Accuracy')\n",
    "            ax2.legend()\n",
    "            ax2.grid(True)\n",
    "        \n",
    "        plt.tight_layout()\n",
    "        if save_path:\n",
    "            os.makedirs(os.path.dirname(save_path), exist_ok=True)\n",
    "            plt.savefig(save_path, dpi=300, bbox_inches='tight')\n",
    "        plt.show()"
   ]
  },
  {
   "cell_type": "code",
   "execution_count": 3,
   "id": "490d213b-e1cf-487d-b532-6064605939a2",
   "metadata": {},
   "outputs": [],
   "source": [
    "def save_checkpoint(state, is_best, filename='checkpoint.pth'):\n",
    "    \"\"\"Save model checkpoint and update best model if applicable.\"\"\"\n",
    "    # Save regular checkpoint\n",
    "    torch.save(state, filename)\n",
    "    \n",
    "    # If this is the best model, save a copy\n",
    "    if is_best:\n",
    "        best_model_path = os.path.join(os.path.dirname(filename), 'best_model.pth')\n",
    "        shutil.copyfile(filename, best_model_path)\n",
    "        print(f\"New best model saved with accuracy: {state['best_acc']*100:.2f}%\")\n"
   ]
  },
  {
   "cell_type": "code",
   "execution_count": 4,
   "id": "d6436c77-24c7-44b7-8866-2e4065123a64",
   "metadata": {
    "scrolled": true
   },
   "outputs": [],
   "source": [
    "def main():\n",
    "    # Configuration\n",
    "    config_path = project_root / 'configs' / 'config.yaml'\n",
    "    \n",
    "    try:\n",
    "        # Initialize trainer with config\n",
    "        print(\"Initializing trainer...\")\n",
    "        trainer = Trainer(config_path=config_path)\n",
    "        \n",
    "        # Create output directories\n",
    "        os.makedirs(trainer.config['output']['model_dir'], exist_ok=True)\n",
    "        os.makedirs(trainer.config['output']['plot_dir'], exist_ok=True)\n",
    "        \n",
    "        # Build model\n",
    "        print(\"\\nBuilding model...\")\n",
    "        model = trainer.build_model()\n",
    "        trainer.model = model\n",
    "        \n",
    "        # Get data loaders\n",
    "        print(\"\\nPreparing data...\")\n",
    "        df = trainer.data_preprocessor.load_diagnostics()\n",
    "        print(\"\\nDataFrame loaded with columns:\", df.columns.tolist())\n",
    "        print(\"Sample data:\")\n",
    "        print(df[['Image', 'Left', 'Right', 'combined_label']].head())\n",
    "        \n",
    "        # Create datasets\n",
    "        print(\"\\nCreating datasets...\")\n",
    "        train_loader, val_loader, _ = trainer.data_preprocessor.create_datasets()\n",
    "        \n",
    "        # Print dataset information\n",
    "        print(f\"\\nTraining samples: {len(train_loader.dataset)}\")\n",
    "        print(f\"Validation samples: {len(val_loader.dataset)}\")\n",
    "        \n",
    "        # Set batch size\n",
    "        batch_size = trainer.config['training']['batch_size']\n",
    "        train_loader = DataLoader(\n",
    "            train_loader.dataset,\n",
    "            batch_size=batch_size,\n",
    "            shuffle=True,\n",
    "            num_workers=trainer.config['hardware'].get('num_workers', 4),\n",
    "            pin_memory=True,\n",
    "            drop_last=True\n",
    "        )\n",
    "        val_loader = DataLoader(\n",
    "            val_loader.dataset,\n",
    "            batch_size=batch_size,\n",
    "            shuffle=False,\n",
    "            num_workers=trainer.config['hardware'].get('num_workers', 4),\n",
    "            pin_memory=True\n",
    "        )\n",
    "        \n",
    "        # Initialize optimizer and scaler\n",
    "        print(\"\\nInitializing optimizer and scaler...\")\n",
    "        optimizer, scheduler = trainer.build_optimizer(model)\n",
    "        \n",
    "        # Use CrossEntropyLoss for multi-class classification\n",
    "        criterion = nn.CrossEntropyLoss()\n",
    "        scaler = torch.amp.GradScaler('cuda')\n",
    "        \n",
    "        # Training state\n",
    "        best_acc = 0.0\n",
    "        trainer.train_losses = []\n",
    "        trainer.val_losses = []\n",
    "        trainer.train_accuracies = []\n",
    "        trainer.val_accuracies = []\n",
    "        \n",
    "        # Start training\n",
    "        print(\"\\nStarting training...\")\n",
    "        num_epochs = trainer.config['training']['epochs']\n",
    "        \n",
    "        for epoch in range(num_epochs):\n",
    "            # Train for one epoch\n",
    "            train_loss, train_acc = trainer.train_epoch(\n",
    "                model=model,\n",
    "                train_loader=train_loader,\n",
    "                criterion=criterion,\n",
    "                optimizer=optimizer,\n",
    "                scaler=scaler,\n",
    "                epoch=epoch\n",
    "            )\n",
    "            \n",
    "            # Validate\n",
    "            val_loss, val_acc, val_metrics = trainer.validate_epoch(\n",
    "                model=model,\n",
    "                val_loader=val_loader,\n",
    "                criterion=criterion,\n",
    "                epoch=epoch\n",
    "            )\n",
    "            \n",
    "            # Update learning rate\n",
    "            scheduler.step()\n",
    "            \n",
    "            # Track metrics\n",
    "            trainer.train_losses.append(train_loss)\n",
    "            trainer.val_losses.append(val_loss)\n",
    "            trainer.train_accuracies.append(train_acc)\n",
    "            trainer.val_accuracies.append(val_acc)\n",
    "            \n",
    "            # Check if this is the best model\n",
    "            is_best = train_acc > best_acc\n",
    "            if is_best:\n",
    "                best_acc = train_acc\n",
    "                best_metrics = {\n",
    "                    'epoch': epoch,\n",
    "                    'train_loss': train_loss,\n",
    "                    'val_loss': val_loss,\n",
    "                    'train_acc': train_acc,\n",
    "                    'val_acc': val_acc,\n",
    "                    'classification_report': val_metrics.get('classification_report', {})\n",
    "                }\n",
    "                print(f\"New best training accuracy: {best_acc*100:.2f}%\")\n",
    "            \n",
    "            # Save checkpoint\n",
    "            checkpoint = {\n",
    "                'epoch': epoch + 1,\n",
    "                'state_dict': model.state_dict(),\n",
    "                'best_acc': best_acc,  # Now tracking best training accuracy\n",
    "                'optimizer': optimizer.state_dict(),\n",
    "                'scheduler': scheduler.state_dict(),\n",
    "                'train_losses': trainer.train_losses,\n",
    "                'val_losses': trainer.val_losses,\n",
    "                'train_accuracies': trainer.train_accuracies,\n",
    "                'val_accuracies': trainer.val_accuracies,\n",
    "                'best_metrics': best_metrics,\n",
    "                'config': trainer.config\n",
    "            }\n",
    "            \n",
    "            # Save checkpoint\n",
    "            checkpoint_path = os.path.join(\n",
    "                trainer.config['output']['model_dir'],\n",
    "                'checkpoint.pth'\n",
    "            )\n",
    "            save_checkpoint(checkpoint, is_best, checkpoint_path)\n",
    "            \n",
    "            # Print progress\n",
    "            print(f\"Epoch {epoch+1}/{num_epochs} - \"\n",
    "                  f\"Train Loss: {train_loss:.4f}, Train Acc: {train_acc*100:.2f}% - \"\n",
    "                  f\"Val Loss: {val_loss:.4f}, Val Acc: {val_acc*100:.2f}%\"\n",
    "                  f\"{' (Best!)' if is_best else ''}\")\n",
    "        \n",
    "        # Final visualization\n",
    "        print(\"\\nTraining completed!\")\n",
    "        print(\"\\nBest Model Metrics (Based on Training Accuracy):\")\n",
    "        print(\"=\" * 70)\n",
    "        print(f\"Epoch: {best_metrics['epoch'] + 1}\")\n",
    "        print(f\"Training Accuracy: {best_metrics['train_acc']*100:.2f}% (Used for model selection)\")\n",
    "        print(f\"Validation Accuracy: {best_metrics['val_acc']*100:.2f}%\")\n",
    "        print(f\"Training Loss: {best_metrics['train_loss']:.4f}\")\n",
    "        print(f\"Validation Loss: {best_metrics['val_loss']:.4f}\")\n",
    "        \n",
    "        # Plot training history\n",
    "        plot_path = os.path.join(trainer.config['output']['plot_dir'], 'training_history.png')\n",
    "        TrainingMonitor.plot_training_history(trainer, save_path=plot_path)\n",
    "        \n",
    "        # Show detailed metrics\n",
    "        print(\"\\nDetailed Classification Report:\")\n",
    "        if 'classification_report' in best_metrics and best_metrics['classification_report']:\n",
    "            report = best_metrics['classification_report']\n",
    "            if 'accuracy' in report:\n",
    "                print(f\"Overall Accuracy: {report['accuracy']*100:.2f}%\")\n",
    "            if 'weighted avg' in report:\n",
    "                avg = report['weighted avg']\n",
    "                print(f\"Weighted Avg - Precision: {avg['precision']:.4f}, \"\n",
    "                      f\"Recall: {avg['recall']:.4f}, F1: {avg['f1-score']:.4f}\")\n",
    "        \n",
    "        print(\"\\nTraining completed successfully!\")\n",
    "        \n",
    "    except Exception as e:\n",
    "        print(f\"\\nError during training: {str(e)}\")\n",
    "        import traceback\n",
    "        traceback.print_exc()\n",
    "        raise"
   ]
  },
  {
   "cell_type": "code",
   "execution_count": 5,
   "id": "bb37ce70-83cd-44af-8235-e93d1c04053a",
   "metadata": {},
   "outputs": [
    {
     "name": "stdout",
     "output_type": "stream",
     "text": [
      "Initializing trainer...\n",
      "Using device: cuda\n",
      "\n",
      "Building model...\n"
     ]
    },
    {
     "name": "stderr",
     "output_type": "stream",
     "text": [
      "2025-08-27 21:14:33,798 - INFO - Loading pretrained weights from Hugging Face hub (timm/resnet18.a1_in1k)\n",
      "2025-08-27 21:14:34,371 - INFO - [timm/resnet18.a1_in1k] Safe alternative available for 'pytorch_model.bin' (as 'model.safetensors'). Loading weights using safetensors.\n",
      "2025-08-27 21:14:34,827 - INFO - Model parameters: {'total': 16145476, 'trainable': 16145476, 'non_trainable': 0}\n"
     ]
    },
    {
     "name": "stdout",
     "output_type": "stream",
     "text": [
      "\n",
      "Preparing data...\n",
      "Loading diagnostics from: /mnt/d/ML/Projects/Breast-Thermography/data/raw/Breast-Thermography-Raw/Diagnostics.xlsx\n"
     ]
    },
    {
     "name": "stderr",
     "output_type": "stream",
     "text": [
      "2025-08-27 21:14:36,543 - INFO - Class distribution: {0: 84, 1: 35}\n",
      "2025-08-27 21:14:36,544 - INFO - Using effective class weights: [0.5983625054359436, 1.4016374349594116]\n",
      "2025-08-27 21:14:36,590 - INFO - Class distribution: {0: 84, 1: 35}\n",
      "2025-08-27 21:14:36,591 - INFO - Using effective class weights: [0.5983625054359436, 1.4016374349594116]\n",
      "2025-08-27 21:14:36,593 - INFO - \n",
      "==================================================\n",
      "2025-08-27 21:14:36,594 - INFO - DATASET SUMMARY\n",
      "2025-08-27 21:14:36,595 - INFO - ==================================================\n",
      "2025-08-27 21:14:36,596 - INFO - Total samples: 119\n",
      "2025-08-27 21:14:36,597 - INFO - Class distribution:\n",
      "2025-08-27 21:14:36,598 - INFO -   - Benign: 84 samples\n",
      "2025-08-27 21:14:36,599 - INFO -   - Malignant: 35 samples\n",
      "2025-08-27 21:14:36,602 - INFO - \n",
      "--------------------------------------------------\n",
      "2025-08-27 21:14:36,603 - INFO - Training samples: 95\n",
      "2025-08-27 21:14:36,604 - INFO - Validation samples: 24\n",
      "2025-08-27 21:14:36,605 - INFO - --------------------------------------------------\n",
      "\n",
      "/mnt/d/ML/Projects/Breast-Thermography/venv/lib/python3.11/site-packages/albumentations/core/validation.py:114: UserWarning: ShiftScaleRotate is a special case of Affine transform. Please use Affine transform instead.\n",
      "  original_init(self, **validated_kwargs)\n",
      "/mnt/d/ML/Projects/Breast-Thermography/src/data_prep.py:426: UserWarning: Argument(s) 'var_limit' are not valid for transform GaussNoise\n",
      "  A.GaussNoise(var_limit=(10.0 * strength, 50.0 * strength), p=0.1 * strength),\n",
      "/mnt/d/ML/Projects/Breast-Thermography/src/data_prep.py:430: UserWarning: Argument(s) 'max_holes, max_height, max_width, min_holes, min_height, min_width, fill_value' are not valid for transform CoarseDropout\n",
      "  A.CoarseDropout(\n",
      "2025-08-27 21:14:36,625 - INFO - \n",
      "DATASET DETAILS:\n",
      "2025-08-27 21:14:36,626 - INFO - Training samples: 95\n",
      "2025-08-27 21:14:36,627 - INFO - Validation samples: 24\n",
      "2025-08-27 21:14:36,628 - INFO - Number of classes: 2\n",
      "2025-08-27 21:14:36,628 - INFO - Class to folder mapping: {0: 'Benign', 1: 'Malignant'}\n",
      "2025-08-27 21:14:36,629 - INFO - \n",
      "Saving processed data...\n"
     ]
    },
    {
     "name": "stdout",
     "output_type": "stream",
     "text": [
      "\n",
      "DataFrame loaded with columns: ['Image', 'Left', 'Right', 'Weight (Kg)', 'Height(cm)', 'Temp(°C)', 'Age(years)', 'Unnamed: 7', 'Unnamed: 8', 'Unnamed: 9', 'left_label', 'right_label', 'label', 'combined_label']\n",
      "Sample data:\n",
      "     Image Left Right combined_label\n",
      "0  IIR0001   PB     N         Benign\n",
      "1  IIR0002    N    PB         Benign\n",
      "2  IIR0003    N    PB         Benign\n",
      "3  IIR0004   PB     N         Benign\n",
      "4  IIR0005   PB     N         Benign\n",
      "\n",
      "Creating datasets...\n",
      "Loading diagnostics from: /mnt/d/ML/Projects/Breast-Thermography/data/raw/Breast-Thermography-Raw/Diagnostics.xlsx\n",
      "\n",
      "Processing 95 samples...\n"
     ]
    },
    {
     "name": "stderr",
     "output_type": "stream",
     "text": [
      "Processing:   0%|                                                                         | 0/95 [00:00<?, ?it/s]"
     ]
    },
    {
     "name": "stdout",
     "output_type": "stream",
     "text": [
      "\n",
      "Error processing IIR0100: single positional indexer is out-of-bounds\n"
     ]
    },
    {
     "name": "stderr",
     "output_type": "stream",
     "text": [
      "Processing:   3%|██                                                               | 3/95 [00:00<00:03, 28.20it/s]"
     ]
    },
    {
     "name": "stdout",
     "output_type": "stream",
     "text": [
      "\n",
      "Error processing IIR0117: single positional indexer is out-of-bounds\n"
     ]
    },
    {
     "name": "stderr",
     "output_type": "stream",
     "text": [
      "Processing:   6%|████                                                             | 6/95 [00:00<00:03, 27.90it/s]"
     ]
    },
    {
     "name": "stdout",
     "output_type": "stream",
     "text": [
      "\n",
      "Error processing IIR0111: single positional indexer is out-of-bounds\n"
     ]
    },
    {
     "name": "stderr",
     "output_type": "stream",
     "text": [
      "Processing:   9%|██████▏                                                          | 9/95 [00:00<00:03, 27.76it/s]"
     ]
    },
    {
     "name": "stdout",
     "output_type": "stream",
     "text": [
      "\n",
      "Error processing IIR0119: single positional indexer is out-of-bounds\n"
     ]
    },
    {
     "name": "stderr",
     "output_type": "stream",
     "text": [
      "Processing:  13%|████████                                                        | 12/95 [00:00<00:02, 27.82it/s]"
     ]
    },
    {
     "name": "stdout",
     "output_type": "stream",
     "text": [
      "\n",
      "Error processing IIR0112: single positional indexer is out-of-bounds\n"
     ]
    },
    {
     "name": "stderr",
     "output_type": "stream",
     "text": [
      "Processing:  17%|██████████▊                                                     | 16/95 [00:00<00:02, 30.94it/s]"
     ]
    },
    {
     "name": "stdout",
     "output_type": "stream",
     "text": [
      "\n",
      "Error processing IIR0114: single positional indexer is out-of-bounds\n"
     ]
    },
    {
     "name": "stderr",
     "output_type": "stream",
     "text": [
      "Processing:  21%|█████████████▍                                                  | 20/95 [00:00<00:02, 32.85it/s]"
     ]
    },
    {
     "name": "stdout",
     "output_type": "stream",
     "text": [
      "\n",
      "Error processing IIR0102: single positional indexer is out-of-bounds\n",
      "\n",
      "Error processing IIR0098: single positional indexer is out-of-bounds\n",
      "\n",
      "Error processing IIR0099: single positional indexer is out-of-bounds\n"
     ]
    },
    {
     "name": "stderr",
     "output_type": "stream",
     "text": [
      "Processing:  25%|████████████████▏                                               | 24/95 [00:00<00:03, 21.20it/s]"
     ]
    },
    {
     "name": "stdout",
     "output_type": "stream",
     "text": [
      "\n",
      "Error processing IIR0096: single positional indexer is out-of-bounds\n"
     ]
    },
    {
     "name": "stderr",
     "output_type": "stream",
     "text": [
      "Processing:  47%|██████████████████████████████▎                                 | 45/95 [00:01<00:00, 55.60it/s]"
     ]
    },
    {
     "name": "stdout",
     "output_type": "stream",
     "text": [
      "\n",
      "Error processing IIR0103: single positional indexer is out-of-bounds\n"
     ]
    },
    {
     "name": "stderr",
     "output_type": "stream",
     "text": [
      "Processing:  55%|███████████████████████████████████                             | 52/95 [00:01<00:00, 56.44it/s]"
     ]
    },
    {
     "name": "stdout",
     "output_type": "stream",
     "text": [
      "\n",
      "Error processing IIR0101: single positional indexer is out-of-bounds\n"
     ]
    },
    {
     "name": "stderr",
     "output_type": "stream",
     "text": [
      "Processing:  62%|███████████████████████████████████████▋                        | 59/95 [00:01<00:00, 57.22it/s]"
     ]
    },
    {
     "name": "stdout",
     "output_type": "stream",
     "text": [
      "\n",
      "Error processing IIR0105: single positional indexer is out-of-bounds\n"
     ]
    },
    {
     "name": "stderr",
     "output_type": "stream",
     "text": [
      "Processing:  69%|████████████████████████████████████████████▍                   | 66/95 [00:01<00:00, 57.49it/s]"
     ]
    },
    {
     "name": "stdout",
     "output_type": "stream",
     "text": [
      "\n",
      "Error processing IIR0118: single positional indexer is out-of-bounds\n"
     ]
    },
    {
     "name": "stderr",
     "output_type": "stream",
     "text": [
      "Processing:  77%|█████████████████████████████████████████████████▏              | 73/95 [00:01<00:00, 58.07it/s]"
     ]
    },
    {
     "name": "stdout",
     "output_type": "stream",
     "text": [
      "\n",
      "Error processing IIR0115: single positional indexer is out-of-bounds\n"
     ]
    },
    {
     "name": "stderr",
     "output_type": "stream",
     "text": [
      "Processing:  84%|█████████████████████████████████████████████████████▉          | 80/95 [00:01<00:00, 58.56it/s]"
     ]
    },
    {
     "name": "stdout",
     "output_type": "stream",
     "text": [
      "\n",
      "Error processing IIR0110: single positional indexer is out-of-bounds\n"
     ]
    },
    {
     "name": "stderr",
     "output_type": "stream",
     "text": [
      "Processing:  92%|██████████████████████████████████████████████████████████▌     | 87/95 [00:01<00:00, 58.52it/s]"
     ]
    },
    {
     "name": "stdout",
     "output_type": "stream",
     "text": [
      "\n",
      "Error processing IIR0116: single positional indexer is out-of-bounds\n",
      "\n",
      "Error processing IIR0108: single positional indexer is out-of-bounds\n",
      "\n",
      "Error processing IIR0104: single positional indexer is out-of-bounds\n"
     ]
    },
    {
     "name": "stderr",
     "output_type": "stream",
     "text": [
      "Processing: 100%|████████████████████████████████████████████████████████████████| 95/95 [00:02<00:00, 44.39it/s]\n",
      "2025-08-27 21:14:38,800 - INFO - Processed data saved successfully.\n",
      "2025-08-27 21:14:38,804 - INFO - \n",
      "DATA LOADER CONFIGURATION:\n",
      "2025-08-27 21:14:38,805 - INFO - Batch size: 4\n",
      "2025-08-27 21:14:38,805 - INFO - Number of workers: 4\n",
      "2025-08-27 21:14:38,806 - INFO - CUDA available: True\n",
      "2025-08-27 21:14:38,807 - INFO - \n",
      "==================================================\n",
      "2025-08-27 21:14:38,808 - INFO - DATASET CREATION COMPLETE\n",
      "2025-08-27 21:14:38,809 - INFO - ==================================================\n",
      "\n"
     ]
    },
    {
     "name": "stdout",
     "output_type": "stream",
     "text": [
      "\n",
      "Processing complete!\n",
      "  - Processed: 76/95 samples\n",
      "  - Errors: 19\n",
      "  - Time taken: 2.14 seconds\n",
      "\n",
      "Warning: Some samples could not be processed. Check the error messages above.\n",
      "\n",
      "Processed data saved to: /mnt/d/ML/Projects/Breast-Thermography/data/processed\n",
      "\n",
      "Training samples: 95\n",
      "Validation samples: 24\n",
      "\n",
      "Initializing optimizer and scaler...\n",
      "\n",
      "Starting training...\n"
     ]
    },
    {
     "name": "stderr",
     "output_type": "stream",
     "text": [
      "Epoch 1/25:   0%|                                                                         | 0/23 [00:00<?, ?it/s]"
     ]
    },
    {
     "name": "stdout",
     "output_type": "stream",
     "text": [
      "✓ Valid shapes - Images: torch.Size([4, 9, 224, 224]), Labels: torch.Size([4])\n"
     ]
    },
    {
     "name": "stderr",
     "output_type": "stream",
     "text": [
      "Epoch 1/25:   9%|███                                | 2/23 [00:01<00:18,  1.11it/s, Loss=1.3909, Avg Loss=1.2241]"
     ]
    },
    {
     "name": "stdout",
     "output_type": "stream",
     "text": [
      "✓ Valid shapes - Images: torch.Size([4, 9, 224, 224]), Labels: torch.Size([4])\n"
     ]
    },
    {
     "name": "stderr",
     "output_type": "stream",
     "text": [
      "Epoch 1/25:  13%|████▌                              | 3/23 [00:02<00:13,  1.50it/s, Loss=1.1241, Avg Loss=1.1908]"
     ]
    },
    {
     "name": "stdout",
     "output_type": "stream",
     "text": [
      "✓ Valid shapes - Images: torch.Size([4, 9, 224, 224]), Labels: torch.Size([4])\n"
     ]
    },
    {
     "name": "stderr",
     "output_type": "stream",
     "text": [
      "Epoch 1/25:  17%|██████                             | 4/23 [00:02<00:10,  1.83it/s, Loss=1.0222, Avg Loss=1.1486]"
     ]
    },
    {
     "name": "stdout",
     "output_type": "stream",
     "text": [
      "✓ Valid shapes - Images: torch.Size([4, 9, 224, 224]), Labels: torch.Size([4])\n"
     ]
    },
    {
     "name": "stderr",
     "output_type": "stream",
     "text": [
      "Epoch 1/25:  22%|███████▌                           | 5/23 [00:03<00:08,  2.04it/s, Loss=0.9286, Avg Loss=1.1046]"
     ]
    },
    {
     "name": "stdout",
     "output_type": "stream",
     "text": [
      "✓ Valid shapes - Images: torch.Size([4, 9, 224, 224]), Labels: torch.Size([4])\n"
     ]
    },
    {
     "name": "stderr",
     "output_type": "stream",
     "text": [
      "Epoch 1/25:  26%|█████████▏                         | 6/23 [00:03<00:07,  2.19it/s, Loss=0.9485, Avg Loss=1.0786]"
     ]
    },
    {
     "name": "stdout",
     "output_type": "stream",
     "text": [
      "✓ Valid shapes - Images: torch.Size([4, 9, 224, 224]), Labels: torch.Size([4])\n"
     ]
    },
    {
     "name": "stderr",
     "output_type": "stream",
     "text": [
      "Epoch 1/25:  30%|██████████▋                        | 7/23 [00:03<00:06,  2.33it/s, Loss=1.0773, Avg Loss=1.0784]"
     ]
    },
    {
     "name": "stdout",
     "output_type": "stream",
     "text": [
      "✓ Valid shapes - Images: torch.Size([4, 9, 224, 224]), Labels: torch.Size([4])\n"
     ]
    },
    {
     "name": "stderr",
     "output_type": "stream",
     "text": [
      "Epoch 1/25:  35%|████████████▏                      | 8/23 [00:04<00:06,  2.39it/s, Loss=0.8730, Avg Loss=1.0527]"
     ]
    },
    {
     "name": "stdout",
     "output_type": "stream",
     "text": [
      "✓ Valid shapes - Images: torch.Size([4, 9, 224, 224]), Labels: torch.Size([4])\n"
     ]
    },
    {
     "name": "stderr",
     "output_type": "stream",
     "text": [
      "Epoch 1/25:  39%|█████████████▋                     | 9/23 [00:04<00:05,  2.44it/s, Loss=0.8698, Avg Loss=1.0324]"
     ]
    },
    {
     "name": "stdout",
     "output_type": "stream",
     "text": [
      "✓ Valid shapes - Images: torch.Size([4, 9, 224, 224]), Labels: torch.Size([4])\n"
     ]
    },
    {
     "name": "stderr",
     "output_type": "stream",
     "text": [
      "Epoch 1/25:  43%|██████████████▊                   | 10/23 [00:05<00:05,  2.48it/s, Loss=0.9457, Avg Loss=1.0237]"
     ]
    },
    {
     "name": "stdout",
     "output_type": "stream",
     "text": [
      "✓ Valid shapes - Images: torch.Size([4, 9, 224, 224]), Labels: torch.Size([4])\n"
     ]
    },
    {
     "name": "stderr",
     "output_type": "stream",
     "text": [
      "Epoch 1/25:  48%|████████████████▎                 | 11/23 [00:05<00:04,  2.46it/s, Loss=0.5974, Avg Loss=0.9850]"
     ]
    },
    {
     "name": "stdout",
     "output_type": "stream",
     "text": [
      "✓ Valid shapes - Images: torch.Size([4, 9, 224, 224]), Labels: torch.Size([4])\n"
     ]
    },
    {
     "name": "stderr",
     "output_type": "stream",
     "text": [
      "Epoch 1/25:  52%|█████████████████▋                | 12/23 [00:05<00:04,  2.52it/s, Loss=0.7861, Avg Loss=0.9684]"
     ]
    },
    {
     "name": "stdout",
     "output_type": "stream",
     "text": [
      "✓ Valid shapes - Images: torch.Size([4, 9, 224, 224]), Labels: torch.Size([4])\n"
     ]
    },
    {
     "name": "stderr",
     "output_type": "stream",
     "text": [
      "Epoch 1/25:  57%|███████████████████▏              | 13/23 [00:06<00:03,  2.51it/s, Loss=0.9066, Avg Loss=0.9637]"
     ]
    },
    {
     "name": "stdout",
     "output_type": "stream",
     "text": [
      "✓ Valid shapes - Images: torch.Size([4, 9, 224, 224]), Labels: torch.Size([4])\n"
     ]
    },
    {
     "name": "stderr",
     "output_type": "stream",
     "text": [
      "Epoch 1/25:  61%|████████████████████▋             | 14/23 [00:06<00:03,  2.46it/s, Loss=0.9783, Avg Loss=0.9647]"
     ]
    },
    {
     "name": "stdout",
     "output_type": "stream",
     "text": [
      "✓ Valid shapes - Images: torch.Size([4, 9, 224, 224]), Labels: torch.Size([4])\n"
     ]
    },
    {
     "name": "stderr",
     "output_type": "stream",
     "text": [
      "Epoch 1/25:  65%|██████████████████████▏           | 15/23 [00:07<00:03,  2.47it/s, Loss=0.4153, Avg Loss=0.9281]"
     ]
    },
    {
     "name": "stdout",
     "output_type": "stream",
     "text": [
      "✓ Valid shapes - Images: torch.Size([4, 9, 224, 224]), Labels: torch.Size([4])\n"
     ]
    },
    {
     "name": "stderr",
     "output_type": "stream",
     "text": [
      "Epoch 1/25:  70%|███████████████████████▋          | 16/23 [00:07<00:02,  2.52it/s, Loss=0.3295, Avg Loss=0.8907]"
     ]
    },
    {
     "name": "stdout",
     "output_type": "stream",
     "text": [
      "✓ Valid shapes - Images: torch.Size([4, 9, 224, 224]), Labels: torch.Size([4])\n"
     ]
    },
    {
     "name": "stderr",
     "output_type": "stream",
     "text": [
      "Epoch 1/25:  74%|█████████████████████████▏        | 17/23 [00:07<00:02,  2.49it/s, Loss=0.8999, Avg Loss=0.8912]"
     ]
    },
    {
     "name": "stdout",
     "output_type": "stream",
     "text": [
      "✓ Valid shapes - Images: torch.Size([4, 9, 224, 224]), Labels: torch.Size([4])\n"
     ]
    },
    {
     "name": "stderr",
     "output_type": "stream",
     "text": [
      "Epoch 1/25:  78%|██████████████████████████▌       | 18/23 [00:08<00:02,  2.49it/s, Loss=0.9628, Avg Loss=0.8952]"
     ]
    },
    {
     "name": "stdout",
     "output_type": "stream",
     "text": [
      "✓ Valid shapes - Images: torch.Size([4, 9, 224, 224]), Labels: torch.Size([4])\n"
     ]
    },
    {
     "name": "stderr",
     "output_type": "stream",
     "text": [
      "Epoch 1/25:  83%|████████████████████████████      | 19/23 [00:08<00:01,  2.57it/s, Loss=1.6843, Avg Loss=0.9367]"
     ]
    },
    {
     "name": "stdout",
     "output_type": "stream",
     "text": [
      "✓ Valid shapes - Images: torch.Size([4, 9, 224, 224]), Labels: torch.Size([4])\n"
     ]
    },
    {
     "name": "stderr",
     "output_type": "stream",
     "text": [
      "Epoch 1/25:  87%|█████████████████████████████▌    | 20/23 [00:09<00:01,  2.59it/s, Loss=1.6164, Avg Loss=0.9707]"
     ]
    },
    {
     "name": "stdout",
     "output_type": "stream",
     "text": [
      "✓ Valid shapes - Images: torch.Size([4, 9, 224, 224]), Labels: torch.Size([4])\n"
     ]
    },
    {
     "name": "stderr",
     "output_type": "stream",
     "text": [
      "Epoch 1/25:  91%|███████████████████████████████   | 21/23 [00:09<00:00,  2.55it/s, Loss=1.6458, Avg Loss=1.0029]"
     ]
    },
    {
     "name": "stdout",
     "output_type": "stream",
     "text": [
      "✓ Valid shapes - Images: torch.Size([4, 9, 224, 224]), Labels: torch.Size([4])\n"
     ]
    },
    {
     "name": "stderr",
     "output_type": "stream",
     "text": [
      "Epoch 1/25:  96%|████████████████████████████████▌ | 22/23 [00:09<00:00,  2.59it/s, Loss=2.1200, Avg Loss=1.0536]"
     ]
    },
    {
     "name": "stdout",
     "output_type": "stream",
     "text": [
      "✓ Valid shapes - Images: torch.Size([4, 9, 224, 224]), Labels: torch.Size([4])\n"
     ]
    },
    {
     "name": "stderr",
     "output_type": "stream",
     "text": [
      "Epoch 1/25: 100%|██████████████████████████████████| 23/23 [00:10<00:00,  2.26it/s, Loss=0.3439, Avg Loss=1.0228]\n"
     ]
    },
    {
     "name": "stdout",
     "output_type": "stream",
     "text": [
      "✓ Valid shapes - Images: torch.Size([4, 9, 224, 224]), Labels: torch.Size([4])\n"
     ]
    },
    {
     "name": "stderr",
     "output_type": "stream",
     "text": [
      "Validation: 100%|██████████████████████████████████████████████████████████████████| 6/6 [00:01<00:00,  3.02it/s]\n"
     ]
    },
    {
     "name": "stdout",
     "output_type": "stream",
     "text": [
      "New best training accuracy: 66.30%\n",
      "New best model saved with accuracy: 66.30%\n",
      "Epoch 1/25 - Train Loss: 1.0228, Train Acc: 66.30% - Val Loss: 0.9270, Val Acc: 70.83% (Best!)\n"
     ]
    },
    {
     "name": "stderr",
     "output_type": "stream",
     "text": [
      "Epoch 2/25:   0%|                                                                         | 0/23 [00:00<?, ?it/s]"
     ]
    },
    {
     "name": "stdout",
     "output_type": "stream",
     "text": [
      "✓ Valid shapes - Images: torch.Size([4, 9, 224, 224]), Labels: torch.Size([4])\n"
     ]
    },
    {
     "name": "stderr",
     "output_type": "stream",
     "text": [
      "Epoch 2/25:   9%|███                                | 2/23 [00:00<00:10,  2.09it/s, Loss=0.3698, Avg Loss=0.6213]"
     ]
    },
    {
     "name": "stdout",
     "output_type": "stream",
     "text": [
      "✓ Valid shapes - Images: torch.Size([4, 9, 224, 224]), Labels: torch.Size([4])\n"
     ]
    },
    {
     "name": "stderr",
     "output_type": "stream",
     "text": [
      "Epoch 2/25:  13%|████▌                              | 3/23 [00:01<00:08,  2.38it/s, Loss=0.8492, Avg Loss=0.6973]"
     ]
    },
    {
     "name": "stdout",
     "output_type": "stream",
     "text": [
      "✓ Valid shapes - Images: torch.Size([4, 9, 224, 224]), Labels: torch.Size([4])\n"
     ]
    },
    {
     "name": "stderr",
     "output_type": "stream",
     "text": [
      "Epoch 2/25:  17%|██████                             | 4/23 [00:01<00:07,  2.53it/s, Loss=1.2469, Avg Loss=0.8347]"
     ]
    },
    {
     "name": "stdout",
     "output_type": "stream",
     "text": [
      "✓ Valid shapes - Images: torch.Size([4, 9, 224, 224]), Labels: torch.Size([4])\n"
     ]
    },
    {
     "name": "stderr",
     "output_type": "stream",
     "text": [
      "Epoch 2/25:  22%|███████▌                           | 5/23 [00:02<00:06,  2.65it/s, Loss=0.8566, Avg Loss=0.8391]"
     ]
    },
    {
     "name": "stdout",
     "output_type": "stream",
     "text": [
      "✓ Valid shapes - Images: torch.Size([4, 9, 224, 224]), Labels: torch.Size([4])\n"
     ]
    },
    {
     "name": "stderr",
     "output_type": "stream",
     "text": [
      "Epoch 2/25:  26%|█████████▏                         | 6/23 [00:02<00:06,  2.69it/s, Loss=0.3899, Avg Loss=0.7642]"
     ]
    },
    {
     "name": "stdout",
     "output_type": "stream",
     "text": [
      "✓ Valid shapes - Images: torch.Size([4, 9, 224, 224]), Labels: torch.Size([4])\n"
     ]
    },
    {
     "name": "stderr",
     "output_type": "stream",
     "text": [
      "Epoch 2/25:  30%|██████████▋                        | 7/23 [00:02<00:05,  2.70it/s, Loss=1.3235, Avg Loss=0.8441]"
     ]
    },
    {
     "name": "stdout",
     "output_type": "stream",
     "text": [
      "✓ Valid shapes - Images: torch.Size([4, 9, 224, 224]), Labels: torch.Size([4])\n"
     ]
    },
    {
     "name": "stderr",
     "output_type": "stream",
     "text": [
      "Epoch 2/25:  35%|████████████▏                      | 8/23 [00:03<00:05,  2.73it/s, Loss=0.7874, Avg Loss=0.8370]"
     ]
    },
    {
     "name": "stdout",
     "output_type": "stream",
     "text": [
      "✓ Valid shapes - Images: torch.Size([4, 9, 224, 224]), Labels: torch.Size([4])\n"
     ]
    },
    {
     "name": "stderr",
     "output_type": "stream",
     "text": [
      "Epoch 2/25:  39%|█████████████▋                     | 9/23 [00:03<00:05,  2.72it/s, Loss=1.8886, Avg Loss=0.9539]"
     ]
    },
    {
     "name": "stdout",
     "output_type": "stream",
     "text": [
      "✓ Valid shapes - Images: torch.Size([4, 9, 224, 224]), Labels: torch.Size([4])\n"
     ]
    },
    {
     "name": "stderr",
     "output_type": "stream",
     "text": [
      "Epoch 2/25:  43%|██████████████▊                   | 10/23 [00:03<00:04,  2.69it/s, Loss=0.8706, Avg Loss=0.9455]"
     ]
    },
    {
     "name": "stdout",
     "output_type": "stream",
     "text": [
      "✓ Valid shapes - Images: torch.Size([4, 9, 224, 224]), Labels: torch.Size([4])\n"
     ]
    },
    {
     "name": "stderr",
     "output_type": "stream",
     "text": [
      "Epoch 2/25:  48%|████████████████▎                 | 11/23 [00:04<00:04,  2.66it/s, Loss=1.2260, Avg Loss=0.9710]"
     ]
    },
    {
     "name": "stdout",
     "output_type": "stream",
     "text": [
      "✓ Valid shapes - Images: torch.Size([4, 9, 224, 224]), Labels: torch.Size([4])\n"
     ]
    },
    {
     "name": "stderr",
     "output_type": "stream",
     "text": [
      "Epoch 2/25:  52%|█████████████████▋                | 12/23 [00:04<00:04,  2.66it/s, Loss=0.8125, Avg Loss=0.9578]"
     ]
    },
    {
     "name": "stdout",
     "output_type": "stream",
     "text": [
      "✓ Valid shapes - Images: torch.Size([4, 9, 224, 224]), Labels: torch.Size([4])\n"
     ]
    },
    {
     "name": "stderr",
     "output_type": "stream",
     "text": [
      "Epoch 2/25:  57%|███████████████████▏              | 13/23 [00:05<00:03,  2.60it/s, Loss=0.8736, Avg Loss=0.9513]"
     ]
    },
    {
     "name": "stdout",
     "output_type": "stream",
     "text": [
      "✓ Valid shapes - Images: torch.Size([4, 9, 224, 224]), Labels: torch.Size([4])\n"
     ]
    },
    {
     "name": "stderr",
     "output_type": "stream",
     "text": [
      "Epoch 2/25:  61%|████████████████████▋             | 14/23 [00:05<00:03,  2.58it/s, Loss=0.4395, Avg Loss=0.9148]"
     ]
    },
    {
     "name": "stdout",
     "output_type": "stream",
     "text": [
      "✓ Valid shapes - Images: torch.Size([4, 9, 224, 224]), Labels: torch.Size([4])\n"
     ]
    },
    {
     "name": "stderr",
     "output_type": "stream",
     "text": [
      "Epoch 2/25:  65%|██████████████████████▏           | 15/23 [00:05<00:03,  2.55it/s, Loss=0.7991, Avg Loss=0.9071]"
     ]
    },
    {
     "name": "stdout",
     "output_type": "stream",
     "text": [
      "✓ Valid shapes - Images: torch.Size([4, 9, 224, 224]), Labels: torch.Size([4])\n"
     ]
    },
    {
     "name": "stderr",
     "output_type": "stream",
     "text": [
      "Epoch 2/25:  70%|███████████████████████▋          | 16/23 [00:06<00:02,  2.52it/s, Loss=1.6228, Avg Loss=0.9518]"
     ]
    },
    {
     "name": "stdout",
     "output_type": "stream",
     "text": [
      "✓ Valid shapes - Images: torch.Size([4, 9, 224, 224]), Labels: torch.Size([4])\n"
     ]
    },
    {
     "name": "stderr",
     "output_type": "stream",
     "text": [
      "Epoch 2/25:  74%|█████████████████████████▏        | 17/23 [00:06<00:02,  2.46it/s, Loss=1.1308, Avg Loss=0.9623]"
     ]
    },
    {
     "name": "stdout",
     "output_type": "stream",
     "text": [
      "✓ Valid shapes - Images: torch.Size([4, 9, 224, 224]), Labels: torch.Size([4])\n"
     ]
    },
    {
     "name": "stderr",
     "output_type": "stream",
     "text": [
      "Epoch 2/25:  78%|██████████████████████████▌       | 18/23 [00:07<00:02,  2.49it/s, Loss=0.8119, Avg Loss=0.9540]"
     ]
    },
    {
     "name": "stdout",
     "output_type": "stream",
     "text": [
      "✓ Valid shapes - Images: torch.Size([4, 9, 224, 224]), Labels: torch.Size([4])\n"
     ]
    },
    {
     "name": "stderr",
     "output_type": "stream",
     "text": [
      "Epoch 2/25:  83%|████████████████████████████      | 19/23 [00:07<00:01,  2.51it/s, Loss=0.8520, Avg Loss=0.9486]"
     ]
    },
    {
     "name": "stdout",
     "output_type": "stream",
     "text": [
      "✓ Valid shapes - Images: torch.Size([4, 9, 224, 224]), Labels: torch.Size([4])\n"
     ]
    },
    {
     "name": "stderr",
     "output_type": "stream",
     "text": [
      "Epoch 2/25:  87%|█████████████████████████████▌    | 20/23 [00:07<00:01,  2.52it/s, Loss=0.9272, Avg Loss=0.9475]"
     ]
    },
    {
     "name": "stdout",
     "output_type": "stream",
     "text": [
      "✓ Valid shapes - Images: torch.Size([4, 9, 224, 224]), Labels: torch.Size([4])\n"
     ]
    },
    {
     "name": "stderr",
     "output_type": "stream",
     "text": [
      "Epoch 2/25:  91%|███████████████████████████████   | 21/23 [00:08<00:00,  2.45it/s, Loss=0.8265, Avg Loss=0.9418]"
     ]
    },
    {
     "name": "stdout",
     "output_type": "stream",
     "text": [
      "✓ Valid shapes - Images: torch.Size([4, 9, 224, 224]), Labels: torch.Size([4])\n"
     ]
    },
    {
     "name": "stderr",
     "output_type": "stream",
     "text": [
      "Epoch 2/25:  96%|████████████████████████████████▌ | 22/23 [00:08<00:00,  2.42it/s, Loss=0.5404, Avg Loss=0.9235]"
     ]
    },
    {
     "name": "stdout",
     "output_type": "stream",
     "text": [
      "✓ Valid shapes - Images: torch.Size([4, 9, 224, 224]), Labels: torch.Size([4])\n"
     ]
    },
    {
     "name": "stderr",
     "output_type": "stream",
     "text": [
      "Epoch 2/25: 100%|██████████████████████████████████| 23/23 [00:09<00:00,  2.53it/s, Loss=0.9115, Avg Loss=0.9230]\n"
     ]
    },
    {
     "name": "stdout",
     "output_type": "stream",
     "text": [
      "✓ Valid shapes - Images: torch.Size([4, 9, 224, 224]), Labels: torch.Size([4])\n"
     ]
    },
    {
     "name": "stderr",
     "output_type": "stream",
     "text": [
      "Validation: 100%|██████████████████████████████████████████████████████████████████| 6/6 [00:02<00:00,  2.99it/s]\n"
     ]
    },
    {
     "name": "stdout",
     "output_type": "stream",
     "text": [
      "New best training accuracy: 70.65%\n",
      "New best model saved with accuracy: 70.65%\n",
      "Epoch 2/25 - Train Loss: 0.9230, Train Acc: 70.65% - Val Loss: 0.9054, Val Acc: 70.83% (Best!)\n"
     ]
    },
    {
     "name": "stderr",
     "output_type": "stream",
     "text": [
      "Epoch 3/25:   0%|                                                                         | 0/23 [00:00<?, ?it/s]"
     ]
    },
    {
     "name": "stdout",
     "output_type": "stream",
     "text": [
      "✓ Valid shapes - Images: torch.Size([4, 9, 224, 224]), Labels: torch.Size([4])\n"
     ]
    },
    {
     "name": "stderr",
     "output_type": "stream",
     "text": [
      "Epoch 3/25:   9%|███                                | 2/23 [00:00<00:09,  2.13it/s, Loss=1.2439, Avg Loss=1.2361]"
     ]
    },
    {
     "name": "stdout",
     "output_type": "stream",
     "text": [
      "✓ Valid shapes - Images: torch.Size([4, 9, 224, 224]), Labels: torch.Size([4])\n"
     ]
    },
    {
     "name": "stderr",
     "output_type": "stream",
     "text": [
      "Epoch 3/25:  13%|████▌                              | 3/23 [00:01<00:08,  2.32it/s, Loss=0.8331, Avg Loss=1.1018]"
     ]
    },
    {
     "name": "stdout",
     "output_type": "stream",
     "text": [
      "✓ Valid shapes - Images: torch.Size([4, 9, 224, 224]), Labels: torch.Size([4])\n"
     ]
    },
    {
     "name": "stderr",
     "output_type": "stream",
     "text": [
      "Epoch 3/25:  17%|██████                             | 4/23 [00:01<00:07,  2.44it/s, Loss=0.5425, Avg Loss=0.9619]"
     ]
    },
    {
     "name": "stdout",
     "output_type": "stream",
     "text": [
      "✓ Valid shapes - Images: torch.Size([4, 9, 224, 224]), Labels: torch.Size([4])\n"
     ]
    },
    {
     "name": "stderr",
     "output_type": "stream",
     "text": [
      "Epoch 3/25:  22%|███████▌                           | 5/23 [00:02<00:06,  2.59it/s, Loss=0.4765, Avg Loss=0.8648]"
     ]
    },
    {
     "name": "stdout",
     "output_type": "stream",
     "text": [
      "✓ Valid shapes - Images: torch.Size([4, 9, 224, 224]), Labels: torch.Size([4])\n"
     ]
    },
    {
     "name": "stderr",
     "output_type": "stream",
     "text": [
      "Epoch 3/25:  26%|█████████▏                         | 6/23 [00:02<00:06,  2.60it/s, Loss=0.8931, Avg Loss=0.8696]"
     ]
    },
    {
     "name": "stdout",
     "output_type": "stream",
     "text": [
      "✓ Valid shapes - Images: torch.Size([4, 9, 224, 224]), Labels: torch.Size([4])\n"
     ]
    },
    {
     "name": "stderr",
     "output_type": "stream",
     "text": [
      "Epoch 3/25:  30%|██████████▋                        | 7/23 [00:02<00:06,  2.65it/s, Loss=1.2377, Avg Loss=0.9221]"
     ]
    },
    {
     "name": "stdout",
     "output_type": "stream",
     "text": [
      "✓ Valid shapes - Images: torch.Size([4, 9, 224, 224]), Labels: torch.Size([4])\n"
     ]
    },
    {
     "name": "stderr",
     "output_type": "stream",
     "text": [
      "Epoch 3/25:  35%|████████████▏                      | 8/23 [00:03<00:05,  2.64it/s, Loss=0.7996, Avg Loss=0.9068]"
     ]
    },
    {
     "name": "stdout",
     "output_type": "stream",
     "text": [
      "✓ Valid shapes - Images: torch.Size([4, 9, 224, 224]), Labels: torch.Size([4])\n"
     ]
    },
    {
     "name": "stderr",
     "output_type": "stream",
     "text": [
      "Epoch 3/25:  39%|█████████████▋                     | 9/23 [00:03<00:05,  2.65it/s, Loss=1.1789, Avg Loss=0.9371]"
     ]
    },
    {
     "name": "stdout",
     "output_type": "stream",
     "text": [
      "✓ Valid shapes - Images: torch.Size([4, 9, 224, 224]), Labels: torch.Size([4])\n"
     ]
    },
    {
     "name": "stderr",
     "output_type": "stream",
     "text": [
      "Epoch 3/25:  43%|██████████████▊                   | 10/23 [00:03<00:05,  2.59it/s, Loss=1.2178, Avg Loss=0.9651]"
     ]
    },
    {
     "name": "stdout",
     "output_type": "stream",
     "text": [
      "✓ Valid shapes - Images: torch.Size([4, 9, 224, 224]), Labels: torch.Size([4])\n"
     ]
    },
    {
     "name": "stderr",
     "output_type": "stream",
     "text": [
      "Epoch 3/25:  48%|████████████████▎                 | 11/23 [00:04<00:04,  2.57it/s, Loss=0.8749, Avg Loss=0.9569]"
     ]
    },
    {
     "name": "stdout",
     "output_type": "stream",
     "text": [
      "✓ Valid shapes - Images: torch.Size([4, 9, 224, 224]), Labels: torch.Size([4])\n"
     ]
    },
    {
     "name": "stderr",
     "output_type": "stream",
     "text": [
      "Epoch 3/25:  52%|█████████████████▋                | 12/23 [00:04<00:04,  2.58it/s, Loss=0.5203, Avg Loss=0.9205]"
     ]
    },
    {
     "name": "stdout",
     "output_type": "stream",
     "text": [
      "✓ Valid shapes - Images: torch.Size([4, 9, 224, 224]), Labels: torch.Size([4])\n"
     ]
    },
    {
     "name": "stderr",
     "output_type": "stream",
     "text": [
      "Epoch 3/25:  57%|███████████████████▏              | 13/23 [00:05<00:03,  2.55it/s, Loss=1.2376, Avg Loss=0.9449]"
     ]
    },
    {
     "name": "stdout",
     "output_type": "stream",
     "text": [
      "✓ Valid shapes - Images: torch.Size([4, 9, 224, 224]), Labels: torch.Size([4])\n"
     ]
    },
    {
     "name": "stderr",
     "output_type": "stream",
     "text": [
      "Epoch 3/25:  61%|████████████████████▋             | 14/23 [00:05<00:03,  2.55it/s, Loss=1.4582, Avg Loss=0.9816]"
     ]
    },
    {
     "name": "stdout",
     "output_type": "stream",
     "text": [
      "✓ Valid shapes - Images: torch.Size([4, 9, 224, 224]), Labels: torch.Size([4])\n"
     ]
    },
    {
     "name": "stderr",
     "output_type": "stream",
     "text": [
      "Epoch 3/25:  65%|██████████████████████▏           | 15/23 [00:05<00:03,  2.56it/s, Loss=0.5753, Avg Loss=0.9545]"
     ]
    },
    {
     "name": "stdout",
     "output_type": "stream",
     "text": [
      "✓ Valid shapes - Images: torch.Size([4, 9, 224, 224]), Labels: torch.Size([4])\n"
     ]
    },
    {
     "name": "stderr",
     "output_type": "stream",
     "text": [
      "Epoch 3/25:  70%|███████████████████████▋          | 16/23 [00:06<00:02,  2.56it/s, Loss=0.6143, Avg Loss=0.9332]"
     ]
    },
    {
     "name": "stdout",
     "output_type": "stream",
     "text": [
      "✓ Valid shapes - Images: torch.Size([4, 9, 224, 224]), Labels: torch.Size([4])\n"
     ]
    },
    {
     "name": "stderr",
     "output_type": "stream",
     "text": [
      "Epoch 3/25:  74%|█████████████████████████▏        | 17/23 [00:06<00:02,  2.47it/s, Loss=0.8138, Avg Loss=0.9262]"
     ]
    },
    {
     "name": "stdout",
     "output_type": "stream",
     "text": [
      "✓ Valid shapes - Images: torch.Size([4, 9, 224, 224]), Labels: torch.Size([4])\n"
     ]
    },
    {
     "name": "stderr",
     "output_type": "stream",
     "text": [
      "Epoch 3/25:  78%|██████████████████████████▌       | 18/23 [00:07<00:02,  2.45it/s, Loss=0.7921, Avg Loss=0.9188]"
     ]
    },
    {
     "name": "stdout",
     "output_type": "stream",
     "text": [
      "✓ Valid shapes - Images: torch.Size([4, 9, 224, 224]), Labels: torch.Size([4])\n"
     ]
    },
    {
     "name": "stderr",
     "output_type": "stream",
     "text": [
      "Epoch 3/25:  83%|████████████████████████████      | 19/23 [00:07<00:01,  2.49it/s, Loss=0.8287, Avg Loss=0.9140]"
     ]
    },
    {
     "name": "stdout",
     "output_type": "stream",
     "text": [
      "✓ Valid shapes - Images: torch.Size([4, 9, 224, 224]), Labels: torch.Size([4])\n"
     ]
    },
    {
     "name": "stderr",
     "output_type": "stream",
     "text": [
      "Epoch 3/25:  87%|█████████████████████████████▌    | 20/23 [00:07<00:01,  2.52it/s, Loss=1.6370, Avg Loss=0.9502]"
     ]
    },
    {
     "name": "stdout",
     "output_type": "stream",
     "text": [
      "✓ Valid shapes - Images: torch.Size([4, 9, 224, 224]), Labels: torch.Size([4])\n"
     ]
    },
    {
     "name": "stderr",
     "output_type": "stream",
     "text": [
      "Epoch 3/25:  91%|███████████████████████████████   | 21/23 [00:08<00:00,  2.48it/s, Loss=0.7777, Avg Loss=0.9420]"
     ]
    },
    {
     "name": "stdout",
     "output_type": "stream",
     "text": [
      "✓ Valid shapes - Images: torch.Size([4, 9, 224, 224]), Labels: torch.Size([4])\n"
     ]
    },
    {
     "name": "stderr",
     "output_type": "stream",
     "text": [
      "Epoch 3/25:  96%|████████████████████████████████▌ | 22/23 [00:08<00:00,  2.48it/s, Loss=0.8116, Avg Loss=0.9360]"
     ]
    },
    {
     "name": "stdout",
     "output_type": "stream",
     "text": [
      "✓ Valid shapes - Images: torch.Size([4, 9, 224, 224]), Labels: torch.Size([4])\n"
     ]
    },
    {
     "name": "stderr",
     "output_type": "stream",
     "text": [
      "Epoch 3/25: 100%|██████████████████████████████████| 23/23 [00:09<00:00,  2.50it/s, Loss=0.4110, Avg Loss=0.9132]\n"
     ]
    },
    {
     "name": "stdout",
     "output_type": "stream",
     "text": [
      "✓ Valid shapes - Images: torch.Size([4, 9, 224, 224]), Labels: torch.Size([4])\n"
     ]
    },
    {
     "name": "stderr",
     "output_type": "stream",
     "text": [
      "Validation: 100%|██████████████████████████████████████████████████████████████████| 6/6 [00:02<00:00,  2.84it/s]\n"
     ]
    },
    {
     "name": "stdout",
     "output_type": "stream",
     "text": [
      "Epoch 3/25 - Train Loss: 0.9132, Train Acc: 70.65% - Val Loss: 0.9639, Val Acc: 70.83%\n"
     ]
    },
    {
     "name": "stderr",
     "output_type": "stream",
     "text": [
      "Epoch 4/25:   0%|                                                                         | 0/23 [00:00<?, ?it/s]"
     ]
    },
    {
     "name": "stdout",
     "output_type": "stream",
     "text": [
      "✓ Valid shapes - Images: torch.Size([4, 9, 224, 224]), Labels: torch.Size([4])\n"
     ]
    },
    {
     "name": "stderr",
     "output_type": "stream",
     "text": [
      "Epoch 4/25:   9%|███                                | 2/23 [00:01<00:10,  2.08it/s, Loss=1.2964, Avg Loss=0.8518]"
     ]
    },
    {
     "name": "stdout",
     "output_type": "stream",
     "text": [
      "✓ Valid shapes - Images: torch.Size([4, 9, 224, 224]), Labels: torch.Size([4])\n"
     ]
    },
    {
     "name": "stderr",
     "output_type": "stream",
     "text": [
      "Epoch 4/25:  13%|████▌                              | 3/23 [00:01<00:08,  2.37it/s, Loss=1.3778, Avg Loss=1.0272]"
     ]
    },
    {
     "name": "stdout",
     "output_type": "stream",
     "text": [
      "✓ Valid shapes - Images: torch.Size([4, 9, 224, 224]), Labels: torch.Size([4])\n"
     ]
    },
    {
     "name": "stderr",
     "output_type": "stream",
     "text": [
      "Epoch 4/25:  17%|██████                             | 4/23 [00:01<00:07,  2.54it/s, Loss=0.3280, Avg Loss=0.8524]"
     ]
    },
    {
     "name": "stdout",
     "output_type": "stream",
     "text": [
      "✓ Valid shapes - Images: torch.Size([4, 9, 224, 224]), Labels: torch.Size([4])\n"
     ]
    },
    {
     "name": "stderr",
     "output_type": "stream",
     "text": [
      "Epoch 4/25:  22%|███████▌                           | 5/23 [00:02<00:07,  2.53it/s, Loss=0.8503, Avg Loss=0.8519]"
     ]
    },
    {
     "name": "stdout",
     "output_type": "stream",
     "text": [
      "✓ Valid shapes - Images: torch.Size([4, 9, 224, 224]), Labels: torch.Size([4])\n"
     ]
    },
    {
     "name": "stderr",
     "output_type": "stream",
     "text": [
      "Epoch 4/25:  26%|█████████▏                         | 6/23 [00:02<00:06,  2.58it/s, Loss=0.8475, Avg Loss=0.8512]"
     ]
    },
    {
     "name": "stdout",
     "output_type": "stream",
     "text": [
      "✓ Valid shapes - Images: torch.Size([4, 9, 224, 224]), Labels: torch.Size([4])\n"
     ]
    },
    {
     "name": "stderr",
     "output_type": "stream",
     "text": [
      "Epoch 4/25:  30%|██████████▋                        | 7/23 [00:02<00:06,  2.63it/s, Loss=0.7743, Avg Loss=0.8402]"
     ]
    },
    {
     "name": "stdout",
     "output_type": "stream",
     "text": [
      "✓ Valid shapes - Images: torch.Size([4, 9, 224, 224]), Labels: torch.Size([4])\n"
     ]
    },
    {
     "name": "stderr",
     "output_type": "stream",
     "text": [
      "Epoch 4/25:  35%|████████████▏                      | 8/23 [00:03<00:05,  2.64it/s, Loss=1.3281, Avg Loss=0.9012]"
     ]
    },
    {
     "name": "stdout",
     "output_type": "stream",
     "text": [
      "✓ Valid shapes - Images: torch.Size([4, 9, 224, 224]), Labels: torch.Size([4])\n"
     ]
    },
    {
     "name": "stderr",
     "output_type": "stream",
     "text": [
      "Epoch 4/25:  39%|█████████████▋                     | 9/23 [00:03<00:05,  2.66it/s, Loss=0.8370, Avg Loss=0.8941]"
     ]
    },
    {
     "name": "stdout",
     "output_type": "stream",
     "text": [
      "✓ Valid shapes - Images: torch.Size([4, 9, 224, 224]), Labels: torch.Size([4])\n"
     ]
    },
    {
     "name": "stderr",
     "output_type": "stream",
     "text": [
      "Epoch 4/25:  43%|██████████████▊                   | 10/23 [00:03<00:04,  2.69it/s, Loss=0.3829, Avg Loss=0.8430]"
     ]
    },
    {
     "name": "stdout",
     "output_type": "stream",
     "text": [
      "✓ Valid shapes - Images: torch.Size([4, 9, 224, 224]), Labels: torch.Size([4])\n"
     ]
    },
    {
     "name": "stderr",
     "output_type": "stream",
     "text": [
      "Epoch 4/25:  48%|████████████████▎                 | 11/23 [00:04<00:04,  2.68it/s, Loss=0.7205, Avg Loss=0.8318]"
     ]
    },
    {
     "name": "stdout",
     "output_type": "stream",
     "text": [
      "✓ Valid shapes - Images: torch.Size([4, 9, 224, 224]), Labels: torch.Size([4])\n"
     ]
    },
    {
     "name": "stderr",
     "output_type": "stream",
     "text": [
      "Epoch 4/25:  52%|█████████████████▋                | 12/23 [00:04<00:04,  2.65it/s, Loss=1.1608, Avg Loss=0.8592]"
     ]
    },
    {
     "name": "stdout",
     "output_type": "stream",
     "text": [
      "✓ Valid shapes - Images: torch.Size([4, 9, 224, 224]), Labels: torch.Size([4])\n"
     ]
    },
    {
     "name": "stderr",
     "output_type": "stream",
     "text": [
      "Epoch 4/25:  57%|███████████████████▏              | 13/23 [00:05<00:03,  2.62it/s, Loss=0.8614, Avg Loss=0.8594]"
     ]
    },
    {
     "name": "stdout",
     "output_type": "stream",
     "text": [
      "✓ Valid shapes - Images: torch.Size([4, 9, 224, 224]), Labels: torch.Size([4])\n"
     ]
    },
    {
     "name": "stderr",
     "output_type": "stream",
     "text": [
      "Epoch 4/25:  61%|████████████████████▋             | 14/23 [00:05<00:03,  2.60it/s, Loss=0.6888, Avg Loss=0.8472]"
     ]
    },
    {
     "name": "stdout",
     "output_type": "stream",
     "text": [
      "✓ Valid shapes - Images: torch.Size([4, 9, 224, 224]), Labels: torch.Size([4])\n"
     ]
    },
    {
     "name": "stderr",
     "output_type": "stream",
     "text": [
      "Epoch 4/25:  65%|██████████████████████▏           | 15/23 [00:05<00:03,  2.61it/s, Loss=1.0918, Avg Loss=0.8635]"
     ]
    },
    {
     "name": "stdout",
     "output_type": "stream",
     "text": [
      "✓ Valid shapes - Images: torch.Size([4, 9, 224, 224]), Labels: torch.Size([4])\n"
     ]
    },
    {
     "name": "stderr",
     "output_type": "stream",
     "text": [
      "Epoch 4/25:  70%|███████████████████████▋          | 16/23 [00:06<00:02,  2.57it/s, Loss=0.4705, Avg Loss=0.8390]"
     ]
    },
    {
     "name": "stdout",
     "output_type": "stream",
     "text": [
      "✓ Valid shapes - Images: torch.Size([4, 9, 224, 224]), Labels: torch.Size([4])\n"
     ]
    },
    {
     "name": "stderr",
     "output_type": "stream",
     "text": [
      "Epoch 4/25:  74%|█████████████████████████▏        | 17/23 [00:06<00:02,  2.58it/s, Loss=1.0647, Avg Loss=0.8522]"
     ]
    },
    {
     "name": "stdout",
     "output_type": "stream",
     "text": [
      "✓ Valid shapes - Images: torch.Size([4, 9, 224, 224]), Labels: torch.Size([4])\n"
     ]
    },
    {
     "name": "stderr",
     "output_type": "stream",
     "text": [
      "Epoch 4/25:  78%|██████████████████████████▌       | 18/23 [00:07<00:01,  2.58it/s, Loss=1.2281, Avg Loss=0.8731]"
     ]
    },
    {
     "name": "stdout",
     "output_type": "stream",
     "text": [
      "✓ Valid shapes - Images: torch.Size([4, 9, 224, 224]), Labels: torch.Size([4])\n"
     ]
    },
    {
     "name": "stderr",
     "output_type": "stream",
     "text": [
      "Epoch 4/25:  83%|████████████████████████████      | 19/23 [00:07<00:01,  2.52it/s, Loss=1.8181, Avg Loss=0.9229]"
     ]
    },
    {
     "name": "stdout",
     "output_type": "stream",
     "text": [
      "✓ Valid shapes - Images: torch.Size([4, 9, 224, 224]), Labels: torch.Size([4])\n"
     ]
    },
    {
     "name": "stderr",
     "output_type": "stream",
     "text": [
      "Epoch 4/25:  87%|█████████████████████████████▌    | 20/23 [00:07<00:01,  2.47it/s, Loss=0.5867, Avg Loss=0.9061]"
     ]
    },
    {
     "name": "stdout",
     "output_type": "stream",
     "text": [
      "✓ Valid shapes - Images: torch.Size([4, 9, 224, 224]), Labels: torch.Size([4])\n"
     ]
    },
    {
     "name": "stderr",
     "output_type": "stream",
     "text": [
      "Epoch 4/25:  91%|███████████████████████████████   | 21/23 [00:08<00:00,  2.42it/s, Loss=0.4735, Avg Loss=0.8855]"
     ]
    },
    {
     "name": "stdout",
     "output_type": "stream",
     "text": [
      "✓ Valid shapes - Images: torch.Size([4, 9, 224, 224]), Labels: torch.Size([4])\n"
     ]
    },
    {
     "name": "stderr",
     "output_type": "stream",
     "text": [
      "Epoch 4/25:  96%|████████████████████████████████▌ | 22/23 [00:08<00:00,  2.43it/s, Loss=1.6956, Avg Loss=0.9223]"
     ]
    },
    {
     "name": "stdout",
     "output_type": "stream",
     "text": [
      "✓ Valid shapes - Images: torch.Size([4, 9, 224, 224]), Labels: torch.Size([4])\n"
     ]
    },
    {
     "name": "stderr",
     "output_type": "stream",
     "text": [
      "Epoch 4/25: 100%|██████████████████████████████████| 23/23 [00:09<00:00,  2.52it/s, Loss=0.6869, Avg Loss=0.9120]\n"
     ]
    },
    {
     "name": "stdout",
     "output_type": "stream",
     "text": [
      "✓ Valid shapes - Images: torch.Size([4, 9, 224, 224]), Labels: torch.Size([4])\n"
     ]
    },
    {
     "name": "stderr",
     "output_type": "stream",
     "text": [
      "Validation: 100%|██████████████████████████████████████████████████████████████████| 6/6 [00:02<00:00,  2.97it/s]\n"
     ]
    },
    {
     "name": "stdout",
     "output_type": "stream",
     "text": [
      "Epoch 4/25 - Train Loss: 0.9120, Train Acc: 70.65% - Val Loss: 0.9204, Val Acc: 70.83%\n"
     ]
    },
    {
     "name": "stderr",
     "output_type": "stream",
     "text": [
      "Epoch 5/25:   4%|█▌                                 | 1/23 [00:00<00:10,  2.05it/s, Loss=0.9219, Avg Loss=0.9219]"
     ]
    },
    {
     "name": "stdout",
     "output_type": "stream",
     "text": [
      "✓ Valid shapes - Images: torch.Size([4, 9, 224, 224]), Labels: torch.Size([4])\n"
     ]
    },
    {
     "name": "stderr",
     "output_type": "stream",
     "text": [
      "Epoch 5/25:   9%|███                                | 2/23 [00:00<00:08,  2.44it/s, Loss=0.9993, Avg Loss=0.9606]"
     ]
    },
    {
     "name": "stdout",
     "output_type": "stream",
     "text": [
      "✓ Valid shapes - Images: torch.Size([4, 9, 224, 224]), Labels: torch.Size([4])\n"
     ]
    },
    {
     "name": "stderr",
     "output_type": "stream",
     "text": [
      "Epoch 5/25:  13%|████▌                              | 3/23 [00:01<00:07,  2.58it/s, Loss=0.8096, Avg Loss=0.9103]"
     ]
    },
    {
     "name": "stdout",
     "output_type": "stream",
     "text": [
      "✓ Valid shapes - Images: torch.Size([4, 9, 224, 224]), Labels: torch.Size([4])\n"
     ]
    },
    {
     "name": "stderr",
     "output_type": "stream",
     "text": [
      "Epoch 5/25:  17%|██████                             | 4/23 [00:01<00:07,  2.68it/s, Loss=0.7964, Avg Loss=0.8818]"
     ]
    },
    {
     "name": "stdout",
     "output_type": "stream",
     "text": [
      "✓ Valid shapes - Images: torch.Size([4, 9, 224, 224]), Labels: torch.Size([4])\n"
     ]
    },
    {
     "name": "stderr",
     "output_type": "stream",
     "text": [
      "Epoch 5/25:  22%|███████▌                           | 5/23 [00:01<00:06,  2.67it/s, Loss=1.1524, Avg Loss=0.9359]"
     ]
    },
    {
     "name": "stdout",
     "output_type": "stream",
     "text": [
      "✓ Valid shapes - Images: torch.Size([4, 9, 224, 224]), Labels: torch.Size([4])\n"
     ]
    },
    {
     "name": "stderr",
     "output_type": "stream",
     "text": [
      "Epoch 5/25:  26%|█████████▏                         | 6/23 [00:02<00:06,  2.66it/s, Loss=1.2268, Avg Loss=0.9844]"
     ]
    },
    {
     "name": "stdout",
     "output_type": "stream",
     "text": [
      "✓ Valid shapes - Images: torch.Size([4, 9, 224, 224]), Labels: torch.Size([4])\n"
     ]
    },
    {
     "name": "stderr",
     "output_type": "stream",
     "text": [
      "Epoch 5/25:  30%|██████████▋                        | 7/23 [00:02<00:05,  2.70it/s, Loss=0.8113, Avg Loss=0.9597]"
     ]
    },
    {
     "name": "stdout",
     "output_type": "stream",
     "text": [
      "✓ Valid shapes - Images: torch.Size([4, 9, 224, 224]), Labels: torch.Size([4])\n"
     ]
    },
    {
     "name": "stderr",
     "output_type": "stream",
     "text": [
      "Epoch 5/25:  35%|████████████▏                      | 8/23 [00:03<00:05,  2.71it/s, Loss=0.5039, Avg Loss=0.9027]"
     ]
    },
    {
     "name": "stdout",
     "output_type": "stream",
     "text": [
      "✓ Valid shapes - Images: torch.Size([4, 9, 224, 224]), Labels: torch.Size([4])\n"
     ]
    },
    {
     "name": "stderr",
     "output_type": "stream",
     "text": [
      "Epoch 5/25:  39%|█████████████▋                     | 9/23 [00:03<00:05,  2.68it/s, Loss=1.1179, Avg Loss=0.9266]"
     ]
    },
    {
     "name": "stdout",
     "output_type": "stream",
     "text": [
      "✓ Valid shapes - Images: torch.Size([4, 9, 224, 224]), Labels: torch.Size([4])\n"
     ]
    },
    {
     "name": "stderr",
     "output_type": "stream",
     "text": [
      "Epoch 5/25:  43%|██████████████▊                   | 10/23 [00:03<00:04,  2.64it/s, Loss=1.2281, Avg Loss=0.9568]"
     ]
    },
    {
     "name": "stdout",
     "output_type": "stream",
     "text": [
      "✓ Valid shapes - Images: torch.Size([4, 9, 224, 224]), Labels: torch.Size([4])\n"
     ]
    },
    {
     "name": "stderr",
     "output_type": "stream",
     "text": [
      "Epoch 5/25:  48%|████████████████▎                 | 11/23 [00:04<00:04,  2.63it/s, Loss=0.8369, Avg Loss=0.9459]"
     ]
    },
    {
     "name": "stdout",
     "output_type": "stream",
     "text": [
      "✓ Valid shapes - Images: torch.Size([4, 9, 224, 224]), Labels: torch.Size([4])\n"
     ]
    },
    {
     "name": "stderr",
     "output_type": "stream",
     "text": [
      "Epoch 5/25:  52%|█████████████████▋                | 12/23 [00:04<00:04,  2.63it/s, Loss=1.1914, Avg Loss=0.9663]"
     ]
    },
    {
     "name": "stdout",
     "output_type": "stream",
     "text": [
      "✓ Valid shapes - Images: torch.Size([4, 9, 224, 224]), Labels: torch.Size([4])\n"
     ]
    },
    {
     "name": "stderr",
     "output_type": "stream",
     "text": [
      "Epoch 5/25:  57%|███████████████████▏              | 13/23 [00:04<00:03,  2.59it/s, Loss=0.5417, Avg Loss=0.9337]"
     ]
    },
    {
     "name": "stdout",
     "output_type": "stream",
     "text": [
      "✓ Valid shapes - Images: torch.Size([4, 9, 224, 224]), Labels: torch.Size([4])\n"
     ]
    },
    {
     "name": "stderr",
     "output_type": "stream",
     "text": [
      "Epoch 5/25:  61%|████████████████████▋             | 14/23 [00:05<00:03,  2.55it/s, Loss=0.8439, Avg Loss=0.9273]"
     ]
    },
    {
     "name": "stdout",
     "output_type": "stream",
     "text": [
      "✓ Valid shapes - Images: torch.Size([4, 9, 224, 224]), Labels: torch.Size([4])\n"
     ]
    },
    {
     "name": "stderr",
     "output_type": "stream",
     "text": [
      "Epoch 5/25:  65%|██████████████████████▏           | 15/23 [00:05<00:03,  2.53it/s, Loss=0.7816, Avg Loss=0.9176]"
     ]
    },
    {
     "name": "stdout",
     "output_type": "stream",
     "text": [
      "✓ Valid shapes - Images: torch.Size([4, 9, 224, 224]), Labels: torch.Size([4])\n"
     ]
    },
    {
     "name": "stderr",
     "output_type": "stream",
     "text": [
      "Epoch 5/25:  70%|███████████████████████▋          | 16/23 [00:06<00:02,  2.53it/s, Loss=1.1686, Avg Loss=0.9332]"
     ]
    },
    {
     "name": "stdout",
     "output_type": "stream",
     "text": [
      "✓ Valid shapes - Images: torch.Size([4, 9, 224, 224]), Labels: torch.Size([4])\n"
     ]
    },
    {
     "name": "stderr",
     "output_type": "stream",
     "text": [
      "Epoch 5/25:  74%|█████████████████████████▏        | 17/23 [00:06<00:02,  2.56it/s, Loss=0.5633, Avg Loss=0.9115]"
     ]
    },
    {
     "name": "stdout",
     "output_type": "stream",
     "text": [
      "✓ Valid shapes - Images: torch.Size([4, 9, 224, 224]), Labels: torch.Size([4])\n"
     ]
    },
    {
     "name": "stderr",
     "output_type": "stream",
     "text": [
      "Epoch 5/25:  78%|██████████████████████████▌       | 18/23 [00:06<00:01,  2.55it/s, Loss=1.0479, Avg Loss=0.9191]"
     ]
    },
    {
     "name": "stdout",
     "output_type": "stream",
     "text": [
      "✓ Valid shapes - Images: torch.Size([4, 9, 224, 224]), Labels: torch.Size([4])\n"
     ]
    },
    {
     "name": "stderr",
     "output_type": "stream",
     "text": [
      "Epoch 5/25:  83%|████████████████████████████      | 19/23 [00:07<00:01,  2.49it/s, Loss=1.1068, Avg Loss=0.9289]"
     ]
    },
    {
     "name": "stdout",
     "output_type": "stream",
     "text": [
      "✓ Valid shapes - Images: torch.Size([4, 9, 224, 224]), Labels: torch.Size([4])\n"
     ]
    },
    {
     "name": "stderr",
     "output_type": "stream",
     "text": [
      "Epoch 5/25:  87%|█████████████████████████████▌    | 20/23 [00:07<00:01,  2.57it/s, Loss=0.5127, Avg Loss=0.9081]"
     ]
    },
    {
     "name": "stdout",
     "output_type": "stream",
     "text": [
      "✓ Valid shapes - Images: torch.Size([4, 9, 224, 224]), Labels: torch.Size([4])\n"
     ]
    },
    {
     "name": "stderr",
     "output_type": "stream",
     "text": [
      "Epoch 5/25:  91%|███████████████████████████████   | 21/23 [00:08<00:00,  2.69it/s, Loss=0.6739, Avg Loss=0.8970]"
     ]
    },
    {
     "name": "stdout",
     "output_type": "stream",
     "text": [
      "✓ Valid shapes - Images: torch.Size([4, 9, 224, 224]), Labels: torch.Size([4])\n"
     ]
    },
    {
     "name": "stderr",
     "output_type": "stream",
     "text": [
      "Epoch 5/25:  96%|████████████████████████████████▌ | 22/23 [00:08<00:00,  2.73it/s, Loss=0.4313, Avg Loss=0.8758]"
     ]
    },
    {
     "name": "stdout",
     "output_type": "stream",
     "text": [
      "✓ Valid shapes - Images: torch.Size([4, 9, 224, 224]), Labels: torch.Size([4])\n"
     ]
    },
    {
     "name": "stderr",
     "output_type": "stream",
     "text": [
      "Epoch 5/25: 100%|██████████████████████████████████| 23/23 [00:08<00:00,  2.60it/s, Loss=0.8839, Avg Loss=0.8762]\n"
     ]
    },
    {
     "name": "stdout",
     "output_type": "stream",
     "text": [
      "✓ Valid shapes - Images: torch.Size([4, 9, 224, 224]), Labels: torch.Size([4])\n"
     ]
    },
    {
     "name": "stderr",
     "output_type": "stream",
     "text": [
      "Validation: 100%|██████████████████████████████████████████████████████████████████| 6/6 [00:02<00:00,  2.97it/s]\n"
     ]
    },
    {
     "name": "stdout",
     "output_type": "stream",
     "text": [
      "New best training accuracy: 71.74%\n",
      "New best model saved with accuracy: 71.74%\n",
      "Epoch 5/25 - Train Loss: 0.8762, Train Acc: 71.74% - Val Loss: 1.0555, Val Acc: 70.83% (Best!)\n"
     ]
    },
    {
     "name": "stderr",
     "output_type": "stream",
     "text": [
      "Epoch 6/25:   0%|                                                                         | 0/23 [00:00<?, ?it/s]"
     ]
    },
    {
     "name": "stdout",
     "output_type": "stream",
     "text": [
      "✓ Valid shapes - Images: torch.Size([4, 9, 224, 224]), Labels: torch.Size([4])\n"
     ]
    },
    {
     "name": "stderr",
     "output_type": "stream",
     "text": [
      "Epoch 6/25:   9%|███                                | 2/23 [00:01<00:10,  2.06it/s, Loss=0.3168, Avg Loss=0.3424]"
     ]
    },
    {
     "name": "stdout",
     "output_type": "stream",
     "text": [
      "✓ Valid shapes - Images: torch.Size([4, 9, 224, 224]), Labels: torch.Size([4])\n"
     ]
    },
    {
     "name": "stderr",
     "output_type": "stream",
     "text": [
      "Epoch 6/25:  13%|████▌                              | 3/23 [00:01<00:08,  2.30it/s, Loss=0.3214, Avg Loss=0.3354]"
     ]
    },
    {
     "name": "stdout",
     "output_type": "stream",
     "text": [
      "✓ Valid shapes - Images: torch.Size([4, 9, 224, 224]), Labels: torch.Size([4])\n"
     ]
    },
    {
     "name": "stderr",
     "output_type": "stream",
     "text": [
      "Epoch 6/25:  17%|██████                             | 4/23 [00:01<00:08,  2.35it/s, Loss=0.9423, Avg Loss=0.4871]"
     ]
    },
    {
     "name": "stdout",
     "output_type": "stream",
     "text": [
      "✓ Valid shapes - Images: torch.Size([4, 9, 224, 224]), Labels: torch.Size([4])\n"
     ]
    },
    {
     "name": "stderr",
     "output_type": "stream",
     "text": [
      "Epoch 6/25:  22%|███████▌                           | 5/23 [00:02<00:07,  2.49it/s, Loss=0.2612, Avg Loss=0.4420]"
     ]
    },
    {
     "name": "stdout",
     "output_type": "stream",
     "text": [
      "✓ Valid shapes - Images: torch.Size([4, 9, 224, 224]), Labels: torch.Size([4])\n"
     ]
    },
    {
     "name": "stderr",
     "output_type": "stream",
     "text": [
      "Epoch 6/25:  26%|█████████▏                         | 6/23 [00:02<00:06,  2.57it/s, Loss=0.2297, Avg Loss=0.4066]"
     ]
    },
    {
     "name": "stdout",
     "output_type": "stream",
     "text": [
      "✓ Valid shapes - Images: torch.Size([4, 9, 224, 224]), Labels: torch.Size([4])\n"
     ]
    },
    {
     "name": "stderr",
     "output_type": "stream",
     "text": [
      "Epoch 6/25:  30%|██████████▋                        | 7/23 [00:02<00:06,  2.57it/s, Loss=1.1413, Avg Loss=0.5115]"
     ]
    },
    {
     "name": "stdout",
     "output_type": "stream",
     "text": [
      "✓ Valid shapes - Images: torch.Size([4, 9, 224, 224]), Labels: torch.Size([4])\n"
     ]
    },
    {
     "name": "stderr",
     "output_type": "stream",
     "text": [
      "Epoch 6/25:  35%|████████████▏                      | 8/23 [00:03<00:05,  2.57it/s, Loss=1.1347, Avg Loss=0.5894]"
     ]
    },
    {
     "name": "stdout",
     "output_type": "stream",
     "text": [
      "✓ Valid shapes - Images: torch.Size([4, 9, 224, 224]), Labels: torch.Size([4])\n"
     ]
    },
    {
     "name": "stderr",
     "output_type": "stream",
     "text": [
      "Epoch 6/25:  39%|█████████████▋                     | 9/23 [00:03<00:05,  2.59it/s, Loss=3.1388, Avg Loss=0.8727]"
     ]
    },
    {
     "name": "stdout",
     "output_type": "stream",
     "text": [
      "✓ Valid shapes - Images: torch.Size([4, 9, 224, 224]), Labels: torch.Size([4])\n"
     ]
    },
    {
     "name": "stderr",
     "output_type": "stream",
     "text": [
      "Epoch 6/25:  43%|██████████████▊                   | 10/23 [00:04<00:04,  2.62it/s, Loss=1.8845, Avg Loss=0.9739]"
     ]
    },
    {
     "name": "stdout",
     "output_type": "stream",
     "text": [
      "✓ Valid shapes - Images: torch.Size([4, 9, 224, 224]), Labels: torch.Size([4])\n"
     ]
    },
    {
     "name": "stderr",
     "output_type": "stream",
     "text": [
      "Epoch 6/25:  48%|████████████████▎                 | 11/23 [00:04<00:04,  2.63it/s, Loss=1.0170, Avg Loss=0.9778]"
     ]
    },
    {
     "name": "stdout",
     "output_type": "stream",
     "text": [
      "✓ Valid shapes - Images: torch.Size([4, 9, 224, 224]), Labels: torch.Size([4])\n"
     ]
    },
    {
     "name": "stderr",
     "output_type": "stream",
     "text": [
      "Epoch 6/25:  52%|█████████████████▋                | 12/23 [00:04<00:04,  2.61it/s, Loss=1.0077, Avg Loss=0.9803]"
     ]
    },
    {
     "name": "stdout",
     "output_type": "stream",
     "text": [
      "✓ Valid shapes - Images: torch.Size([4, 9, 224, 224]), Labels: torch.Size([4])\n"
     ]
    },
    {
     "name": "stderr",
     "output_type": "stream",
     "text": [
      "Epoch 6/25:  57%|███████████████████▏              | 13/23 [00:05<00:03,  2.59it/s, Loss=0.9368, Avg Loss=0.9770]"
     ]
    },
    {
     "name": "stdout",
     "output_type": "stream",
     "text": [
      "✓ Valid shapes - Images: torch.Size([4, 9, 224, 224]), Labels: torch.Size([4])\n"
     ]
    },
    {
     "name": "stderr",
     "output_type": "stream",
     "text": [
      "Epoch 6/25:  61%|████████████████████▋             | 14/23 [00:05<00:03,  2.59it/s, Loss=1.5820, Avg Loss=1.0202]"
     ]
    },
    {
     "name": "stdout",
     "output_type": "stream",
     "text": [
      "✓ Valid shapes - Images: torch.Size([4, 9, 224, 224]), Labels: torch.Size([4])\n"
     ]
    },
    {
     "name": "stderr",
     "output_type": "stream",
     "text": [
      "Epoch 6/25:  65%|██████████████████████▏           | 15/23 [00:06<00:03,  2.53it/s, Loss=1.4188, Avg Loss=1.0467]"
     ]
    },
    {
     "name": "stdout",
     "output_type": "stream",
     "text": [
      "✓ Valid shapes - Images: torch.Size([4, 9, 224, 224]), Labels: torch.Size([4])\n"
     ]
    },
    {
     "name": "stderr",
     "output_type": "stream",
     "text": [
      "Epoch 6/25:  70%|███████████████████████▋          | 16/23 [00:06<00:02,  2.49it/s, Loss=1.2798, Avg Loss=1.0613]"
     ]
    },
    {
     "name": "stdout",
     "output_type": "stream",
     "text": [
      "✓ Valid shapes - Images: torch.Size([4, 9, 224, 224]), Labels: torch.Size([4])\n"
     ]
    },
    {
     "name": "stderr",
     "output_type": "stream",
     "text": [
      "Epoch 6/25:  74%|█████████████████████████▏        | 17/23 [00:06<00:02,  2.52it/s, Loss=0.9244, Avg Loss=1.0533]"
     ]
    },
    {
     "name": "stdout",
     "output_type": "stream",
     "text": [
      "✓ Valid shapes - Images: torch.Size([4, 9, 224, 224]), Labels: torch.Size([4])\n"
     ]
    },
    {
     "name": "stderr",
     "output_type": "stream",
     "text": [
      "Epoch 6/25:  78%|██████████████████████████▌       | 18/23 [00:07<00:01,  2.57it/s, Loss=0.6221, Avg Loss=1.0293]"
     ]
    },
    {
     "name": "stdout",
     "output_type": "stream",
     "text": [
      "✓ Valid shapes - Images: torch.Size([4, 9, 224, 224]), Labels: torch.Size([4])\n"
     ]
    },
    {
     "name": "stderr",
     "output_type": "stream",
     "text": [
      "Epoch 6/25:  83%|████████████████████████████      | 19/23 [00:07<00:01,  2.60it/s, Loss=1.2997, Avg Loss=1.0435]"
     ]
    },
    {
     "name": "stdout",
     "output_type": "stream",
     "text": [
      "✓ Valid shapes - Images: torch.Size([4, 9, 224, 224]), Labels: torch.Size([4])\n"
     ]
    },
    {
     "name": "stderr",
     "output_type": "stream",
     "text": [
      "Epoch 6/25:  87%|█████████████████████████████▌    | 20/23 [00:07<00:01,  2.59it/s, Loss=1.2969, Avg Loss=1.0562]"
     ]
    },
    {
     "name": "stdout",
     "output_type": "stream",
     "text": [
      "✓ Valid shapes - Images: torch.Size([4, 9, 224, 224]), Labels: torch.Size([4])\n"
     ]
    },
    {
     "name": "stderr",
     "output_type": "stream",
     "text": [
      "Epoch 6/25:  91%|███████████████████████████████   | 21/23 [00:08<00:00,  2.59it/s, Loss=0.9525, Avg Loss=1.0513]"
     ]
    },
    {
     "name": "stdout",
     "output_type": "stream",
     "text": [
      "✓ Valid shapes - Images: torch.Size([4, 9, 224, 224]), Labels: torch.Size([4])\n"
     ]
    },
    {
     "name": "stderr",
     "output_type": "stream",
     "text": [
      "Epoch 6/25:  96%|████████████████████████████████▌ | 22/23 [00:08<00:00,  2.58it/s, Loss=0.5809, Avg Loss=1.0299]"
     ]
    },
    {
     "name": "stdout",
     "output_type": "stream",
     "text": [
      "✓ Valid shapes - Images: torch.Size([4, 9, 224, 224]), Labels: torch.Size([4])\n"
     ]
    },
    {
     "name": "stderr",
     "output_type": "stream",
     "text": [
      "Epoch 6/25: 100%|██████████████████████████████████| 23/23 [00:09<00:00,  2.52it/s, Loss=2.0438, Avg Loss=1.0740]\n"
     ]
    },
    {
     "name": "stdout",
     "output_type": "stream",
     "text": [
      "✓ Valid shapes - Images: torch.Size([4, 9, 224, 224]), Labels: torch.Size([4])\n"
     ]
    },
    {
     "name": "stderr",
     "output_type": "stream",
     "text": [
      "Validation: 100%|██████████████████████████████████████████████████████████████████| 6/6 [00:02<00:00,  2.87it/s]\n"
     ]
    },
    {
     "name": "stdout",
     "output_type": "stream",
     "text": [
      "Epoch 6/25 - Train Loss: 1.0740, Train Acc: 70.65% - Val Loss: 0.9467, Val Acc: 70.83%\n"
     ]
    },
    {
     "name": "stderr",
     "output_type": "stream",
     "text": [
      "Epoch 7/25:   0%|                                                                         | 0/23 [00:00<?, ?it/s]"
     ]
    },
    {
     "name": "stdout",
     "output_type": "stream",
     "text": [
      "✓ Valid shapes - Images: torch.Size([4, 9, 224, 224]), Labels: torch.Size([4])\n"
     ]
    },
    {
     "name": "stderr",
     "output_type": "stream",
     "text": [
      "Epoch 7/25:   9%|███                                | 2/23 [00:00<00:09,  2.15it/s, Loss=0.8928, Avg Loss=0.9148]"
     ]
    },
    {
     "name": "stdout",
     "output_type": "stream",
     "text": [
      "✓ Valid shapes - Images: torch.Size([4, 9, 224, 224]), Labels: torch.Size([4])\n"
     ]
    },
    {
     "name": "stderr",
     "output_type": "stream",
     "text": [
      "Epoch 7/25:  13%|████▌                              | 3/23 [00:01<00:08,  2.40it/s, Loss=1.2074, Avg Loss=1.0123]"
     ]
    },
    {
     "name": "stdout",
     "output_type": "stream",
     "text": [
      "✓ Valid shapes - Images: torch.Size([4, 9, 224, 224]), Labels: torch.Size([4])\n"
     ]
    },
    {
     "name": "stderr",
     "output_type": "stream",
     "text": [
      "Epoch 7/25:  17%|██████                             | 4/23 [00:01<00:07,  2.56it/s, Loss=1.3044, Avg Loss=1.0854]"
     ]
    },
    {
     "name": "stdout",
     "output_type": "stream",
     "text": [
      "✓ Valid shapes - Images: torch.Size([4, 9, 224, 224]), Labels: torch.Size([4])\n"
     ]
    },
    {
     "name": "stderr",
     "output_type": "stream",
     "text": [
      "Epoch 7/25:  22%|███████▌                           | 5/23 [00:02<00:07,  2.55it/s, Loss=0.7914, Avg Loss=1.0266]"
     ]
    },
    {
     "name": "stdout",
     "output_type": "stream",
     "text": [
      "✓ Valid shapes - Images: torch.Size([4, 9, 224, 224]), Labels: torch.Size([4])\n"
     ]
    },
    {
     "name": "stderr",
     "output_type": "stream",
     "text": [
      "Epoch 7/25:  26%|█████████▏                         | 6/23 [00:02<00:06,  2.63it/s, Loss=0.4350, Avg Loss=0.9280]"
     ]
    },
    {
     "name": "stdout",
     "output_type": "stream",
     "text": [
      "✓ Valid shapes - Images: torch.Size([4, 9, 224, 224]), Labels: torch.Size([4])\n"
     ]
    },
    {
     "name": "stderr",
     "output_type": "stream",
     "text": [
      "Epoch 7/25:  30%|██████████▋                        | 7/23 [00:02<00:06,  2.65it/s, Loss=0.7532, Avg Loss=0.9030]"
     ]
    },
    {
     "name": "stdout",
     "output_type": "stream",
     "text": [
      "✓ Valid shapes - Images: torch.Size([4, 9, 224, 224]), Labels: torch.Size([4])\n"
     ]
    },
    {
     "name": "stderr",
     "output_type": "stream",
     "text": [
      "Epoch 7/25:  35%|████████████▏                      | 8/23 [00:03<00:05,  2.59it/s, Loss=0.8295, Avg Loss=0.8938]"
     ]
    },
    {
     "name": "stdout",
     "output_type": "stream",
     "text": [
      "✓ Valid shapes - Images: torch.Size([4, 9, 224, 224]), Labels: torch.Size([4])\n"
     ]
    },
    {
     "name": "stderr",
     "output_type": "stream",
     "text": [
      "Epoch 7/25:  39%|█████████████▋                     | 9/23 [00:03<00:05,  2.63it/s, Loss=0.4344, Avg Loss=0.8428]"
     ]
    },
    {
     "name": "stdout",
     "output_type": "stream",
     "text": [
      "✓ Valid shapes - Images: torch.Size([4, 9, 224, 224]), Labels: torch.Size([4])\n"
     ]
    },
    {
     "name": "stderr",
     "output_type": "stream",
     "text": [
      "Epoch 7/25:  43%|██████████████▊                   | 10/23 [00:03<00:04,  2.66it/s, Loss=0.9016, Avg Loss=0.8487]"
     ]
    },
    {
     "name": "stdout",
     "output_type": "stream",
     "text": [
      "✓ Valid shapes - Images: torch.Size([4, 9, 224, 224]), Labels: torch.Size([4])\n"
     ]
    },
    {
     "name": "stderr",
     "output_type": "stream",
     "text": [
      "Epoch 7/25:  48%|████████████████▎                 | 11/23 [00:04<00:04,  2.65it/s, Loss=0.4496, Avg Loss=0.8124]"
     ]
    },
    {
     "name": "stdout",
     "output_type": "stream",
     "text": [
      "✓ Valid shapes - Images: torch.Size([4, 9, 224, 224]), Labels: torch.Size([4])\n"
     ]
    },
    {
     "name": "stderr",
     "output_type": "stream",
     "text": [
      "Epoch 7/25:  52%|█████████████████▋                | 12/23 [00:04<00:04,  2.46it/s, Loss=0.7556, Avg Loss=0.8076]"
     ]
    },
    {
     "name": "stdout",
     "output_type": "stream",
     "text": [
      "✓ Valid shapes - Images: torch.Size([4, 9, 224, 224]), Labels: torch.Size([4])\n"
     ]
    },
    {
     "name": "stderr",
     "output_type": "stream",
     "text": [
      "Epoch 7/25:  57%|███████████████████▏              | 13/23 [00:05<00:04,  2.32it/s, Loss=0.3768, Avg Loss=0.7745]"
     ]
    },
    {
     "name": "stdout",
     "output_type": "stream",
     "text": [
      "✓ Valid shapes - Images: torch.Size([4, 9, 224, 224]), Labels: torch.Size([4])\n"
     ]
    },
    {
     "name": "stderr",
     "output_type": "stream",
     "text": [
      "Epoch 7/25:  61%|████████████████████▋             | 14/23 [00:05<00:03,  2.29it/s, Loss=0.6997, Avg Loss=0.7692]"
     ]
    },
    {
     "name": "stdout",
     "output_type": "stream",
     "text": [
      "✓ Valid shapes - Images: torch.Size([4, 9, 224, 224]), Labels: torch.Size([4])\n"
     ]
    },
    {
     "name": "stderr",
     "output_type": "stream",
     "text": [
      "Epoch 7/25:  65%|██████████████████████▏           | 15/23 [00:06<00:03,  2.29it/s, Loss=0.8115, Avg Loss=0.7720]"
     ]
    },
    {
     "name": "stdout",
     "output_type": "stream",
     "text": [
      "✓ Valid shapes - Images: torch.Size([4, 9, 224, 224]), Labels: torch.Size([4])\n"
     ]
    },
    {
     "name": "stderr",
     "output_type": "stream",
     "text": [
      "Epoch 7/25:  70%|███████████████████████▋          | 16/23 [00:06<00:03,  2.33it/s, Loss=0.8062, Avg Loss=0.7741]"
     ]
    },
    {
     "name": "stdout",
     "output_type": "stream",
     "text": [
      "✓ Valid shapes - Images: torch.Size([4, 9, 224, 224]), Labels: torch.Size([4])\n"
     ]
    },
    {
     "name": "stderr",
     "output_type": "stream",
     "text": [
      "Epoch 7/25:  74%|█████████████████████████▏        | 17/23 [00:06<00:02,  2.37it/s, Loss=1.5173, Avg Loss=0.8178]"
     ]
    },
    {
     "name": "stdout",
     "output_type": "stream",
     "text": [
      "✓ Valid shapes - Images: torch.Size([4, 9, 224, 224]), Labels: torch.Size([4])\n"
     ]
    },
    {
     "name": "stderr",
     "output_type": "stream",
     "text": [
      "Epoch 7/25:  78%|██████████████████████████▌       | 18/23 [00:07<00:02,  2.39it/s, Loss=1.2249, Avg Loss=0.8404]"
     ]
    },
    {
     "name": "stdout",
     "output_type": "stream",
     "text": [
      "✓ Valid shapes - Images: torch.Size([4, 9, 224, 224]), Labels: torch.Size([4])\n"
     ]
    },
    {
     "name": "stderr",
     "output_type": "stream",
     "text": [
      "Epoch 7/25:  83%|████████████████████████████      | 19/23 [00:07<00:01,  2.18it/s, Loss=1.2260, Avg Loss=0.8607]"
     ]
    },
    {
     "name": "stdout",
     "output_type": "stream",
     "text": [
      "✓ Valid shapes - Images: torch.Size([4, 9, 224, 224]), Labels: torch.Size([4])\n"
     ]
    },
    {
     "name": "stderr",
     "output_type": "stream",
     "text": [
      "Epoch 7/25:  87%|█████████████████████████████▌    | 20/23 [00:08<00:01,  2.25it/s, Loss=0.9089, Avg Loss=0.8631]"
     ]
    },
    {
     "name": "stdout",
     "output_type": "stream",
     "text": [
      "✓ Valid shapes - Images: torch.Size([4, 9, 224, 224]), Labels: torch.Size([4])\n"
     ]
    },
    {
     "name": "stderr",
     "output_type": "stream",
     "text": [
      "Epoch 7/25:  91%|███████████████████████████████   | 21/23 [00:08<00:00,  2.01it/s, Loss=1.6038, Avg Loss=0.8984]"
     ]
    },
    {
     "name": "stdout",
     "output_type": "stream",
     "text": [
      "✓ Valid shapes - Images: torch.Size([4, 9, 224, 224]), Labels: torch.Size([4])\n"
     ]
    },
    {
     "name": "stderr",
     "output_type": "stream",
     "text": [
      "Epoch 7/25:  96%|████████████████████████████████▌ | 22/23 [00:09<00:00,  2.06it/s, Loss=1.0984, Avg Loss=0.9075]"
     ]
    },
    {
     "name": "stdout",
     "output_type": "stream",
     "text": [
      "✓ Valid shapes - Images: torch.Size([4, 9, 224, 224]), Labels: torch.Size([4])\n"
     ]
    },
    {
     "name": "stderr",
     "output_type": "stream",
     "text": [
      "Epoch 7/25: 100%|██████████████████████████████████| 23/23 [00:09<00:00,  2.34it/s, Loss=0.7303, Avg Loss=0.8998]\n"
     ]
    },
    {
     "name": "stdout",
     "output_type": "stream",
     "text": [
      "✓ Valid shapes - Images: torch.Size([4, 9, 224, 224]), Labels: torch.Size([4])\n"
     ]
    },
    {
     "name": "stderr",
     "output_type": "stream",
     "text": [
      "Validation: 100%|██████████████████████████████████████████████████████████████████| 6/6 [00:02<00:00,  2.94it/s]\n"
     ]
    },
    {
     "name": "stdout",
     "output_type": "stream",
     "text": [
      "Epoch 7/25 - Train Loss: 0.8998, Train Acc: 70.65% - Val Loss: 0.9100, Val Acc: 70.83%\n"
     ]
    },
    {
     "name": "stderr",
     "output_type": "stream",
     "text": [
      "Epoch 8/25:   0%|                                                                         | 0/23 [00:00<?, ?it/s]"
     ]
    },
    {
     "name": "stdout",
     "output_type": "stream",
     "text": [
      "✓ Valid shapes - Images: torch.Size([4, 9, 224, 224]), Labels: torch.Size([4])\n"
     ]
    },
    {
     "name": "stderr",
     "output_type": "stream",
     "text": [
      "Epoch 8/25:   9%|███                                | 2/23 [00:00<00:09,  2.14it/s, Loss=0.7764, Avg Loss=0.7756]"
     ]
    },
    {
     "name": "stdout",
     "output_type": "stream",
     "text": [
      "✓ Valid shapes - Images: torch.Size([4, 9, 224, 224]), Labels: torch.Size([4])\n"
     ]
    },
    {
     "name": "stderr",
     "output_type": "stream",
     "text": [
      "Epoch 8/25:  13%|████▌                              | 3/23 [00:01<00:08,  2.42it/s, Loss=0.7437, Avg Loss=0.7649]"
     ]
    },
    {
     "name": "stdout",
     "output_type": "stream",
     "text": [
      "✓ Valid shapes - Images: torch.Size([4, 9, 224, 224]), Labels: torch.Size([4])\n"
     ]
    },
    {
     "name": "stderr",
     "output_type": "stream",
     "text": [
      "Epoch 8/25:  17%|██████                             | 4/23 [00:01<00:07,  2.48it/s, Loss=0.9613, Avg Loss=0.8140]"
     ]
    },
    {
     "name": "stdout",
     "output_type": "stream",
     "text": [
      "✓ Valid shapes - Images: torch.Size([4, 9, 224, 224]), Labels: torch.Size([4])\n"
     ]
    },
    {
     "name": "stderr",
     "output_type": "stream",
     "text": [
      "Epoch 8/25:  22%|███████▌                           | 5/23 [00:02<00:07,  2.50it/s, Loss=1.0887, Avg Loss=0.8690]"
     ]
    },
    {
     "name": "stdout",
     "output_type": "stream",
     "text": [
      "✓ Valid shapes - Images: torch.Size([4, 9, 224, 224]), Labels: torch.Size([4])\n"
     ]
    },
    {
     "name": "stderr",
     "output_type": "stream",
     "text": [
      "Epoch 8/25:  26%|█████████▏                         | 6/23 [00:02<00:06,  2.54it/s, Loss=1.0206, Avg Loss=0.8942]"
     ]
    },
    {
     "name": "stdout",
     "output_type": "stream",
     "text": [
      "✓ Valid shapes - Images: torch.Size([4, 9, 224, 224]), Labels: torch.Size([4])\n"
     ]
    },
    {
     "name": "stderr",
     "output_type": "stream",
     "text": [
      "Epoch 8/25:  30%|██████████▋                        | 7/23 [00:02<00:06,  2.59it/s, Loss=0.9144, Avg Loss=0.8971]"
     ]
    },
    {
     "name": "stdout",
     "output_type": "stream",
     "text": [
      "✓ Valid shapes - Images: torch.Size([4, 9, 224, 224]), Labels: torch.Size([4])\n"
     ]
    },
    {
     "name": "stderr",
     "output_type": "stream",
     "text": [
      "Epoch 8/25:  35%|████████████▏                      | 8/23 [00:03<00:05,  2.58it/s, Loss=1.0455, Avg Loss=0.9157]"
     ]
    },
    {
     "name": "stdout",
     "output_type": "stream",
     "text": [
      "✓ Valid shapes - Images: torch.Size([4, 9, 224, 224]), Labels: torch.Size([4])\n"
     ]
    },
    {
     "name": "stderr",
     "output_type": "stream",
     "text": [
      "Epoch 8/25:  39%|█████████████▋                     | 9/23 [00:03<00:05,  2.58it/s, Loss=0.6344, Avg Loss=0.8844]"
     ]
    },
    {
     "name": "stdout",
     "output_type": "stream",
     "text": [
      "✓ Valid shapes - Images: torch.Size([4, 9, 224, 224]), Labels: torch.Size([4])\n"
     ]
    },
    {
     "name": "stderr",
     "output_type": "stream",
     "text": [
      "Epoch 8/25:  43%|██████████████▊                   | 10/23 [00:04<00:05,  2.57it/s, Loss=0.9973, Avg Loss=0.8957]"
     ]
    },
    {
     "name": "stdout",
     "output_type": "stream",
     "text": [
      "✓ Valid shapes - Images: torch.Size([4, 9, 224, 224]), Labels: torch.Size([4])\n"
     ]
    },
    {
     "name": "stderr",
     "output_type": "stream",
     "text": [
      "Epoch 8/25:  48%|████████████████▎                 | 11/23 [00:04<00:04,  2.59it/s, Loss=0.5184, Avg Loss=0.8614]"
     ]
    },
    {
     "name": "stdout",
     "output_type": "stream",
     "text": [
      "✓ Valid shapes - Images: torch.Size([4, 9, 224, 224]), Labels: torch.Size([4])\n"
     ]
    },
    {
     "name": "stderr",
     "output_type": "stream",
     "text": [
      "Epoch 8/25:  52%|█████████████████▋                | 12/23 [00:04<00:04,  2.58it/s, Loss=1.0589, Avg Loss=0.8779]"
     ]
    },
    {
     "name": "stdout",
     "output_type": "stream",
     "text": [
      "✓ Valid shapes - Images: torch.Size([4, 9, 224, 224]), Labels: torch.Size([4])\n"
     ]
    },
    {
     "name": "stderr",
     "output_type": "stream",
     "text": [
      "Epoch 8/25:  57%|███████████████████▏              | 13/23 [00:05<00:03,  2.57it/s, Loss=0.5093, Avg Loss=0.8495]"
     ]
    },
    {
     "name": "stdout",
     "output_type": "stream",
     "text": [
      "✓ Valid shapes - Images: torch.Size([4, 9, 224, 224]), Labels: torch.Size([4])\n"
     ]
    },
    {
     "name": "stderr",
     "output_type": "stream",
     "text": [
      "Epoch 8/25:  61%|████████████████████▋             | 14/23 [00:05<00:03,  2.58it/s, Loss=0.7029, Avg Loss=0.8390]"
     ]
    },
    {
     "name": "stdout",
     "output_type": "stream",
     "text": [
      "✓ Valid shapes - Images: torch.Size([4, 9, 224, 224]), Labels: torch.Size([4])\n"
     ]
    },
    {
     "name": "stderr",
     "output_type": "stream",
     "text": [
      "Epoch 8/25:  65%|██████████████████████▏           | 15/23 [00:05<00:03,  2.55it/s, Loss=1.0364, Avg Loss=0.8522]"
     ]
    },
    {
     "name": "stdout",
     "output_type": "stream",
     "text": [
      "✓ Valid shapes - Images: torch.Size([4, 9, 224, 224]), Labels: torch.Size([4])\n"
     ]
    },
    {
     "name": "stderr",
     "output_type": "stream",
     "text": [
      "Epoch 8/25:  70%|███████████████████████▋          | 16/23 [00:06<00:02,  2.55it/s, Loss=0.9194, Avg Loss=0.8564]"
     ]
    },
    {
     "name": "stdout",
     "output_type": "stream",
     "text": [
      "✓ Valid shapes - Images: torch.Size([4, 9, 224, 224]), Labels: torch.Size([4])\n"
     ]
    },
    {
     "name": "stderr",
     "output_type": "stream",
     "text": [
      "Epoch 8/25:  74%|█████████████████████████▏        | 17/23 [00:06<00:02,  2.53it/s, Loss=0.7218, Avg Loss=0.8485]"
     ]
    },
    {
     "name": "stdout",
     "output_type": "stream",
     "text": [
      "✓ Valid shapes - Images: torch.Size([4, 9, 224, 224]), Labels: torch.Size([4])\n"
     ]
    },
    {
     "name": "stderr",
     "output_type": "stream",
     "text": [
      "Epoch 8/25:  78%|██████████████████████████▌       | 18/23 [00:07<00:02,  2.50it/s, Loss=0.7914, Avg Loss=0.8453]"
     ]
    },
    {
     "name": "stdout",
     "output_type": "stream",
     "text": [
      "✓ Valid shapes - Images: torch.Size([4, 9, 224, 224]), Labels: torch.Size([4])\n"
     ]
    },
    {
     "name": "stderr",
     "output_type": "stream",
     "text": [
      "Epoch 8/25:  83%|████████████████████████████      | 19/23 [00:07<00:01,  2.51it/s, Loss=1.6800, Avg Loss=0.8892]"
     ]
    },
    {
     "name": "stdout",
     "output_type": "stream",
     "text": [
      "✓ Valid shapes - Images: torch.Size([4, 9, 224, 224]), Labels: torch.Size([4])\n"
     ]
    },
    {
     "name": "stderr",
     "output_type": "stream",
     "text": [
      "Epoch 8/25:  87%|█████████████████████████████▌    | 20/23 [00:07<00:01,  2.51it/s, Loss=1.1561, Avg Loss=0.9026]"
     ]
    },
    {
     "name": "stdout",
     "output_type": "stream",
     "text": [
      "✓ Valid shapes - Images: torch.Size([4, 9, 224, 224]), Labels: torch.Size([4])\n"
     ]
    },
    {
     "name": "stderr",
     "output_type": "stream",
     "text": [
      "Epoch 8/25:  91%|███████████████████████████████   | 21/23 [00:08<00:00,  2.54it/s, Loss=0.7889, Avg Loss=0.8972]"
     ]
    },
    {
     "name": "stdout",
     "output_type": "stream",
     "text": [
      "✓ Valid shapes - Images: torch.Size([4, 9, 224, 224]), Labels: torch.Size([4])\n"
     ]
    },
    {
     "name": "stderr",
     "output_type": "stream",
     "text": [
      "Epoch 8/25:  96%|████████████████████████████████▌ | 22/23 [00:08<00:00,  2.53it/s, Loss=0.4361, Avg Loss=0.8762]"
     ]
    },
    {
     "name": "stdout",
     "output_type": "stream",
     "text": [
      "✓ Valid shapes - Images: torch.Size([4, 9, 224, 224]), Labels: torch.Size([4])\n"
     ]
    },
    {
     "name": "stderr",
     "output_type": "stream",
     "text": [
      "Epoch 8/25: 100%|██████████████████████████████████| 23/23 [00:09<00:00,  2.51it/s, Loss=2.1674, Avg Loss=0.9323]\n"
     ]
    },
    {
     "name": "stdout",
     "output_type": "stream",
     "text": [
      "✓ Valid shapes - Images: torch.Size([4, 9, 224, 224]), Labels: torch.Size([4])\n"
     ]
    },
    {
     "name": "stderr",
     "output_type": "stream",
     "text": [
      "Validation: 100%|██████████████████████████████████████████████████████████████████| 6/6 [00:01<00:00,  3.05it/s]\n"
     ]
    },
    {
     "name": "stdout",
     "output_type": "stream",
     "text": [
      "Epoch 8/25 - Train Loss: 0.9323, Train Acc: 70.65% - Val Loss: 0.9381, Val Acc: 70.83%\n"
     ]
    },
    {
     "name": "stderr",
     "output_type": "stream",
     "text": [
      "Epoch 9/25:   0%|                                                                         | 0/23 [00:00<?, ?it/s]"
     ]
    },
    {
     "name": "stdout",
     "output_type": "stream",
     "text": [
      "✓ Valid shapes - Images: torch.Size([4, 9, 224, 224]), Labels: torch.Size([4])\n"
     ]
    },
    {
     "name": "stderr",
     "output_type": "stream",
     "text": [
      "Epoch 9/25:   9%|███                                | 2/23 [00:01<00:10,  2.06it/s, Loss=0.4397, Avg Loss=0.5735]"
     ]
    },
    {
     "name": "stdout",
     "output_type": "stream",
     "text": [
      "✓ Valid shapes - Images: torch.Size([4, 9, 224, 224]), Labels: torch.Size([4])\n"
     ]
    },
    {
     "name": "stderr",
     "output_type": "stream",
     "text": [
      "Epoch 9/25:  13%|████▌                              | 3/23 [00:01<00:08,  2.29it/s, Loss=1.6389, Avg Loss=0.9286]"
     ]
    },
    {
     "name": "stdout",
     "output_type": "stream",
     "text": [
      "✓ Valid shapes - Images: torch.Size([4, 9, 224, 224]), Labels: torch.Size([4])\n"
     ]
    },
    {
     "name": "stderr",
     "output_type": "stream",
     "text": [
      "Epoch 9/25:  17%|██████                             | 4/23 [00:01<00:07,  2.45it/s, Loss=0.7778, Avg Loss=0.8909]"
     ]
    },
    {
     "name": "stdout",
     "output_type": "stream",
     "text": [
      "✓ Valid shapes - Images: torch.Size([4, 9, 224, 224]), Labels: torch.Size([4])\n"
     ]
    },
    {
     "name": "stderr",
     "output_type": "stream",
     "text": [
      "Epoch 9/25:  22%|███████▌                           | 5/23 [00:02<00:07,  2.52it/s, Loss=0.8194, Avg Loss=0.8766]"
     ]
    },
    {
     "name": "stdout",
     "output_type": "stream",
     "text": [
      "✓ Valid shapes - Images: torch.Size([4, 9, 224, 224]), Labels: torch.Size([4])\n"
     ]
    },
    {
     "name": "stderr",
     "output_type": "stream",
     "text": [
      "Epoch 9/25:  26%|█████████▏                         | 6/23 [00:02<00:06,  2.52it/s, Loss=0.4541, Avg Loss=0.8062]"
     ]
    },
    {
     "name": "stdout",
     "output_type": "stream",
     "text": [
      "✓ Valid shapes - Images: torch.Size([4, 9, 224, 224]), Labels: torch.Size([4])\n"
     ]
    },
    {
     "name": "stderr",
     "output_type": "stream",
     "text": [
      "Epoch 9/25:  30%|██████████▋                        | 7/23 [00:02<00:06,  2.55it/s, Loss=1.1338, Avg Loss=0.8530]"
     ]
    },
    {
     "name": "stdout",
     "output_type": "stream",
     "text": [
      "✓ Valid shapes - Images: torch.Size([4, 9, 224, 224]), Labels: torch.Size([4])\n"
     ]
    },
    {
     "name": "stderr",
     "output_type": "stream",
     "text": [
      "Epoch 9/25:  35%|████████████▏                      | 8/23 [00:03<00:05,  2.57it/s, Loss=1.1843, Avg Loss=0.8944]"
     ]
    },
    {
     "name": "stdout",
     "output_type": "stream",
     "text": [
      "✓ Valid shapes - Images: torch.Size([4, 9, 224, 224]), Labels: torch.Size([4])\n"
     ]
    },
    {
     "name": "stderr",
     "output_type": "stream",
     "text": [
      "Epoch 9/25:  39%|█████████████▋                     | 9/23 [00:03<00:05,  2.54it/s, Loss=0.7875, Avg Loss=0.8825]"
     ]
    },
    {
     "name": "stdout",
     "output_type": "stream",
     "text": [
      "✓ Valid shapes - Images: torch.Size([4, 9, 224, 224]), Labels: torch.Size([4])\n"
     ]
    },
    {
     "name": "stderr",
     "output_type": "stream",
     "text": [
      "Epoch 9/25:  43%|██████████████▊                   | 10/23 [00:04<00:05,  2.48it/s, Loss=1.2566, Avg Loss=0.9199]"
     ]
    },
    {
     "name": "stdout",
     "output_type": "stream",
     "text": [
      "✓ Valid shapes - Images: torch.Size([4, 9, 224, 224]), Labels: torch.Size([4])\n"
     ]
    },
    {
     "name": "stderr",
     "output_type": "stream",
     "text": [
      "Epoch 9/25:  48%|████████████████▎                 | 11/23 [00:04<00:04,  2.50it/s, Loss=0.9805, Avg Loss=0.9254]"
     ]
    },
    {
     "name": "stdout",
     "output_type": "stream",
     "text": [
      "✓ Valid shapes - Images: torch.Size([4, 9, 224, 224]), Labels: torch.Size([4])\n"
     ]
    },
    {
     "name": "stderr",
     "output_type": "stream",
     "text": [
      "Epoch 9/25:  52%|█████████████████▋                | 12/23 [00:04<00:04,  2.53it/s, Loss=0.8098, Avg Loss=0.9158]"
     ]
    },
    {
     "name": "stdout",
     "output_type": "stream",
     "text": [
      "✓ Valid shapes - Images: torch.Size([4, 9, 224, 224]), Labels: torch.Size([4])\n"
     ]
    },
    {
     "name": "stderr",
     "output_type": "stream",
     "text": [
      "Epoch 9/25:  57%|███████████████████▏              | 13/23 [00:05<00:04,  2.49it/s, Loss=0.8314, Avg Loss=0.9093]"
     ]
    },
    {
     "name": "stdout",
     "output_type": "stream",
     "text": [
      "✓ Valid shapes - Images: torch.Size([4, 9, 224, 224]), Labels: torch.Size([4])\n"
     ]
    },
    {
     "name": "stderr",
     "output_type": "stream",
     "text": [
      "Epoch 9/25:  61%|████████████████████▋             | 14/23 [00:05<00:03,  2.52it/s, Loss=0.5044, Avg Loss=0.8804]"
     ]
    },
    {
     "name": "stdout",
     "output_type": "stream",
     "text": [
      "✓ Valid shapes - Images: torch.Size([4, 9, 224, 224]), Labels: torch.Size([4])\n"
     ]
    },
    {
     "name": "stderr",
     "output_type": "stream",
     "text": [
      "Epoch 9/25:  65%|██████████████████████▏           | 15/23 [00:06<00:03,  2.52it/s, Loss=0.9695, Avg Loss=0.8863]"
     ]
    },
    {
     "name": "stdout",
     "output_type": "stream",
     "text": [
      "✓ Valid shapes - Images: torch.Size([4, 9, 224, 224]), Labels: torch.Size([4])\n"
     ]
    },
    {
     "name": "stderr",
     "output_type": "stream",
     "text": [
      "Epoch 9/25:  70%|███████████████████████▋          | 16/23 [00:06<00:02,  2.56it/s, Loss=0.5368, Avg Loss=0.8645]"
     ]
    },
    {
     "name": "stdout",
     "output_type": "stream",
     "text": [
      "✓ Valid shapes - Images: torch.Size([4, 9, 224, 224]), Labels: torch.Size([4])\n"
     ]
    },
    {
     "name": "stderr",
     "output_type": "stream",
     "text": [
      "Epoch 9/25:  74%|█████████████████████████▏        | 17/23 [00:06<00:02,  2.53it/s, Loss=0.9463, Avg Loss=0.8693]"
     ]
    },
    {
     "name": "stdout",
     "output_type": "stream",
     "text": [
      "✓ Valid shapes - Images: torch.Size([4, 9, 224, 224]), Labels: torch.Size([4])\n"
     ]
    },
    {
     "name": "stderr",
     "output_type": "stream",
     "text": [
      "Epoch 9/25:  78%|██████████████████████████▌       | 18/23 [00:07<00:01,  2.52it/s, Loss=1.1300, Avg Loss=0.8838]"
     ]
    },
    {
     "name": "stdout",
     "output_type": "stream",
     "text": [
      "✓ Valid shapes - Images: torch.Size([4, 9, 224, 224]), Labels: torch.Size([4])\n"
     ]
    },
    {
     "name": "stderr",
     "output_type": "stream",
     "text": [
      "Epoch 9/25:  83%|████████████████████████████      | 19/23 [00:07<00:01,  2.52it/s, Loss=0.5581, Avg Loss=0.8666]"
     ]
    },
    {
     "name": "stdout",
     "output_type": "stream",
     "text": [
      "✓ Valid shapes - Images: torch.Size([4, 9, 224, 224]), Labels: torch.Size([4])\n"
     ]
    },
    {
     "name": "stderr",
     "output_type": "stream",
     "text": [
      "Epoch 9/25:  87%|█████████████████████████████▌    | 20/23 [00:08<00:01,  2.52it/s, Loss=0.7738, Avg Loss=0.8620]"
     ]
    },
    {
     "name": "stdout",
     "output_type": "stream",
     "text": [
      "✓ Valid shapes - Images: torch.Size([4, 9, 224, 224]), Labels: torch.Size([4])\n"
     ]
    },
    {
     "name": "stderr",
     "output_type": "stream",
     "text": [
      "Epoch 9/25:  91%|███████████████████████████████   | 21/23 [00:08<00:00,  2.54it/s, Loss=0.8828, Avg Loss=0.8630]"
     ]
    },
    {
     "name": "stdout",
     "output_type": "stream",
     "text": [
      "✓ Valid shapes - Images: torch.Size([4, 9, 224, 224]), Labels: torch.Size([4])\n"
     ]
    },
    {
     "name": "stderr",
     "output_type": "stream",
     "text": [
      "Epoch 9/25:  96%|████████████████████████████████▌ | 22/23 [00:08<00:00,  2.51it/s, Loss=1.0946, Avg Loss=0.8735]"
     ]
    },
    {
     "name": "stdout",
     "output_type": "stream",
     "text": [
      "✓ Valid shapes - Images: torch.Size([4, 9, 224, 224]), Labels: torch.Size([4])\n"
     ]
    },
    {
     "name": "stderr",
     "output_type": "stream",
     "text": [
      "Epoch 9/25: 100%|██████████████████████████████████| 23/23 [00:09<00:00,  2.48it/s, Loss=0.8257, Avg Loss=0.8714]\n"
     ]
    },
    {
     "name": "stdout",
     "output_type": "stream",
     "text": [
      "✓ Valid shapes - Images: torch.Size([4, 9, 224, 224]), Labels: torch.Size([4])\n"
     ]
    },
    {
     "name": "stderr",
     "output_type": "stream",
     "text": [
      "Validation: 100%|██████████████████████████████████████████████████████████████████| 6/6 [00:02<00:00,  2.96it/s]\n"
     ]
    },
    {
     "name": "stdout",
     "output_type": "stream",
     "text": [
      "Epoch 9/25 - Train Loss: 0.8714, Train Acc: 69.57% - Val Loss: 0.9382, Val Acc: 70.83%\n"
     ]
    },
    {
     "name": "stderr",
     "output_type": "stream",
     "text": [
      "Epoch 10/25:   0%|                                                                        | 0/23 [00:00<?, ?it/s]"
     ]
    },
    {
     "name": "stdout",
     "output_type": "stream",
     "text": [
      "✓ Valid shapes - Images: torch.Size([4, 9, 224, 224]), Labels: torch.Size([4])\n"
     ]
    },
    {
     "name": "stderr",
     "output_type": "stream",
     "text": [
      "Epoch 10/25:   9%|██▉                               | 2/23 [00:01<00:10,  2.06it/s, Loss=0.9786, Avg Loss=0.8136]"
     ]
    },
    {
     "name": "stdout",
     "output_type": "stream",
     "text": [
      "✓ Valid shapes - Images: torch.Size([4, 9, 224, 224]), Labels: torch.Size([4])\n"
     ]
    },
    {
     "name": "stderr",
     "output_type": "stream",
     "text": [
      "Epoch 10/25:  13%|████▍                             | 3/23 [00:01<00:09,  2.18it/s, Loss=0.6752, Avg Loss=0.7675]"
     ]
    },
    {
     "name": "stdout",
     "output_type": "stream",
     "text": [
      "✓ Valid shapes - Images: torch.Size([4, 9, 224, 224]), Labels: torch.Size([4])\n"
     ]
    },
    {
     "name": "stderr",
     "output_type": "stream",
     "text": [
      "Epoch 10/25:  17%|█████▉                            | 4/23 [00:01<00:08,  2.35it/s, Loss=0.9889, Avg Loss=0.8228]"
     ]
    },
    {
     "name": "stdout",
     "output_type": "stream",
     "text": [
      "✓ Valid shapes - Images: torch.Size([4, 9, 224, 224]), Labels: torch.Size([4])\n"
     ]
    },
    {
     "name": "stderr",
     "output_type": "stream",
     "text": [
      "Epoch 10/25:  22%|███████▍                          | 5/23 [00:02<00:07,  2.45it/s, Loss=0.9390, Avg Loss=0.8461]"
     ]
    },
    {
     "name": "stdout",
     "output_type": "stream",
     "text": [
      "✓ Valid shapes - Images: torch.Size([4, 9, 224, 224]), Labels: torch.Size([4])\n"
     ]
    },
    {
     "name": "stderr",
     "output_type": "stream",
     "text": [
      "Epoch 10/25:  26%|████████▊                         | 6/23 [00:02<00:06,  2.53it/s, Loss=0.6800, Avg Loss=0.8184]"
     ]
    },
    {
     "name": "stdout",
     "output_type": "stream",
     "text": [
      "✓ Valid shapes - Images: torch.Size([4, 9, 224, 224]), Labels: torch.Size([4])\n"
     ]
    },
    {
     "name": "stderr",
     "output_type": "stream",
     "text": [
      "Epoch 10/25:  30%|██████████▎                       | 7/23 [00:02<00:06,  2.53it/s, Loss=0.6305, Avg Loss=0.7915]"
     ]
    },
    {
     "name": "stdout",
     "output_type": "stream",
     "text": [
      "✓ Valid shapes - Images: torch.Size([4, 9, 224, 224]), Labels: torch.Size([4])\n"
     ]
    },
    {
     "name": "stderr",
     "output_type": "stream",
     "text": [
      "Epoch 10/25:  35%|███████████▊                      | 8/23 [00:03<00:05,  2.54it/s, Loss=1.0555, Avg Loss=0.8245]"
     ]
    },
    {
     "name": "stdout",
     "output_type": "stream",
     "text": [
      "✓ Valid shapes - Images: torch.Size([4, 9, 224, 224]), Labels: torch.Size([4])\n"
     ]
    },
    {
     "name": "stderr",
     "output_type": "stream",
     "text": [
      "Epoch 10/25:  39%|█████████████▎                    | 9/23 [00:03<00:05,  2.56it/s, Loss=0.4854, Avg Loss=0.7868]"
     ]
    },
    {
     "name": "stdout",
     "output_type": "stream",
     "text": [
      "✓ Valid shapes - Images: torch.Size([4, 9, 224, 224]), Labels: torch.Size([4])\n"
     ]
    },
    {
     "name": "stderr",
     "output_type": "stream",
     "text": [
      "Epoch 10/25:  43%|██████████████▎                  | 10/23 [00:04<00:05,  2.51it/s, Loss=1.3151, Avg Loss=0.8397]"
     ]
    },
    {
     "name": "stdout",
     "output_type": "stream",
     "text": [
      "✓ Valid shapes - Images: torch.Size([4, 9, 224, 224]), Labels: torch.Size([4])\n"
     ]
    },
    {
     "name": "stderr",
     "output_type": "stream",
     "text": [
      "Epoch 10/25:  48%|███████████████▊                 | 11/23 [00:04<00:04,  2.44it/s, Loss=0.9492, Avg Loss=0.8496]"
     ]
    },
    {
     "name": "stdout",
     "output_type": "stream",
     "text": [
      "✓ Valid shapes - Images: torch.Size([4, 9, 224, 224]), Labels: torch.Size([4])\n"
     ]
    },
    {
     "name": "stderr",
     "output_type": "stream",
     "text": [
      "Epoch 10/25:  52%|█████████████████▏               | 12/23 [00:05<00:04,  2.41it/s, Loss=0.9747, Avg Loss=0.8601]"
     ]
    },
    {
     "name": "stdout",
     "output_type": "stream",
     "text": [
      "✓ Valid shapes - Images: torch.Size([4, 9, 224, 224]), Labels: torch.Size([4])\n"
     ]
    },
    {
     "name": "stderr",
     "output_type": "stream",
     "text": [
      "Epoch 10/25:  57%|██████████████████▋              | 13/23 [00:05<00:04,  2.47it/s, Loss=0.4459, Avg Loss=0.8282]"
     ]
    },
    {
     "name": "stdout",
     "output_type": "stream",
     "text": [
      "✓ Valid shapes - Images: torch.Size([4, 9, 224, 224]), Labels: torch.Size([4])\n"
     ]
    },
    {
     "name": "stderr",
     "output_type": "stream",
     "text": [
      "Epoch 10/25:  61%|████████████████████             | 14/23 [00:05<00:03,  2.41it/s, Loss=0.7334, Avg Loss=0.8214]"
     ]
    },
    {
     "name": "stdout",
     "output_type": "stream",
     "text": [
      "✓ Valid shapes - Images: torch.Size([4, 9, 224, 224]), Labels: torch.Size([4])\n"
     ]
    },
    {
     "name": "stderr",
     "output_type": "stream",
     "text": [
      "Epoch 10/25:  65%|█████████████████████▌           | 15/23 [00:06<00:03,  2.48it/s, Loss=1.3010, Avg Loss=0.8534]"
     ]
    },
    {
     "name": "stdout",
     "output_type": "stream",
     "text": [
      "✓ Valid shapes - Images: torch.Size([4, 9, 224, 224]), Labels: torch.Size([4])\n"
     ]
    },
    {
     "name": "stderr",
     "output_type": "stream",
     "text": [
      "Epoch 10/25:  70%|██████████████████████▉          | 16/23 [00:06<00:02,  2.48it/s, Loss=1.0244, Avg Loss=0.8641]"
     ]
    },
    {
     "name": "stdout",
     "output_type": "stream",
     "text": [
      "✓ Valid shapes - Images: torch.Size([4, 9, 224, 224]), Labels: torch.Size([4])\n"
     ]
    },
    {
     "name": "stderr",
     "output_type": "stream",
     "text": [
      "Epoch 10/25:  74%|████████████████████████▍        | 17/23 [00:07<00:02,  2.42it/s, Loss=0.5409, Avg Loss=0.8451]"
     ]
    },
    {
     "name": "stdout",
     "output_type": "stream",
     "text": [
      "✓ Valid shapes - Images: torch.Size([4, 9, 224, 224]), Labels: torch.Size([4])\n"
     ]
    },
    {
     "name": "stderr",
     "output_type": "stream",
     "text": [
      "Epoch 10/25:  78%|█████████████████████████▊       | 18/23 [00:07<00:02,  2.47it/s, Loss=0.9138, Avg Loss=0.8489]"
     ]
    },
    {
     "name": "stdout",
     "output_type": "stream",
     "text": [
      "✓ Valid shapes - Images: torch.Size([4, 9, 224, 224]), Labels: torch.Size([4])\n"
     ]
    },
    {
     "name": "stderr",
     "output_type": "stream",
     "text": [
      "Epoch 10/25:  83%|███████████████████████████▎     | 19/23 [00:07<00:01,  2.49it/s, Loss=0.8493, Avg Loss=0.8489]"
     ]
    },
    {
     "name": "stdout",
     "output_type": "stream",
     "text": [
      "✓ Valid shapes - Images: torch.Size([4, 9, 224, 224]), Labels: torch.Size([4])\n"
     ]
    },
    {
     "name": "stderr",
     "output_type": "stream",
     "text": [
      "Epoch 10/25:  87%|████████████████████████████▋    | 20/23 [00:08<00:01,  2.53it/s, Loss=1.4967, Avg Loss=0.8813]"
     ]
    },
    {
     "name": "stdout",
     "output_type": "stream",
     "text": [
      "✓ Valid shapes - Images: torch.Size([4, 9, 224, 224]), Labels: torch.Size([4])\n"
     ]
    },
    {
     "name": "stderr",
     "output_type": "stream",
     "text": [
      "Epoch 10/25:  91%|██████████████████████████████▏  | 21/23 [00:08<00:00,  2.50it/s, Loss=0.9774, Avg Loss=0.8859]"
     ]
    },
    {
     "name": "stdout",
     "output_type": "stream",
     "text": [
      "✓ Valid shapes - Images: torch.Size([4, 9, 224, 224]), Labels: torch.Size([4])\n"
     ]
    },
    {
     "name": "stderr",
     "output_type": "stream",
     "text": [
      "Epoch 10/25:  96%|███████████████████████████████▌ | 22/23 [00:09<00:00,  2.51it/s, Loss=0.6391, Avg Loss=0.8747]"
     ]
    },
    {
     "name": "stdout",
     "output_type": "stream",
     "text": [
      "✓ Valid shapes - Images: torch.Size([4, 9, 224, 224]), Labels: torch.Size([4])\n"
     ]
    },
    {
     "name": "stderr",
     "output_type": "stream",
     "text": [
      "Epoch 10/25: 100%|█████████████████████████████████| 23/23 [00:09<00:00,  2.44it/s, Loss=0.5544, Avg Loss=0.8607]\n"
     ]
    },
    {
     "name": "stdout",
     "output_type": "stream",
     "text": [
      "✓ Valid shapes - Images: torch.Size([4, 9, 224, 224]), Labels: torch.Size([4])\n"
     ]
    },
    {
     "name": "stderr",
     "output_type": "stream",
     "text": [
      "Validation: 100%|██████████████████████████████████████████████████████████████████| 6/6 [00:02<00:00,  2.94it/s]\n"
     ]
    },
    {
     "name": "stdout",
     "output_type": "stream",
     "text": [
      "Epoch 10/25 - Train Loss: 0.8607, Train Acc: 70.65% - Val Loss: 0.9493, Val Acc: 70.83%\n"
     ]
    },
    {
     "name": "stderr",
     "output_type": "stream",
     "text": [
      "Epoch 11/25:   0%|                                                                        | 0/23 [00:00<?, ?it/s]"
     ]
    },
    {
     "name": "stdout",
     "output_type": "stream",
     "text": [
      "✓ Valid shapes - Images: torch.Size([4, 9, 224, 224]), Labels: torch.Size([4])\n"
     ]
    },
    {
     "name": "stderr",
     "output_type": "stream",
     "text": [
      "Epoch 11/25:   9%|██▉                               | 2/23 [00:00<00:09,  2.19it/s, Loss=0.8725, Avg Loss=0.7823]"
     ]
    },
    {
     "name": "stdout",
     "output_type": "stream",
     "text": [
      "✓ Valid shapes - Images: torch.Size([4, 9, 224, 224]), Labels: torch.Size([4])\n"
     ]
    },
    {
     "name": "stderr",
     "output_type": "stream",
     "text": [
      "Epoch 11/25:  13%|████▍                             | 3/23 [00:01<00:08,  2.37it/s, Loss=0.9089, Avg Loss=0.8245]"
     ]
    },
    {
     "name": "stdout",
     "output_type": "stream",
     "text": [
      "✓ Valid shapes - Images: torch.Size([4, 9, 224, 224]), Labels: torch.Size([4])\n"
     ]
    },
    {
     "name": "stderr",
     "output_type": "stream",
     "text": [
      "Epoch 11/25:  17%|█████▉                            | 4/23 [00:01<00:07,  2.49it/s, Loss=0.6048, Avg Loss=0.7696]"
     ]
    },
    {
     "name": "stdout",
     "output_type": "stream",
     "text": [
      "✓ Valid shapes - Images: torch.Size([4, 9, 224, 224]), Labels: torch.Size([4])\n"
     ]
    },
    {
     "name": "stderr",
     "output_type": "stream",
     "text": [
      "Epoch 11/25:  22%|███████▍                          | 5/23 [00:02<00:07,  2.53it/s, Loss=0.6884, Avg Loss=0.7533]"
     ]
    },
    {
     "name": "stdout",
     "output_type": "stream",
     "text": [
      "✓ Valid shapes - Images: torch.Size([4, 9, 224, 224]), Labels: torch.Size([4])\n"
     ]
    },
    {
     "name": "stderr",
     "output_type": "stream",
     "text": [
      "Epoch 11/25:  26%|████████▊                         | 6/23 [00:02<00:06,  2.56it/s, Loss=0.7100, Avg Loss=0.7461]"
     ]
    },
    {
     "name": "stdout",
     "output_type": "stream",
     "text": [
      "✓ Valid shapes - Images: torch.Size([4, 9, 224, 224]), Labels: torch.Size([4])\n"
     ]
    },
    {
     "name": "stderr",
     "output_type": "stream",
     "text": [
      "Epoch 11/25:  30%|██████████▎                       | 7/23 [00:02<00:06,  2.59it/s, Loss=0.6999, Avg Loss=0.7395]"
     ]
    },
    {
     "name": "stdout",
     "output_type": "stream",
     "text": [
      "✓ Valid shapes - Images: torch.Size([4, 9, 224, 224]), Labels: torch.Size([4])\n"
     ]
    },
    {
     "name": "stderr",
     "output_type": "stream",
     "text": [
      "Epoch 11/25:  35%|███████████▊                      | 8/23 [00:03<00:05,  2.62it/s, Loss=0.6283, Avg Loss=0.7256]"
     ]
    },
    {
     "name": "stdout",
     "output_type": "stream",
     "text": [
      "✓ Valid shapes - Images: torch.Size([4, 9, 224, 224]), Labels: torch.Size([4])\n"
     ]
    },
    {
     "name": "stderr",
     "output_type": "stream",
     "text": [
      "Epoch 11/25:  39%|█████████████▎                    | 9/23 [00:03<00:05,  2.61it/s, Loss=0.8665, Avg Loss=0.7413]"
     ]
    },
    {
     "name": "stdout",
     "output_type": "stream",
     "text": [
      "✓ Valid shapes - Images: torch.Size([4, 9, 224, 224]), Labels: torch.Size([4])\n"
     ]
    },
    {
     "name": "stderr",
     "output_type": "stream",
     "text": [
      "Epoch 11/25:  43%|██████████████▎                  | 10/23 [00:03<00:04,  2.62it/s, Loss=0.6951, Avg Loss=0.7366]"
     ]
    },
    {
     "name": "stdout",
     "output_type": "stream",
     "text": [
      "✓ Valid shapes - Images: torch.Size([4, 9, 224, 224]), Labels: torch.Size([4])\n"
     ]
    },
    {
     "name": "stderr",
     "output_type": "stream",
     "text": [
      "Epoch 11/25:  48%|███████████████▊                 | 11/23 [00:04<00:04,  2.61it/s, Loss=1.4696, Avg Loss=0.8033]"
     ]
    },
    {
     "name": "stdout",
     "output_type": "stream",
     "text": [
      "✓ Valid shapes - Images: torch.Size([4, 9, 224, 224]), Labels: torch.Size([4])\n"
     ]
    },
    {
     "name": "stderr",
     "output_type": "stream",
     "text": [
      "Epoch 11/25:  52%|█████████████████▏               | 12/23 [00:04<00:04,  2.60it/s, Loss=0.3887, Avg Loss=0.7687]"
     ]
    },
    {
     "name": "stdout",
     "output_type": "stream",
     "text": [
      "✓ Valid shapes - Images: torch.Size([4, 9, 224, 224]), Labels: torch.Size([4])\n"
     ]
    },
    {
     "name": "stderr",
     "output_type": "stream",
     "text": [
      "Epoch 11/25:  57%|██████████████████▋              | 13/23 [00:05<00:03,  2.61it/s, Loss=1.1052, Avg Loss=0.7946]"
     ]
    },
    {
     "name": "stdout",
     "output_type": "stream",
     "text": [
      "✓ Valid shapes - Images: torch.Size([4, 9, 224, 224]), Labels: torch.Size([4])\n"
     ]
    },
    {
     "name": "stderr",
     "output_type": "stream",
     "text": [
      "Epoch 11/25:  61%|████████████████████             | 14/23 [00:05<00:03,  2.55it/s, Loss=1.0277, Avg Loss=0.8113]"
     ]
    },
    {
     "name": "stdout",
     "output_type": "stream",
     "text": [
      "✓ Valid shapes - Images: torch.Size([4, 9, 224, 224]), Labels: torch.Size([4])\n"
     ]
    },
    {
     "name": "stderr",
     "output_type": "stream",
     "text": [
      "Epoch 11/25:  65%|█████████████████████▌           | 15/23 [00:05<00:03,  2.55it/s, Loss=0.7924, Avg Loss=0.8100]"
     ]
    },
    {
     "name": "stdout",
     "output_type": "stream",
     "text": [
      "✓ Valid shapes - Images: torch.Size([4, 9, 224, 224]), Labels: torch.Size([4])\n"
     ]
    },
    {
     "name": "stderr",
     "output_type": "stream",
     "text": [
      "Epoch 11/25:  70%|██████████████████████▉          | 16/23 [00:06<00:02,  2.56it/s, Loss=0.5060, Avg Loss=0.7910]"
     ]
    },
    {
     "name": "stdout",
     "output_type": "stream",
     "text": [
      "✓ Valid shapes - Images: torch.Size([4, 9, 224, 224]), Labels: torch.Size([4])\n"
     ]
    },
    {
     "name": "stderr",
     "output_type": "stream",
     "text": [
      "Epoch 11/25:  74%|████████████████████████▍        | 17/23 [00:06<00:02,  2.56it/s, Loss=1.5607, Avg Loss=0.8363]"
     ]
    },
    {
     "name": "stdout",
     "output_type": "stream",
     "text": [
      "✓ Valid shapes - Images: torch.Size([4, 9, 224, 224]), Labels: torch.Size([4])\n"
     ]
    },
    {
     "name": "stderr",
     "output_type": "stream",
     "text": [
      "Epoch 11/25:  78%|█████████████████████████▊       | 18/23 [00:07<00:01,  2.57it/s, Loss=0.4511, Avg Loss=0.8149]"
     ]
    },
    {
     "name": "stdout",
     "output_type": "stream",
     "text": [
      "✓ Valid shapes - Images: torch.Size([4, 9, 224, 224]), Labels: torch.Size([4])\n"
     ]
    },
    {
     "name": "stderr",
     "output_type": "stream",
     "text": [
      "Epoch 11/25:  83%|███████████████████████████▎     | 19/23 [00:07<00:01,  2.55it/s, Loss=1.1537, Avg Loss=0.8327]"
     ]
    },
    {
     "name": "stdout",
     "output_type": "stream",
     "text": [
      "✓ Valid shapes - Images: torch.Size([4, 9, 224, 224]), Labels: torch.Size([4])\n"
     ]
    },
    {
     "name": "stderr",
     "output_type": "stream",
     "text": [
      "Epoch 11/25:  87%|████████████████████████████▋    | 20/23 [00:07<00:01,  2.56it/s, Loss=0.6767, Avg Loss=0.8249]"
     ]
    },
    {
     "name": "stdout",
     "output_type": "stream",
     "text": [
      "✓ Valid shapes - Images: torch.Size([4, 9, 224, 224]), Labels: torch.Size([4])\n"
     ]
    },
    {
     "name": "stderr",
     "output_type": "stream",
     "text": [
      "Epoch 11/25:  91%|██████████████████████████████▏  | 21/23 [00:08<00:00,  2.52it/s, Loss=0.6884, Avg Loss=0.8184]"
     ]
    },
    {
     "name": "stdout",
     "output_type": "stream",
     "text": [
      "✓ Valid shapes - Images: torch.Size([4, 9, 224, 224]), Labels: torch.Size([4])\n"
     ]
    },
    {
     "name": "stderr",
     "output_type": "stream",
     "text": [
      "Epoch 11/25:  96%|███████████████████████████████▌ | 22/23 [00:08<00:00,  2.54it/s, Loss=1.0129, Avg Loss=0.8272]"
     ]
    },
    {
     "name": "stdout",
     "output_type": "stream",
     "text": [
      "✓ Valid shapes - Images: torch.Size([4, 9, 224, 224]), Labels: torch.Size([4])\n"
     ]
    },
    {
     "name": "stderr",
     "output_type": "stream",
     "text": [
      "Epoch 11/25: 100%|█████████████████████████████████| 23/23 [00:09<00:00,  2.53it/s, Loss=0.9061, Avg Loss=0.8307]\n"
     ]
    },
    {
     "name": "stdout",
     "output_type": "stream",
     "text": [
      "✓ Valid shapes - Images: torch.Size([4, 9, 224, 224]), Labels: torch.Size([4])\n"
     ]
    },
    {
     "name": "stderr",
     "output_type": "stream",
     "text": [
      "Validation: 100%|██████████████████████████████████████████████████████████████████| 6/6 [00:02<00:00,  2.93it/s]\n"
     ]
    },
    {
     "name": "stdout",
     "output_type": "stream",
     "text": [
      "Epoch 11/25 - Train Loss: 0.8307, Train Acc: 70.65% - Val Loss: 0.9473, Val Acc: 70.83%\n"
     ]
    },
    {
     "name": "stderr",
     "output_type": "stream",
     "text": [
      "Epoch 12/25:   0%|                                                                        | 0/23 [00:00<?, ?it/s]"
     ]
    },
    {
     "name": "stdout",
     "output_type": "stream",
     "text": [
      "✓ Valid shapes - Images: torch.Size([4, 9, 224, 224]), Labels: torch.Size([4])\n"
     ]
    },
    {
     "name": "stderr",
     "output_type": "stream",
     "text": [
      "Epoch 12/25:   9%|██▉                               | 2/23 [00:00<00:09,  2.17it/s, Loss=0.6398, Avg Loss=0.7807]"
     ]
    },
    {
     "name": "stdout",
     "output_type": "stream",
     "text": [
      "✓ Valid shapes - Images: torch.Size([4, 9, 224, 224]), Labels: torch.Size([4])\n"
     ]
    },
    {
     "name": "stderr",
     "output_type": "stream",
     "text": [
      "Epoch 12/25:  13%|████▍                             | 3/23 [00:01<00:08,  2.36it/s, Loss=0.7450, Avg Loss=0.7688]"
     ]
    },
    {
     "name": "stdout",
     "output_type": "stream",
     "text": [
      "✓ Valid shapes - Images: torch.Size([4, 9, 224, 224]), Labels: torch.Size([4])\n"
     ]
    },
    {
     "name": "stderr",
     "output_type": "stream",
     "text": [
      "Epoch 12/25:  17%|█████▉                            | 4/23 [00:01<00:07,  2.45it/s, Loss=0.6302, Avg Loss=0.7342]"
     ]
    },
    {
     "name": "stdout",
     "output_type": "stream",
     "text": [
      "✓ Valid shapes - Images: torch.Size([4, 9, 224, 224]), Labels: torch.Size([4])\n"
     ]
    },
    {
     "name": "stderr",
     "output_type": "stream",
     "text": [
      "Epoch 12/25:  22%|███████▍                          | 5/23 [00:02<00:07,  2.48it/s, Loss=0.5856, Avg Loss=0.7045]"
     ]
    },
    {
     "name": "stdout",
     "output_type": "stream",
     "text": [
      "✓ Valid shapes - Images: torch.Size([4, 9, 224, 224]), Labels: torch.Size([4])\n"
     ]
    },
    {
     "name": "stderr",
     "output_type": "stream",
     "text": [
      "Epoch 12/25:  26%|████████▊                         | 6/23 [00:02<00:07,  2.29it/s, Loss=0.6537, Avg Loss=0.6960]"
     ]
    },
    {
     "name": "stdout",
     "output_type": "stream",
     "text": [
      "✓ Valid shapes - Images: torch.Size([4, 9, 224, 224]), Labels: torch.Size([4])\n"
     ]
    },
    {
     "name": "stderr",
     "output_type": "stream",
     "text": [
      "Epoch 12/25:  30%|██████████▎                       | 7/23 [00:03<00:06,  2.38it/s, Loss=1.2253, Avg Loss=0.7716]"
     ]
    },
    {
     "name": "stdout",
     "output_type": "stream",
     "text": [
      "✓ Valid shapes - Images: torch.Size([4, 9, 224, 224]), Labels: torch.Size([4])\n"
     ]
    },
    {
     "name": "stderr",
     "output_type": "stream",
     "text": [
      "Epoch 12/25:  35%|███████████▊                      | 8/23 [00:03<00:06,  2.36it/s, Loss=1.4989, Avg Loss=0.8625]"
     ]
    },
    {
     "name": "stdout",
     "output_type": "stream",
     "text": [
      "✓ Valid shapes - Images: torch.Size([4, 9, 224, 224]), Labels: torch.Size([4])\n"
     ]
    },
    {
     "name": "stderr",
     "output_type": "stream",
     "text": [
      "Epoch 12/25:  39%|█████████████▎                    | 9/23 [00:03<00:05,  2.39it/s, Loss=0.6991, Avg Loss=0.8444]"
     ]
    },
    {
     "name": "stdout",
     "output_type": "stream",
     "text": [
      "✓ Valid shapes - Images: torch.Size([4, 9, 224, 224]), Labels: torch.Size([4])\n"
     ]
    },
    {
     "name": "stderr",
     "output_type": "stream",
     "text": [
      "Epoch 12/25:  43%|██████████████▎                  | 10/23 [00:04<00:05,  2.45it/s, Loss=0.6564, Avg Loss=0.8256]"
     ]
    },
    {
     "name": "stdout",
     "output_type": "stream",
     "text": [
      "✓ Valid shapes - Images: torch.Size([4, 9, 224, 224]), Labels: torch.Size([4])\n"
     ]
    },
    {
     "name": "stderr",
     "output_type": "stream",
     "text": [
      "Epoch 12/25:  48%|███████████████▊                 | 11/23 [00:04<00:04,  2.51it/s, Loss=0.8996, Avg Loss=0.8323]"
     ]
    },
    {
     "name": "stdout",
     "output_type": "stream",
     "text": [
      "✓ Valid shapes - Images: torch.Size([4, 9, 224, 224]), Labels: torch.Size([4])\n"
     ]
    },
    {
     "name": "stderr",
     "output_type": "stream",
     "text": [
      "Epoch 12/25:  52%|█████████████████▏               | 12/23 [00:04<00:04,  2.54it/s, Loss=1.0910, Avg Loss=0.8539]"
     ]
    },
    {
     "name": "stdout",
     "output_type": "stream",
     "text": [
      "✓ Valid shapes - Images: torch.Size([4, 9, 224, 224]), Labels: torch.Size([4])\n"
     ]
    },
    {
     "name": "stderr",
     "output_type": "stream",
     "text": [
      "Epoch 12/25:  57%|██████████████████▋              | 13/23 [00:05<00:04,  2.49it/s, Loss=1.0475, Avg Loss=0.8688]"
     ]
    },
    {
     "name": "stdout",
     "output_type": "stream",
     "text": [
      "✓ Valid shapes - Images: torch.Size([4, 9, 224, 224]), Labels: torch.Size([4])\n"
     ]
    },
    {
     "name": "stderr",
     "output_type": "stream",
     "text": [
      "Epoch 12/25:  61%|████████████████████             | 14/23 [00:05<00:03,  2.46it/s, Loss=0.5125, Avg Loss=0.8433]"
     ]
    },
    {
     "name": "stdout",
     "output_type": "stream",
     "text": [
      "✓ Valid shapes - Images: torch.Size([4, 9, 224, 224]), Labels: torch.Size([4])\n"
     ]
    },
    {
     "name": "stderr",
     "output_type": "stream",
     "text": [
      "Epoch 12/25:  65%|█████████████████████▌           | 15/23 [00:06<00:03,  2.47it/s, Loss=0.4919, Avg Loss=0.8199]"
     ]
    },
    {
     "name": "stdout",
     "output_type": "stream",
     "text": [
      "✓ Valid shapes - Images: torch.Size([4, 9, 224, 224]), Labels: torch.Size([4])\n"
     ]
    },
    {
     "name": "stderr",
     "output_type": "stream",
     "text": [
      "Epoch 12/25:  70%|██████████████████████▉          | 16/23 [00:06<00:02,  2.40it/s, Loss=0.6086, Avg Loss=0.8067]"
     ]
    },
    {
     "name": "stdout",
     "output_type": "stream",
     "text": [
      "✓ Valid shapes - Images: torch.Size([4, 9, 224, 224]), Labels: torch.Size([4])\n"
     ]
    },
    {
     "name": "stderr",
     "output_type": "stream",
     "text": [
      "Epoch 12/25:  74%|████████████████████████▍        | 17/23 [00:07<00:02,  2.43it/s, Loss=0.8084, Avg Loss=0.8068]"
     ]
    },
    {
     "name": "stdout",
     "output_type": "stream",
     "text": [
      "✓ Valid shapes - Images: torch.Size([4, 9, 224, 224]), Labels: torch.Size([4])\n"
     ]
    },
    {
     "name": "stderr",
     "output_type": "stream",
     "text": [
      "Epoch 12/25:  78%|█████████████████████████▊       | 18/23 [00:07<00:02,  2.47it/s, Loss=1.2157, Avg Loss=0.8295]"
     ]
    },
    {
     "name": "stdout",
     "output_type": "stream",
     "text": [
      "✓ Valid shapes - Images: torch.Size([4, 9, 224, 224]), Labels: torch.Size([4])\n"
     ]
    },
    {
     "name": "stderr",
     "output_type": "stream",
     "text": [
      "Epoch 12/25:  83%|███████████████████████████▎     | 19/23 [00:07<00:01,  2.50it/s, Loss=1.2821, Avg Loss=0.8533]"
     ]
    },
    {
     "name": "stdout",
     "output_type": "stream",
     "text": [
      "✓ Valid shapes - Images: torch.Size([4, 9, 224, 224]), Labels: torch.Size([4])\n"
     ]
    },
    {
     "name": "stderr",
     "output_type": "stream",
     "text": [
      "Epoch 12/25:  87%|████████████████████████████▋    | 20/23 [00:08<00:01,  2.52it/s, Loss=0.4119, Avg Loss=0.8312]"
     ]
    },
    {
     "name": "stdout",
     "output_type": "stream",
     "text": [
      "✓ Valid shapes - Images: torch.Size([4, 9, 224, 224]), Labels: torch.Size([4])\n"
     ]
    },
    {
     "name": "stderr",
     "output_type": "stream",
     "text": [
      "Epoch 12/25:  91%|██████████████████████████████▏  | 21/23 [00:08<00:00,  2.54it/s, Loss=1.3317, Avg Loss=0.8551]"
     ]
    },
    {
     "name": "stdout",
     "output_type": "stream",
     "text": [
      "✓ Valid shapes - Images: torch.Size([4, 9, 224, 224]), Labels: torch.Size([4])\n"
     ]
    },
    {
     "name": "stderr",
     "output_type": "stream",
     "text": [
      "Epoch 12/25:  96%|███████████████████████████████▌ | 22/23 [00:09<00:00,  2.56it/s, Loss=0.8545, Avg Loss=0.8550]"
     ]
    },
    {
     "name": "stdout",
     "output_type": "stream",
     "text": [
      "✓ Valid shapes - Images: torch.Size([4, 9, 224, 224]), Labels: torch.Size([4])\n"
     ]
    },
    {
     "name": "stderr",
     "output_type": "stream",
     "text": [
      "Epoch 12/25: 100%|█████████████████████████████████| 23/23 [00:09<00:00,  2.44it/s, Loss=1.4027, Avg Loss=0.8789]\n"
     ]
    },
    {
     "name": "stdout",
     "output_type": "stream",
     "text": [
      "✓ Valid shapes - Images: torch.Size([4, 9, 224, 224]), Labels: torch.Size([4])\n"
     ]
    },
    {
     "name": "stderr",
     "output_type": "stream",
     "text": [
      "Validation: 100%|██████████████████████████████████████████████████████████████████| 6/6 [00:02<00:00,  2.95it/s]\n"
     ]
    },
    {
     "name": "stdout",
     "output_type": "stream",
     "text": [
      "Epoch 12/25 - Train Loss: 0.8789, Train Acc: 70.65% - Val Loss: 0.9741, Val Acc: 70.83%\n"
     ]
    },
    {
     "name": "stderr",
     "output_type": "stream",
     "text": [
      "Epoch 13/25:   4%|█▍                                | 1/23 [00:00<00:11,  1.96it/s, Loss=1.2436, Avg Loss=1.2436]"
     ]
    },
    {
     "name": "stdout",
     "output_type": "stream",
     "text": [
      "✓ Valid shapes - Images: torch.Size([4, 9, 224, 224]), Labels: torch.Size([4])\n"
     ]
    },
    {
     "name": "stderr",
     "output_type": "stream",
     "text": [
      "Epoch 13/25:   9%|██▉                               | 2/23 [00:00<00:09,  2.32it/s, Loss=1.4852, Avg Loss=1.3644]"
     ]
    },
    {
     "name": "stdout",
     "output_type": "stream",
     "text": [
      "✓ Valid shapes - Images: torch.Size([4, 9, 224, 224]), Labels: torch.Size([4])\n"
     ]
    },
    {
     "name": "stderr",
     "output_type": "stream",
     "text": [
      "Epoch 13/25:  13%|████▍                             | 3/23 [00:01<00:08,  2.48it/s, Loss=0.4196, Avg Loss=1.0495]"
     ]
    },
    {
     "name": "stdout",
     "output_type": "stream",
     "text": [
      "✓ Valid shapes - Images: torch.Size([4, 9, 224, 224]), Labels: torch.Size([4])\n"
     ]
    },
    {
     "name": "stderr",
     "output_type": "stream",
     "text": [
      "Epoch 13/25:  17%|█████▉                            | 4/23 [00:01<00:07,  2.50it/s, Loss=1.0534, Avg Loss=1.0505]"
     ]
    },
    {
     "name": "stdout",
     "output_type": "stream",
     "text": [
      "✓ Valid shapes - Images: torch.Size([4, 9, 224, 224]), Labels: torch.Size([4])\n"
     ]
    },
    {
     "name": "stderr",
     "output_type": "stream",
     "text": [
      "Epoch 13/25:  22%|███████▍                          | 5/23 [00:02<00:07,  2.34it/s, Loss=0.7793, Avg Loss=0.9962]"
     ]
    },
    {
     "name": "stdout",
     "output_type": "stream",
     "text": [
      "✓ Valid shapes - Images: torch.Size([4, 9, 224, 224]), Labels: torch.Size([4])\n"
     ]
    },
    {
     "name": "stderr",
     "output_type": "stream",
     "text": [
      "Epoch 13/25:  26%|████████▊                         | 6/23 [00:02<00:07,  2.37it/s, Loss=0.6581, Avg Loss=0.9399]"
     ]
    },
    {
     "name": "stdout",
     "output_type": "stream",
     "text": [
      "✓ Valid shapes - Images: torch.Size([4, 9, 224, 224]), Labels: torch.Size([4])\n"
     ]
    },
    {
     "name": "stderr",
     "output_type": "stream",
     "text": [
      "Epoch 13/25:  30%|██████████▎                       | 7/23 [00:02<00:06,  2.33it/s, Loss=0.8482, Avg Loss=0.9268]"
     ]
    },
    {
     "name": "stdout",
     "output_type": "stream",
     "text": [
      "✓ Valid shapes - Images: torch.Size([4, 9, 224, 224]), Labels: torch.Size([4])\n"
     ]
    },
    {
     "name": "stderr",
     "output_type": "stream",
     "text": [
      "Epoch 13/25:  35%|███████████▊                      | 8/23 [00:03<00:06,  2.36it/s, Loss=0.7028, Avg Loss=0.8988]"
     ]
    },
    {
     "name": "stdout",
     "output_type": "stream",
     "text": [
      "✓ Valid shapes - Images: torch.Size([4, 9, 224, 224]), Labels: torch.Size([4])\n"
     ]
    },
    {
     "name": "stderr",
     "output_type": "stream",
     "text": [
      "Epoch 13/25:  39%|█████████████▎                    | 9/23 [00:03<00:05,  2.42it/s, Loss=1.5800, Avg Loss=0.9745]"
     ]
    },
    {
     "name": "stdout",
     "output_type": "stream",
     "text": [
      "✓ Valid shapes - Images: torch.Size([4, 9, 224, 224]), Labels: torch.Size([4])\n"
     ]
    },
    {
     "name": "stderr",
     "output_type": "stream",
     "text": [
      "Epoch 13/25:  43%|██████████████▎                  | 10/23 [00:04<00:05,  2.49it/s, Loss=0.6367, Avg Loss=0.9407]"
     ]
    },
    {
     "name": "stdout",
     "output_type": "stream",
     "text": [
      "✓ Valid shapes - Images: torch.Size([4, 9, 224, 224]), Labels: torch.Size([4])\n"
     ]
    },
    {
     "name": "stderr",
     "output_type": "stream",
     "text": [
      "Epoch 13/25:  48%|███████████████▊                 | 11/23 [00:04<00:04,  2.49it/s, Loss=0.9170, Avg Loss=0.9385]"
     ]
    },
    {
     "name": "stdout",
     "output_type": "stream",
     "text": [
      "✓ Valid shapes - Images: torch.Size([4, 9, 224, 224]), Labels: torch.Size([4])\n"
     ]
    },
    {
     "name": "stderr",
     "output_type": "stream",
     "text": [
      "Epoch 13/25:  52%|█████████████████▏               | 12/23 [00:04<00:04,  2.54it/s, Loss=0.8026, Avg Loss=0.9272]"
     ]
    },
    {
     "name": "stdout",
     "output_type": "stream",
     "text": [
      "✓ Valid shapes - Images: torch.Size([4, 9, 224, 224]), Labels: torch.Size([4])\n"
     ]
    },
    {
     "name": "stderr",
     "output_type": "stream",
     "text": [
      "Epoch 13/25:  57%|██████████████████▋              | 13/23 [00:05<00:03,  2.56it/s, Loss=0.5816, Avg Loss=0.9006]"
     ]
    },
    {
     "name": "stdout",
     "output_type": "stream",
     "text": [
      "✓ Valid shapes - Images: torch.Size([4, 9, 224, 224]), Labels: torch.Size([4])\n"
     ]
    },
    {
     "name": "stderr",
     "output_type": "stream",
     "text": [
      "Epoch 13/25:  61%|████████████████████             | 14/23 [00:05<00:03,  2.57it/s, Loss=0.6271, Avg Loss=0.8811]"
     ]
    },
    {
     "name": "stdout",
     "output_type": "stream",
     "text": [
      "✓ Valid shapes - Images: torch.Size([4, 9, 224, 224]), Labels: torch.Size([4])\n"
     ]
    },
    {
     "name": "stderr",
     "output_type": "stream",
     "text": [
      "Epoch 13/25:  65%|█████████████████████▌           | 15/23 [00:06<00:03,  2.56it/s, Loss=0.6287, Avg Loss=0.8643]"
     ]
    },
    {
     "name": "stdout",
     "output_type": "stream",
     "text": [
      "✓ Valid shapes - Images: torch.Size([4, 9, 224, 224]), Labels: torch.Size([4])\n"
     ]
    },
    {
     "name": "stderr",
     "output_type": "stream",
     "text": [
      "Epoch 13/25:  70%|██████████████████████▉          | 16/23 [00:06<00:02,  2.56it/s, Loss=1.0733, Avg Loss=0.8773]"
     ]
    },
    {
     "name": "stdout",
     "output_type": "stream",
     "text": [
      "✓ Valid shapes - Images: torch.Size([4, 9, 224, 224]), Labels: torch.Size([4])\n"
     ]
    },
    {
     "name": "stderr",
     "output_type": "stream",
     "text": [
      "Epoch 13/25:  74%|████████████████████████▍        | 17/23 [00:06<00:02,  2.56it/s, Loss=0.8113, Avg Loss=0.8734]"
     ]
    },
    {
     "name": "stdout",
     "output_type": "stream",
     "text": [
      "✓ Valid shapes - Images: torch.Size([4, 9, 224, 224]), Labels: torch.Size([4])\n"
     ]
    },
    {
     "name": "stderr",
     "output_type": "stream",
     "text": [
      "Epoch 13/25:  78%|█████████████████████████▊       | 18/23 [00:07<00:01,  2.55it/s, Loss=0.6455, Avg Loss=0.8608]"
     ]
    },
    {
     "name": "stdout",
     "output_type": "stream",
     "text": [
      "✓ Valid shapes - Images: torch.Size([4, 9, 224, 224]), Labels: torch.Size([4])\n"
     ]
    },
    {
     "name": "stderr",
     "output_type": "stream",
     "text": [
      "Epoch 13/25:  83%|███████████████████████████▎     | 19/23 [00:07<00:01,  2.53it/s, Loss=0.6700, Avg Loss=0.8507]"
     ]
    },
    {
     "name": "stdout",
     "output_type": "stream",
     "text": [
      "✓ Valid shapes - Images: torch.Size([4, 9, 224, 224]), Labels: torch.Size([4])\n"
     ]
    },
    {
     "name": "stderr",
     "output_type": "stream",
     "text": [
      "Epoch 13/25:  87%|████████████████████████████▋    | 20/23 [00:08<00:01,  2.43it/s, Loss=0.5790, Avg Loss=0.8372]"
     ]
    },
    {
     "name": "stdout",
     "output_type": "stream",
     "text": [
      "✓ Valid shapes - Images: torch.Size([4, 9, 224, 224]), Labels: torch.Size([4])\n"
     ]
    },
    {
     "name": "stderr",
     "output_type": "stream",
     "text": [
      "Epoch 13/25:  91%|██████████████████████████████▏  | 21/23 [00:08<00:00,  2.32it/s, Loss=0.7506, Avg Loss=0.8330]"
     ]
    },
    {
     "name": "stdout",
     "output_type": "stream",
     "text": [
      "✓ Valid shapes - Images: torch.Size([4, 9, 224, 224]), Labels: torch.Size([4])\n"
     ]
    },
    {
     "name": "stderr",
     "output_type": "stream",
     "text": [
      "Epoch 13/25:  96%|███████████████████████████████▌ | 22/23 [00:09<00:00,  2.06it/s, Loss=0.4930, Avg Loss=0.8176]"
     ]
    },
    {
     "name": "stdout",
     "output_type": "stream",
     "text": [
      "✓ Valid shapes - Images: torch.Size([4, 9, 224, 224]), Labels: torch.Size([4])\n"
     ]
    },
    {
     "name": "stderr",
     "output_type": "stream",
     "text": [
      "Epoch 13/25: 100%|█████████████████████████████████| 23/23 [00:09<00:00,  2.39it/s, Loss=0.8382, Avg Loss=0.8185]\n"
     ]
    },
    {
     "name": "stdout",
     "output_type": "stream",
     "text": [
      "✓ Valid shapes - Images: torch.Size([4, 9, 224, 224]), Labels: torch.Size([4])\n"
     ]
    },
    {
     "name": "stderr",
     "output_type": "stream",
     "text": [
      "Validation: 100%|██████████████████████████████████████████████████████████████████| 6/6 [00:02<00:00,  2.96it/s]\n"
     ]
    },
    {
     "name": "stdout",
     "output_type": "stream",
     "text": [
      "Epoch 13/25 - Train Loss: 0.8185, Train Acc: 69.57% - Val Loss: 1.0410, Val Acc: 70.83%\n"
     ]
    },
    {
     "name": "stderr",
     "output_type": "stream",
     "text": [
      "Epoch 14/25:   0%|                                                                        | 0/23 [00:00<?, ?it/s]"
     ]
    },
    {
     "name": "stdout",
     "output_type": "stream",
     "text": [
      "✓ Valid shapes - Images: torch.Size([4, 9, 224, 224]), Labels: torch.Size([4])\n"
     ]
    },
    {
     "name": "stderr",
     "output_type": "stream",
     "text": [
      "Epoch 14/25:   9%|██▉                               | 2/23 [00:00<00:09,  2.13it/s, Loss=1.5682, Avg Loss=1.1407]"
     ]
    },
    {
     "name": "stdout",
     "output_type": "stream",
     "text": [
      "✓ Valid shapes - Images: torch.Size([4, 9, 224, 224]), Labels: torch.Size([4])\n"
     ]
    },
    {
     "name": "stderr",
     "output_type": "stream",
     "text": [
      "Epoch 14/25:  13%|████▍                             | 3/23 [00:01<00:08,  2.30it/s, Loss=0.9835, Avg Loss=1.0883]"
     ]
    },
    {
     "name": "stdout",
     "output_type": "stream",
     "text": [
      "✓ Valid shapes - Images: torch.Size([4, 9, 224, 224]), Labels: torch.Size([4])\n"
     ]
    },
    {
     "name": "stderr",
     "output_type": "stream",
     "text": [
      "Epoch 14/25:  17%|█████▉                            | 4/23 [00:01<00:07,  2.46it/s, Loss=0.5037, Avg Loss=0.9422]"
     ]
    },
    {
     "name": "stdout",
     "output_type": "stream",
     "text": [
      "✓ Valid shapes - Images: torch.Size([4, 9, 224, 224]), Labels: torch.Size([4])\n"
     ]
    },
    {
     "name": "stderr",
     "output_type": "stream",
     "text": [
      "Epoch 14/25:  22%|███████▍                          | 5/23 [00:02<00:06,  2.57it/s, Loss=0.3428, Avg Loss=0.8223]"
     ]
    },
    {
     "name": "stdout",
     "output_type": "stream",
     "text": [
      "✓ Valid shapes - Images: torch.Size([4, 9, 224, 224]), Labels: torch.Size([4])\n"
     ]
    },
    {
     "name": "stderr",
     "output_type": "stream",
     "text": [
      "Epoch 14/25:  26%|████████▊                         | 6/23 [00:02<00:06,  2.59it/s, Loss=1.5472, Avg Loss=0.9431]"
     ]
    },
    {
     "name": "stdout",
     "output_type": "stream",
     "text": [
      "✓ Valid shapes - Images: torch.Size([4, 9, 224, 224]), Labels: torch.Size([4])\n"
     ]
    },
    {
     "name": "stderr",
     "output_type": "stream",
     "text": [
      "Epoch 14/25:  30%|██████████▎                       | 7/23 [00:02<00:06,  2.64it/s, Loss=0.8113, Avg Loss=0.9243]"
     ]
    },
    {
     "name": "stdout",
     "output_type": "stream",
     "text": [
      "✓ Valid shapes - Images: torch.Size([4, 9, 224, 224]), Labels: torch.Size([4])\n"
     ]
    },
    {
     "name": "stderr",
     "output_type": "stream",
     "text": [
      "Epoch 14/25:  35%|███████████▊                      | 8/23 [00:03<00:05,  2.58it/s, Loss=0.4958, Avg Loss=0.8707]"
     ]
    },
    {
     "name": "stdout",
     "output_type": "stream",
     "text": [
      "✓ Valid shapes - Images: torch.Size([4, 9, 224, 224]), Labels: torch.Size([4])\n"
     ]
    },
    {
     "name": "stderr",
     "output_type": "stream",
     "text": [
      "Epoch 14/25:  39%|█████████████▎                    | 9/23 [00:03<00:05,  2.59it/s, Loss=1.1088, Avg Loss=0.8972]"
     ]
    },
    {
     "name": "stdout",
     "output_type": "stream",
     "text": [
      "✓ Valid shapes - Images: torch.Size([4, 9, 224, 224]), Labels: torch.Size([4])\n"
     ]
    },
    {
     "name": "stderr",
     "output_type": "stream",
     "text": [
      "Epoch 14/25:  43%|██████████████▎                  | 10/23 [00:04<00:05,  2.58it/s, Loss=0.8971, Avg Loss=0.8972]"
     ]
    },
    {
     "name": "stdout",
     "output_type": "stream",
     "text": [
      "✓ Valid shapes - Images: torch.Size([4, 9, 224, 224]), Labels: torch.Size([4])\n"
     ]
    },
    {
     "name": "stderr",
     "output_type": "stream",
     "text": [
      "Epoch 14/25:  48%|███████████████▊                 | 11/23 [00:04<00:04,  2.60it/s, Loss=0.5578, Avg Loss=0.8663]"
     ]
    },
    {
     "name": "stdout",
     "output_type": "stream",
     "text": [
      "✓ Valid shapes - Images: torch.Size([4, 9, 224, 224]), Labels: torch.Size([4])\n"
     ]
    },
    {
     "name": "stderr",
     "output_type": "stream",
     "text": [
      "Epoch 14/25:  52%|█████████████████▏               | 12/23 [00:04<00:04,  2.61it/s, Loss=1.6543, Avg Loss=0.9320]"
     ]
    },
    {
     "name": "stdout",
     "output_type": "stream",
     "text": [
      "✓ Valid shapes - Images: torch.Size([4, 9, 224, 224]), Labels: torch.Size([4])\n"
     ]
    },
    {
     "name": "stderr",
     "output_type": "stream",
     "text": [
      "Epoch 14/25:  57%|██████████████████▋              | 13/23 [00:05<00:03,  2.62it/s, Loss=0.8460, Avg Loss=0.9254]"
     ]
    },
    {
     "name": "stdout",
     "output_type": "stream",
     "text": [
      "✓ Valid shapes - Images: torch.Size([4, 9, 224, 224]), Labels: torch.Size([4])\n"
     ]
    },
    {
     "name": "stderr",
     "output_type": "stream",
     "text": [
      "Epoch 14/25:  61%|████████████████████             | 14/23 [00:05<00:03,  2.60it/s, Loss=0.5403, Avg Loss=0.8979]"
     ]
    },
    {
     "name": "stdout",
     "output_type": "stream",
     "text": [
      "✓ Valid shapes - Images: torch.Size([4, 9, 224, 224]), Labels: torch.Size([4])\n"
     ]
    },
    {
     "name": "stderr",
     "output_type": "stream",
     "text": [
      "Epoch 14/25:  65%|█████████████████████▌           | 15/23 [00:05<00:03,  2.57it/s, Loss=0.3461, Avg Loss=0.8611]"
     ]
    },
    {
     "name": "stdout",
     "output_type": "stream",
     "text": [
      "✓ Valid shapes - Images: torch.Size([4, 9, 224, 224]), Labels: torch.Size([4])\n"
     ]
    },
    {
     "name": "stderr",
     "output_type": "stream",
     "text": [
      "Epoch 14/25:  70%|██████████████████████▉          | 16/23 [00:06<00:02,  2.51it/s, Loss=0.8947, Avg Loss=0.8632]"
     ]
    },
    {
     "name": "stdout",
     "output_type": "stream",
     "text": [
      "✓ Valid shapes - Images: torch.Size([4, 9, 224, 224]), Labels: torch.Size([4])\n"
     ]
    },
    {
     "name": "stderr",
     "output_type": "stream",
     "text": [
      "Epoch 14/25:  74%|████████████████████████▍        | 17/23 [00:06<00:02,  2.56it/s, Loss=0.3299, Avg Loss=0.8318]"
     ]
    },
    {
     "name": "stdout",
     "output_type": "stream",
     "text": [
      "✓ Valid shapes - Images: torch.Size([4, 9, 224, 224]), Labels: torch.Size([4])\n"
     ]
    },
    {
     "name": "stderr",
     "output_type": "stream",
     "text": [
      "Epoch 14/25:  78%|█████████████████████████▊       | 18/23 [00:07<00:01,  2.57it/s, Loss=0.3642, Avg Loss=0.8058]"
     ]
    },
    {
     "name": "stdout",
     "output_type": "stream",
     "text": [
      "✓ Valid shapes - Images: torch.Size([4, 9, 224, 224]), Labels: torch.Size([4])\n"
     ]
    },
    {
     "name": "stderr",
     "output_type": "stream",
     "text": [
      "Epoch 14/25:  83%|███████████████████████████▎     | 19/23 [00:07<00:01,  2.58it/s, Loss=0.4206, Avg Loss=0.7855]"
     ]
    },
    {
     "name": "stdout",
     "output_type": "stream",
     "text": [
      "✓ Valid shapes - Images: torch.Size([4, 9, 224, 224]), Labels: torch.Size([4])\n"
     ]
    },
    {
     "name": "stderr",
     "output_type": "stream",
     "text": [
      "Epoch 14/25:  87%|████████████████████████████▋    | 20/23 [00:07<00:01,  2.55it/s, Loss=1.6718, Avg Loss=0.8299]"
     ]
    },
    {
     "name": "stdout",
     "output_type": "stream",
     "text": [
      "✓ Valid shapes - Images: torch.Size([4, 9, 224, 224]), Labels: torch.Size([4])\n"
     ]
    },
    {
     "name": "stderr",
     "output_type": "stream",
     "text": [
      "Epoch 14/25:  91%|██████████████████████████████▏  | 21/23 [00:08<00:00,  2.55it/s, Loss=0.8215, Avg Loss=0.8295]"
     ]
    },
    {
     "name": "stdout",
     "output_type": "stream",
     "text": [
      "✓ Valid shapes - Images: torch.Size([4, 9, 224, 224]), Labels: torch.Size([4])\n"
     ]
    },
    {
     "name": "stderr",
     "output_type": "stream",
     "text": [
      "Epoch 14/25:  96%|███████████████████████████████▌ | 22/23 [00:08<00:00,  2.55it/s, Loss=2.0213, Avg Loss=0.8836]"
     ]
    },
    {
     "name": "stdout",
     "output_type": "stream",
     "text": [
      "✓ Valid shapes - Images: torch.Size([4, 9, 224, 224]), Labels: torch.Size([4])\n"
     ]
    },
    {
     "name": "stderr",
     "output_type": "stream",
     "text": [
      "Epoch 14/25: 100%|█████████████████████████████████| 23/23 [00:09<00:00,  2.53it/s, Loss=1.4322, Avg Loss=0.9075]\n"
     ]
    },
    {
     "name": "stdout",
     "output_type": "stream",
     "text": [
      "✓ Valid shapes - Images: torch.Size([4, 9, 224, 224]), Labels: torch.Size([4])\n"
     ]
    },
    {
     "name": "stderr",
     "output_type": "stream",
     "text": [
      "Validation: 100%|██████████████████████████████████████████████████████████████████| 6/6 [00:01<00:00,  3.03it/s]\n"
     ]
    },
    {
     "name": "stdout",
     "output_type": "stream",
     "text": [
      "Epoch 14/25 - Train Loss: 0.9075, Train Acc: 70.65% - Val Loss: 1.1107, Val Acc: 70.83%\n"
     ]
    },
    {
     "name": "stderr",
     "output_type": "stream",
     "text": [
      "Epoch 15/25:   0%|                                                                        | 0/23 [00:00<?, ?it/s]"
     ]
    },
    {
     "name": "stdout",
     "output_type": "stream",
     "text": [
      "✓ Valid shapes - Images: torch.Size([4, 9, 224, 224]), Labels: torch.Size([4])\n"
     ]
    },
    {
     "name": "stderr",
     "output_type": "stream",
     "text": [
      "Epoch 15/25:   9%|██▉                               | 2/23 [00:00<00:10,  2.08it/s, Loss=0.9803, Avg Loss=0.9761]"
     ]
    },
    {
     "name": "stdout",
     "output_type": "stream",
     "text": [
      "✓ Valid shapes - Images: torch.Size([4, 9, 224, 224]), Labels: torch.Size([4])\n"
     ]
    },
    {
     "name": "stderr",
     "output_type": "stream",
     "text": [
      "Epoch 15/25:  13%|████▍                             | 3/23 [00:01<00:08,  2.29it/s, Loss=1.6845, Avg Loss=1.2122]"
     ]
    },
    {
     "name": "stdout",
     "output_type": "stream",
     "text": [
      "✓ Valid shapes - Images: torch.Size([4, 9, 224, 224]), Labels: torch.Size([4])\n"
     ]
    },
    {
     "name": "stderr",
     "output_type": "stream",
     "text": [
      "Epoch 15/25:  17%|█████▉                            | 4/23 [00:01<00:07,  2.39it/s, Loss=1.3874, Avg Loss=1.2560]"
     ]
    },
    {
     "name": "stdout",
     "output_type": "stream",
     "text": [
      "✓ Valid shapes - Images: torch.Size([4, 9, 224, 224]), Labels: torch.Size([4])\n"
     ]
    },
    {
     "name": "stderr",
     "output_type": "stream",
     "text": [
      "Epoch 15/25:  22%|███████▍                          | 5/23 [00:02<00:08,  2.22it/s, Loss=0.6007, Avg Loss=1.1249]"
     ]
    },
    {
     "name": "stdout",
     "output_type": "stream",
     "text": [
      "✓ Valid shapes - Images: torch.Size([4, 9, 224, 224]), Labels: torch.Size([4])\n"
     ]
    },
    {
     "name": "stderr",
     "output_type": "stream",
     "text": [
      "Epoch 15/25:  26%|████████▊                         | 6/23 [00:02<00:07,  2.30it/s, Loss=0.4967, Avg Loss=1.0202]"
     ]
    },
    {
     "name": "stdout",
     "output_type": "stream",
     "text": [
      "✓ Valid shapes - Images: torch.Size([4, 9, 224, 224]), Labels: torch.Size([4])\n"
     ]
    },
    {
     "name": "stderr",
     "output_type": "stream",
     "text": [
      "Epoch 15/25:  30%|██████████▎                       | 7/23 [00:03<00:06,  2.37it/s, Loss=0.7026, Avg Loss=0.9749]"
     ]
    },
    {
     "name": "stdout",
     "output_type": "stream",
     "text": [
      "✓ Valid shapes - Images: torch.Size([4, 9, 224, 224]), Labels: torch.Size([4])\n"
     ]
    },
    {
     "name": "stderr",
     "output_type": "stream",
     "text": [
      "Epoch 15/25:  35%|███████████▊                      | 8/23 [00:03<00:06,  2.40it/s, Loss=0.9389, Avg Loss=0.9704]"
     ]
    },
    {
     "name": "stdout",
     "output_type": "stream",
     "text": [
      "✓ Valid shapes - Images: torch.Size([4, 9, 224, 224]), Labels: torch.Size([4])\n"
     ]
    },
    {
     "name": "stderr",
     "output_type": "stream",
     "text": [
      "Epoch 15/25:  39%|█████████████▎                    | 9/23 [00:03<00:05,  2.47it/s, Loss=1.4500, Avg Loss=1.0237]"
     ]
    },
    {
     "name": "stdout",
     "output_type": "stream",
     "text": [
      "✓ Valid shapes - Images: torch.Size([4, 9, 224, 224]), Labels: torch.Size([4])\n"
     ]
    },
    {
     "name": "stderr",
     "output_type": "stream",
     "text": [
      "Epoch 15/25:  43%|██████████████▎                  | 10/23 [00:04<00:05,  2.51it/s, Loss=0.6311, Avg Loss=0.9844]"
     ]
    },
    {
     "name": "stdout",
     "output_type": "stream",
     "text": [
      "✓ Valid shapes - Images: torch.Size([4, 9, 224, 224]), Labels: torch.Size([4])\n"
     ]
    },
    {
     "name": "stderr",
     "output_type": "stream",
     "text": [
      "Epoch 15/25:  48%|███████████████▊                 | 11/23 [00:04<00:04,  2.53it/s, Loss=0.4377, Avg Loss=0.9347]"
     ]
    },
    {
     "name": "stdout",
     "output_type": "stream",
     "text": [
      "✓ Valid shapes - Images: torch.Size([4, 9, 224, 224]), Labels: torch.Size([4])\n"
     ]
    },
    {
     "name": "stderr",
     "output_type": "stream",
     "text": [
      "Epoch 15/25:  52%|█████████████████▏               | 12/23 [00:05<00:04,  2.54it/s, Loss=1.2447, Avg Loss=0.9605]"
     ]
    },
    {
     "name": "stdout",
     "output_type": "stream",
     "text": [
      "✓ Valid shapes - Images: torch.Size([4, 9, 224, 224]), Labels: torch.Size([4])\n"
     ]
    },
    {
     "name": "stderr",
     "output_type": "stream",
     "text": [
      "Epoch 15/25:  57%|██████████████████▋              | 13/23 [00:05<00:03,  2.52it/s, Loss=0.3710, Avg Loss=0.9152]"
     ]
    },
    {
     "name": "stdout",
     "output_type": "stream",
     "text": [
      "✓ Valid shapes - Images: torch.Size([4, 9, 224, 224]), Labels: torch.Size([4])\n"
     ]
    },
    {
     "name": "stderr",
     "output_type": "stream",
     "text": [
      "Epoch 15/25:  61%|████████████████████             | 14/23 [00:05<00:03,  2.50it/s, Loss=1.0275, Avg Loss=0.9232]"
     ]
    },
    {
     "name": "stdout",
     "output_type": "stream",
     "text": [
      "✓ Valid shapes - Images: torch.Size([4, 9, 224, 224]), Labels: torch.Size([4])\n"
     ]
    },
    {
     "name": "stderr",
     "output_type": "stream",
     "text": [
      "Epoch 15/25:  65%|█████████████████████▌           | 15/23 [00:06<00:03,  2.52it/s, Loss=0.6585, Avg Loss=0.9056]"
     ]
    },
    {
     "name": "stdout",
     "output_type": "stream",
     "text": [
      "✓ Valid shapes - Images: torch.Size([4, 9, 224, 224]), Labels: torch.Size([4])\n"
     ]
    },
    {
     "name": "stderr",
     "output_type": "stream",
     "text": [
      "Epoch 15/25:  70%|██████████████████████▉          | 16/23 [00:06<00:02,  2.46it/s, Loss=0.5844, Avg Loss=0.8855]"
     ]
    },
    {
     "name": "stdout",
     "output_type": "stream",
     "text": [
      "✓ Valid shapes - Images: torch.Size([4, 9, 224, 224]), Labels: torch.Size([4])\n"
     ]
    },
    {
     "name": "stderr",
     "output_type": "stream",
     "text": [
      "Epoch 15/25:  74%|████████████████████████▍        | 17/23 [00:07<00:02,  2.44it/s, Loss=1.3268, Avg Loss=0.9114]"
     ]
    },
    {
     "name": "stdout",
     "output_type": "stream",
     "text": [
      "✓ Valid shapes - Images: torch.Size([4, 9, 224, 224]), Labels: torch.Size([4])\n"
     ]
    },
    {
     "name": "stderr",
     "output_type": "stream",
     "text": [
      "Epoch 15/25:  78%|█████████████████████████▊       | 18/23 [00:07<00:02,  2.45it/s, Loss=0.6254, Avg Loss=0.8956]"
     ]
    },
    {
     "name": "stdout",
     "output_type": "stream",
     "text": [
      "✓ Valid shapes - Images: torch.Size([4, 9, 224, 224]), Labels: torch.Size([4])\n"
     ]
    },
    {
     "name": "stderr",
     "output_type": "stream",
     "text": [
      "Epoch 15/25:  83%|███████████████████████████▎     | 19/23 [00:07<00:01,  2.44it/s, Loss=1.0439, Avg Loss=0.9034]"
     ]
    },
    {
     "name": "stdout",
     "output_type": "stream",
     "text": [
      "✓ Valid shapes - Images: torch.Size([4, 9, 224, 224]), Labels: torch.Size([4])\n"
     ]
    },
    {
     "name": "stderr",
     "output_type": "stream",
     "text": [
      "Epoch 15/25:  87%|████████████████████████████▋    | 20/23 [00:08<00:01,  2.40it/s, Loss=0.4765, Avg Loss=0.8820]"
     ]
    },
    {
     "name": "stdout",
     "output_type": "stream",
     "text": [
      "✓ Valid shapes - Images: torch.Size([4, 9, 224, 224]), Labels: torch.Size([4])\n"
     ]
    },
    {
     "name": "stderr",
     "output_type": "stream",
     "text": [
      "Epoch 15/25:  91%|██████████████████████████████▏  | 21/23 [00:08<00:00,  2.37it/s, Loss=0.6235, Avg Loss=0.8697]"
     ]
    },
    {
     "name": "stdout",
     "output_type": "stream",
     "text": [
      "✓ Valid shapes - Images: torch.Size([4, 9, 224, 224]), Labels: torch.Size([4])\n"
     ]
    },
    {
     "name": "stderr",
     "output_type": "stream",
     "text": [
      "Epoch 15/25:  96%|███████████████████████████████▌ | 22/23 [00:09<00:00,  2.21it/s, Loss=0.9710, Avg Loss=0.8743]"
     ]
    },
    {
     "name": "stdout",
     "output_type": "stream",
     "text": [
      "✓ Valid shapes - Images: torch.Size([4, 9, 224, 224]), Labels: torch.Size([4])\n"
     ]
    },
    {
     "name": "stderr",
     "output_type": "stream",
     "text": [
      "Epoch 15/25: 100%|█████████████████████████████████| 23/23 [00:09<00:00,  2.38it/s, Loss=0.5177, Avg Loss=0.8588]\n"
     ]
    },
    {
     "name": "stdout",
     "output_type": "stream",
     "text": [
      "✓ Valid shapes - Images: torch.Size([4, 9, 224, 224]), Labels: torch.Size([4])\n"
     ]
    },
    {
     "name": "stderr",
     "output_type": "stream",
     "text": [
      "Validation: 100%|██████████████████████████████████████████████████████████████████| 6/6 [00:01<00:00,  3.07it/s]\n"
     ]
    },
    {
     "name": "stdout",
     "output_type": "stream",
     "text": [
      "Epoch 15/25 - Train Loss: 0.8588, Train Acc: 71.74% - Val Loss: 0.9977, Val Acc: 70.83%\n"
     ]
    },
    {
     "name": "stderr",
     "output_type": "stream",
     "text": [
      "Epoch 16/25:   0%|                                                                        | 0/23 [00:00<?, ?it/s]"
     ]
    },
    {
     "name": "stdout",
     "output_type": "stream",
     "text": [
      "✓ Valid shapes - Images: torch.Size([4, 9, 224, 224]), Labels: torch.Size([4])\n"
     ]
    },
    {
     "name": "stderr",
     "output_type": "stream",
     "text": [
      "Epoch 16/25:   9%|██▉                               | 2/23 [00:00<00:09,  2.29it/s, Loss=0.5955, Avg Loss=0.9106]"
     ]
    },
    {
     "name": "stdout",
     "output_type": "stream",
     "text": [
      "✓ Valid shapes - Images: torch.Size([4, 9, 224, 224]), Labels: torch.Size([4])\n"
     ]
    },
    {
     "name": "stderr",
     "output_type": "stream",
     "text": [
      "Epoch 16/25:  13%|████▍                             | 3/23 [00:01<00:08,  2.47it/s, Loss=0.7838, Avg Loss=0.8683]"
     ]
    },
    {
     "name": "stdout",
     "output_type": "stream",
     "text": [
      "✓ Valid shapes - Images: torch.Size([4, 9, 224, 224]), Labels: torch.Size([4])\n"
     ]
    },
    {
     "name": "stderr",
     "output_type": "stream",
     "text": [
      "Epoch 16/25:  17%|█████▉                            | 4/23 [00:01<00:07,  2.52it/s, Loss=0.8056, Avg Loss=0.8527]"
     ]
    },
    {
     "name": "stdout",
     "output_type": "stream",
     "text": [
      "✓ Valid shapes - Images: torch.Size([4, 9, 224, 224]), Labels: torch.Size([4])\n"
     ]
    },
    {
     "name": "stderr",
     "output_type": "stream",
     "text": [
      "Epoch 16/25:  22%|███████▍                          | 5/23 [00:02<00:06,  2.59it/s, Loss=0.4738, Avg Loss=0.7769]"
     ]
    },
    {
     "name": "stdout",
     "output_type": "stream",
     "text": [
      "✓ Valid shapes - Images: torch.Size([4, 9, 224, 224]), Labels: torch.Size([4])\n"
     ]
    },
    {
     "name": "stderr",
     "output_type": "stream",
     "text": [
      "Epoch 16/25:  26%|████████▊                         | 6/23 [00:02<00:06,  2.58it/s, Loss=0.4303, Avg Loss=0.7191]"
     ]
    },
    {
     "name": "stdout",
     "output_type": "stream",
     "text": [
      "✓ Valid shapes - Images: torch.Size([4, 9, 224, 224]), Labels: torch.Size([4])\n"
     ]
    },
    {
     "name": "stderr",
     "output_type": "stream",
     "text": [
      "Epoch 16/25:  30%|██████████▎                       | 7/23 [00:02<00:06,  2.61it/s, Loss=0.6483, Avg Loss=0.7090]"
     ]
    },
    {
     "name": "stdout",
     "output_type": "stream",
     "text": [
      "✓ Valid shapes - Images: torch.Size([4, 9, 224, 224]), Labels: torch.Size([4])\n"
     ]
    },
    {
     "name": "stderr",
     "output_type": "stream",
     "text": [
      "Epoch 16/25:  35%|███████████▊                      | 8/23 [00:03<00:05,  2.59it/s, Loss=0.4765, Avg Loss=0.6799]"
     ]
    },
    {
     "name": "stdout",
     "output_type": "stream",
     "text": [
      "✓ Valid shapes - Images: torch.Size([4, 9, 224, 224]), Labels: torch.Size([4])\n"
     ]
    },
    {
     "name": "stderr",
     "output_type": "stream",
     "text": [
      "Epoch 16/25:  39%|█████████████▎                    | 9/23 [00:03<00:05,  2.56it/s, Loss=0.7381, Avg Loss=0.6864]"
     ]
    },
    {
     "name": "stdout",
     "output_type": "stream",
     "text": [
      "✓ Valid shapes - Images: torch.Size([4, 9, 224, 224]), Labels: torch.Size([4])\n"
     ]
    },
    {
     "name": "stderr",
     "output_type": "stream",
     "text": [
      "Epoch 16/25:  43%|██████████████▎                  | 10/23 [00:03<00:05,  2.58it/s, Loss=0.4932, Avg Loss=0.6671]"
     ]
    },
    {
     "name": "stdout",
     "output_type": "stream",
     "text": [
      "✓ Valid shapes - Images: torch.Size([4, 9, 224, 224]), Labels: torch.Size([4])\n"
     ]
    },
    {
     "name": "stderr",
     "output_type": "stream",
     "text": [
      "Epoch 16/25:  48%|███████████████▊                 | 11/23 [00:04<00:04,  2.58it/s, Loss=0.3133, Avg Loss=0.6349]"
     ]
    },
    {
     "name": "stdout",
     "output_type": "stream",
     "text": [
      "✓ Valid shapes - Images: torch.Size([4, 9, 224, 224]), Labels: torch.Size([4])\n"
     ]
    },
    {
     "name": "stderr",
     "output_type": "stream",
     "text": [
      "Epoch 16/25:  52%|█████████████████▏               | 12/23 [00:04<00:04,  2.49it/s, Loss=1.0936, Avg Loss=0.6731]"
     ]
    },
    {
     "name": "stdout",
     "output_type": "stream",
     "text": [
      "✓ Valid shapes - Images: torch.Size([4, 9, 224, 224]), Labels: torch.Size([4])\n"
     ]
    },
    {
     "name": "stderr",
     "output_type": "stream",
     "text": [
      "Epoch 16/25:  57%|██████████████████▋              | 13/23 [00:05<00:03,  2.50it/s, Loss=1.4385, Avg Loss=0.7320]"
     ]
    },
    {
     "name": "stdout",
     "output_type": "stream",
     "text": [
      "✓ Valid shapes - Images: torch.Size([4, 9, 224, 224]), Labels: torch.Size([4])\n"
     ]
    },
    {
     "name": "stderr",
     "output_type": "stream",
     "text": [
      "Epoch 16/25:  61%|████████████████████             | 14/23 [00:05<00:03,  2.49it/s, Loss=0.9343, Avg Loss=0.7465]"
     ]
    },
    {
     "name": "stdout",
     "output_type": "stream",
     "text": [
      "✓ Valid shapes - Images: torch.Size([4, 9, 224, 224]), Labels: torch.Size([4])\n"
     ]
    },
    {
     "name": "stderr",
     "output_type": "stream",
     "text": [
      "Epoch 16/25:  65%|█████████████████████▌           | 15/23 [00:05<00:03,  2.50it/s, Loss=0.6347, Avg Loss=0.7390]"
     ]
    },
    {
     "name": "stdout",
     "output_type": "stream",
     "text": [
      "✓ Valid shapes - Images: torch.Size([4, 9, 224, 224]), Labels: torch.Size([4])\n"
     ]
    },
    {
     "name": "stderr",
     "output_type": "stream",
     "text": [
      "Epoch 16/25:  70%|██████████████████████▉          | 16/23 [00:06<00:02,  2.49it/s, Loss=0.8911, Avg Loss=0.7485]"
     ]
    },
    {
     "name": "stdout",
     "output_type": "stream",
     "text": [
      "✓ Valid shapes - Images: torch.Size([4, 9, 224, 224]), Labels: torch.Size([4])\n"
     ]
    },
    {
     "name": "stderr",
     "output_type": "stream",
     "text": [
      "Epoch 16/25:  74%|████████████████████████▍        | 17/23 [00:06<00:02,  2.48it/s, Loss=0.6790, Avg Loss=0.7444]"
     ]
    },
    {
     "name": "stdout",
     "output_type": "stream",
     "text": [
      "✓ Valid shapes - Images: torch.Size([4, 9, 224, 224]), Labels: torch.Size([4])\n"
     ]
    },
    {
     "name": "stderr",
     "output_type": "stream",
     "text": [
      "Epoch 16/25:  78%|█████████████████████████▊       | 18/23 [00:07<00:02,  2.46it/s, Loss=0.8135, Avg Loss=0.7483]"
     ]
    },
    {
     "name": "stdout",
     "output_type": "stream",
     "text": [
      "✓ Valid shapes - Images: torch.Size([4, 9, 224, 224]), Labels: torch.Size([4])\n"
     ]
    },
    {
     "name": "stderr",
     "output_type": "stream",
     "text": [
      "Epoch 16/25:  83%|███████████████████████████▎     | 19/23 [00:07<00:01,  2.46it/s, Loss=0.8782, Avg Loss=0.7551]"
     ]
    },
    {
     "name": "stdout",
     "output_type": "stream",
     "text": [
      "✓ Valid shapes - Images: torch.Size([4, 9, 224, 224]), Labels: torch.Size([4])\n"
     ]
    },
    {
     "name": "stderr",
     "output_type": "stream",
     "text": [
      "Epoch 16/25:  87%|████████████████████████████▋    | 20/23 [00:08<00:01,  2.49it/s, Loss=0.4724, Avg Loss=0.7410]"
     ]
    },
    {
     "name": "stdout",
     "output_type": "stream",
     "text": [
      "✓ Valid shapes - Images: torch.Size([4, 9, 224, 224]), Labels: torch.Size([4])\n"
     ]
    },
    {
     "name": "stderr",
     "output_type": "stream",
     "text": [
      "Epoch 16/25:  91%|██████████████████████████████▏  | 21/23 [00:08<00:00,  2.50it/s, Loss=0.4659, Avg Loss=0.7279]"
     ]
    },
    {
     "name": "stdout",
     "output_type": "stream",
     "text": [
      "✓ Valid shapes - Images: torch.Size([4, 9, 224, 224]), Labels: torch.Size([4])\n"
     ]
    },
    {
     "name": "stderr",
     "output_type": "stream",
     "text": [
      "Epoch 16/25:  96%|███████████████████████████████▌ | 22/23 [00:08<00:00,  2.51it/s, Loss=1.0876, Avg Loss=0.7442]"
     ]
    },
    {
     "name": "stdout",
     "output_type": "stream",
     "text": [
      "✓ Valid shapes - Images: torch.Size([4, 9, 224, 224]), Labels: torch.Size([4])\n"
     ]
    },
    {
     "name": "stderr",
     "output_type": "stream",
     "text": [
      "Epoch 16/25: 100%|█████████████████████████████████| 23/23 [00:09<00:00,  2.50it/s, Loss=0.9242, Avg Loss=0.7520]\n"
     ]
    },
    {
     "name": "stdout",
     "output_type": "stream",
     "text": [
      "✓ Valid shapes - Images: torch.Size([4, 9, 224, 224]), Labels: torch.Size([4])\n"
     ]
    },
    {
     "name": "stderr",
     "output_type": "stream",
     "text": [
      "Validation: 100%|██████████████████████████████████████████████████████████████████| 6/6 [00:02<00:00,  2.96it/s]\n"
     ]
    },
    {
     "name": "stdout",
     "output_type": "stream",
     "text": [
      "New best training accuracy: 76.09%\n",
      "New best model saved with accuracy: 76.09%\n",
      "Epoch 16/25 - Train Loss: 0.7520, Train Acc: 76.09% - Val Loss: 1.0942, Val Acc: 70.83% (Best!)\n"
     ]
    },
    {
     "name": "stderr",
     "output_type": "stream",
     "text": [
      "Epoch 17/25:   0%|                                                                        | 0/23 [00:00<?, ?it/s]"
     ]
    },
    {
     "name": "stdout",
     "output_type": "stream",
     "text": [
      "✓ Valid shapes - Images: torch.Size([4, 9, 224, 224]), Labels: torch.Size([4])\n"
     ]
    },
    {
     "name": "stderr",
     "output_type": "stream",
     "text": [
      "Epoch 17/25:   9%|██▉                               | 2/23 [00:00<00:09,  2.14it/s, Loss=0.3146, Avg Loss=0.6811]"
     ]
    },
    {
     "name": "stdout",
     "output_type": "stream",
     "text": [
      "✓ Valid shapes - Images: torch.Size([4, 9, 224, 224]), Labels: torch.Size([4])\n"
     ]
    },
    {
     "name": "stderr",
     "output_type": "stream",
     "text": [
      "Epoch 17/25:  13%|████▍                             | 3/23 [00:01<00:08,  2.36it/s, Loss=0.4864, Avg Loss=0.6162]"
     ]
    },
    {
     "name": "stdout",
     "output_type": "stream",
     "text": [
      "✓ Valid shapes - Images: torch.Size([4, 9, 224, 224]), Labels: torch.Size([4])\n"
     ]
    },
    {
     "name": "stderr",
     "output_type": "stream",
     "text": [
      "Epoch 17/25:  17%|█████▉                            | 4/23 [00:01<00:07,  2.50it/s, Loss=2.1728, Avg Loss=1.0053]"
     ]
    },
    {
     "name": "stdout",
     "output_type": "stream",
     "text": [
      "✓ Valid shapes - Images: torch.Size([4, 9, 224, 224]), Labels: torch.Size([4])\n"
     ]
    },
    {
     "name": "stderr",
     "output_type": "stream",
     "text": [
      "Epoch 17/25:  22%|███████▍                          | 5/23 [00:02<00:07,  2.51it/s, Loss=0.2696, Avg Loss=0.8582]"
     ]
    },
    {
     "name": "stdout",
     "output_type": "stream",
     "text": [
      "✓ Valid shapes - Images: torch.Size([4, 9, 224, 224]), Labels: torch.Size([4])\n"
     ]
    },
    {
     "name": "stderr",
     "output_type": "stream",
     "text": [
      "Epoch 17/25:  26%|████████▊                         | 6/23 [00:02<00:06,  2.48it/s, Loss=0.5296, Avg Loss=0.8034]"
     ]
    },
    {
     "name": "stdout",
     "output_type": "stream",
     "text": [
      "✓ Valid shapes - Images: torch.Size([4, 9, 224, 224]), Labels: torch.Size([4])\n"
     ]
    },
    {
     "name": "stderr",
     "output_type": "stream",
     "text": [
      "Epoch 17/25:  30%|██████████▎                       | 7/23 [00:02<00:06,  2.54it/s, Loss=0.6649, Avg Loss=0.7836]"
     ]
    },
    {
     "name": "stdout",
     "output_type": "stream",
     "text": [
      "✓ Valid shapes - Images: torch.Size([4, 9, 224, 224]), Labels: torch.Size([4])\n"
     ]
    },
    {
     "name": "stderr",
     "output_type": "stream",
     "text": [
      "Epoch 17/25:  35%|███████████▊                      | 8/23 [00:03<00:05,  2.55it/s, Loss=1.2594, Avg Loss=0.8431]"
     ]
    },
    {
     "name": "stdout",
     "output_type": "stream",
     "text": [
      "✓ Valid shapes - Images: torch.Size([4, 9, 224, 224]), Labels: torch.Size([4])\n"
     ]
    },
    {
     "name": "stderr",
     "output_type": "stream",
     "text": [
      "Epoch 17/25:  39%|█████████████▎                    | 9/23 [00:03<00:05,  2.59it/s, Loss=0.5525, Avg Loss=0.8108]"
     ]
    },
    {
     "name": "stdout",
     "output_type": "stream",
     "text": [
      "✓ Valid shapes - Images: torch.Size([4, 9, 224, 224]), Labels: torch.Size([4])\n"
     ]
    },
    {
     "name": "stderr",
     "output_type": "stream",
     "text": [
      "Epoch 17/25:  43%|██████████████▎                  | 10/23 [00:04<00:05,  2.60it/s, Loss=0.8684, Avg Loss=0.8166]"
     ]
    },
    {
     "name": "stdout",
     "output_type": "stream",
     "text": [
      "✓ Valid shapes - Images: torch.Size([4, 9, 224, 224]), Labels: torch.Size([4])\n"
     ]
    },
    {
     "name": "stderr",
     "output_type": "stream",
     "text": [
      "Epoch 17/25:  48%|███████████████▊                 | 11/23 [00:04<00:04,  2.61it/s, Loss=1.1217, Avg Loss=0.8443]"
     ]
    },
    {
     "name": "stdout",
     "output_type": "stream",
     "text": [
      "✓ Valid shapes - Images: torch.Size([4, 9, 224, 224]), Labels: torch.Size([4])\n"
     ]
    },
    {
     "name": "stderr",
     "output_type": "stream",
     "text": [
      "Epoch 17/25:  52%|█████████████████▏               | 12/23 [00:04<00:04,  2.59it/s, Loss=0.2995, Avg Loss=0.7989]"
     ]
    },
    {
     "name": "stdout",
     "output_type": "stream",
     "text": [
      "✓ Valid shapes - Images: torch.Size([4, 9, 224, 224]), Labels: torch.Size([4])\n"
     ]
    },
    {
     "name": "stderr",
     "output_type": "stream",
     "text": [
      "Epoch 17/25:  57%|██████████████████▋              | 13/23 [00:05<00:03,  2.59it/s, Loss=0.6261, Avg Loss=0.7856]"
     ]
    },
    {
     "name": "stdout",
     "output_type": "stream",
     "text": [
      "✓ Valid shapes - Images: torch.Size([4, 9, 224, 224]), Labels: torch.Size([4])\n"
     ]
    },
    {
     "name": "stderr",
     "output_type": "stream",
     "text": [
      "Epoch 17/25:  61%|████████████████████             | 14/23 [00:05<00:03,  2.58it/s, Loss=1.0147, Avg Loss=0.8020]"
     ]
    },
    {
     "name": "stdout",
     "output_type": "stream",
     "text": [
      "✓ Valid shapes - Images: torch.Size([4, 9, 224, 224]), Labels: torch.Size([4])\n"
     ]
    },
    {
     "name": "stderr",
     "output_type": "stream",
     "text": [
      "Epoch 17/25:  65%|█████████████████████▌           | 15/23 [00:05<00:03,  2.57it/s, Loss=0.6556, Avg Loss=0.7922]"
     ]
    },
    {
     "name": "stdout",
     "output_type": "stream",
     "text": [
      "✓ Valid shapes - Images: torch.Size([4, 9, 224, 224]), Labels: torch.Size([4])\n"
     ]
    },
    {
     "name": "stderr",
     "output_type": "stream",
     "text": [
      "Epoch 17/25:  70%|██████████████████████▉          | 16/23 [00:06<00:02,  2.53it/s, Loss=0.8060, Avg Loss=0.7931]"
     ]
    },
    {
     "name": "stdout",
     "output_type": "stream",
     "text": [
      "✓ Valid shapes - Images: torch.Size([4, 9, 224, 224]), Labels: torch.Size([4])\n"
     ]
    },
    {
     "name": "stderr",
     "output_type": "stream",
     "text": [
      "Epoch 17/25:  74%|████████████████████████▍        | 17/23 [00:06<00:02,  2.50it/s, Loss=0.6191, Avg Loss=0.7829]"
     ]
    },
    {
     "name": "stdout",
     "output_type": "stream",
     "text": [
      "✓ Valid shapes - Images: torch.Size([4, 9, 224, 224]), Labels: torch.Size([4])\n"
     ]
    },
    {
     "name": "stderr",
     "output_type": "stream",
     "text": [
      "Epoch 17/25:  78%|█████████████████████████▊       | 18/23 [00:07<00:02,  2.48it/s, Loss=1.0534, Avg Loss=0.7979]"
     ]
    },
    {
     "name": "stdout",
     "output_type": "stream",
     "text": [
      "✓ Valid shapes - Images: torch.Size([4, 9, 224, 224]), Labels: torch.Size([4])\n"
     ]
    },
    {
     "name": "stderr",
     "output_type": "stream",
     "text": [
      "Epoch 17/25:  83%|███████████████████████████▎     | 19/23 [00:07<00:01,  2.40it/s, Loss=0.5958, Avg Loss=0.7872]"
     ]
    },
    {
     "name": "stdout",
     "output_type": "stream",
     "text": [
      "✓ Valid shapes - Images: torch.Size([4, 9, 224, 224]), Labels: torch.Size([4])\n"
     ]
    },
    {
     "name": "stderr",
     "output_type": "stream",
     "text": [
      "Epoch 17/25:  87%|████████████████████████████▋    | 20/23 [00:08<00:01,  2.43it/s, Loss=0.3495, Avg Loss=0.7654]"
     ]
    },
    {
     "name": "stdout",
     "output_type": "stream",
     "text": [
      "✓ Valid shapes - Images: torch.Size([4, 9, 224, 224]), Labels: torch.Size([4])\n"
     ]
    },
    {
     "name": "stderr",
     "output_type": "stream",
     "text": [
      "Epoch 17/25:  91%|██████████████████████████████▏  | 21/23 [00:08<00:00,  2.45it/s, Loss=0.7027, Avg Loss=0.7624]"
     ]
    },
    {
     "name": "stdout",
     "output_type": "stream",
     "text": [
      "✓ Valid shapes - Images: torch.Size([4, 9, 224, 224]), Labels: torch.Size([4])\n"
     ]
    },
    {
     "name": "stderr",
     "output_type": "stream",
     "text": [
      "Epoch 17/25:  96%|███████████████████████████████▌ | 22/23 [00:08<00:00,  2.47it/s, Loss=1.1512, Avg Loss=0.7801]"
     ]
    },
    {
     "name": "stdout",
     "output_type": "stream",
     "text": [
      "✓ Valid shapes - Images: torch.Size([4, 9, 224, 224]), Labels: torch.Size([4])\n"
     ]
    },
    {
     "name": "stderr",
     "output_type": "stream",
     "text": [
      "Epoch 17/25: 100%|█████████████████████████████████| 23/23 [00:09<00:00,  2.49it/s, Loss=1.1545, Avg Loss=0.7963]\n"
     ]
    },
    {
     "name": "stdout",
     "output_type": "stream",
     "text": [
      "✓ Valid shapes - Images: torch.Size([4, 9, 224, 224]), Labels: torch.Size([4])\n"
     ]
    },
    {
     "name": "stderr",
     "output_type": "stream",
     "text": [
      "Validation: 100%|██████████████████████████████████████████████████████████████████| 6/6 [00:01<00:00,  3.01it/s]\n"
     ]
    },
    {
     "name": "stdout",
     "output_type": "stream",
     "text": [
      "Epoch 17/25 - Train Loss: 0.7963, Train Acc: 73.91% - Val Loss: 1.0371, Val Acc: 70.83%\n"
     ]
    },
    {
     "name": "stderr",
     "output_type": "stream",
     "text": [
      "Epoch 18/25:   0%|                                                                        | 0/23 [00:00<?, ?it/s]"
     ]
    },
    {
     "name": "stdout",
     "output_type": "stream",
     "text": [
      "✓ Valid shapes - Images: torch.Size([4, 9, 224, 224]), Labels: torch.Size([4])\n"
     ]
    },
    {
     "name": "stderr",
     "output_type": "stream",
     "text": [
      "Epoch 18/25:   9%|██▉                               | 2/23 [00:00<00:09,  2.24it/s, Loss=0.8420, Avg Loss=0.6195]"
     ]
    },
    {
     "name": "stdout",
     "output_type": "stream",
     "text": [
      "✓ Valid shapes - Images: torch.Size([4, 9, 224, 224]), Labels: torch.Size([4])\n"
     ]
    },
    {
     "name": "stderr",
     "output_type": "stream",
     "text": [
      "Epoch 18/25:  13%|████▍                             | 3/23 [00:01<00:08,  2.46it/s, Loss=1.5695, Avg Loss=0.9362]"
     ]
    },
    {
     "name": "stdout",
     "output_type": "stream",
     "text": [
      "✓ Valid shapes - Images: torch.Size([4, 9, 224, 224]), Labels: torch.Size([4])\n"
     ]
    },
    {
     "name": "stderr",
     "output_type": "stream",
     "text": [
      "Epoch 18/25:  17%|█████▉                            | 4/23 [00:01<00:07,  2.52it/s, Loss=0.2477, Avg Loss=0.7640]"
     ]
    },
    {
     "name": "stdout",
     "output_type": "stream",
     "text": [
      "✓ Valid shapes - Images: torch.Size([4, 9, 224, 224]), Labels: torch.Size([4])\n"
     ]
    },
    {
     "name": "stderr",
     "output_type": "stream",
     "text": [
      "Epoch 18/25:  22%|███████▍                          | 5/23 [00:02<00:06,  2.60it/s, Loss=1.1306, Avg Loss=0.8374]"
     ]
    },
    {
     "name": "stdout",
     "output_type": "stream",
     "text": [
      "✓ Valid shapes - Images: torch.Size([4, 9, 224, 224]), Labels: torch.Size([4])\n"
     ]
    },
    {
     "name": "stderr",
     "output_type": "stream",
     "text": [
      "Epoch 18/25:  26%|████████▊                         | 6/23 [00:02<00:06,  2.66it/s, Loss=0.5424, Avg Loss=0.7882]"
     ]
    },
    {
     "name": "stdout",
     "output_type": "stream",
     "text": [
      "✓ Valid shapes - Images: torch.Size([4, 9, 224, 224]), Labels: torch.Size([4])\n"
     ]
    },
    {
     "name": "stderr",
     "output_type": "stream",
     "text": [
      "Epoch 18/25:  30%|██████████▎                       | 7/23 [00:02<00:06,  2.66it/s, Loss=1.0957, Avg Loss=0.8321]"
     ]
    },
    {
     "name": "stdout",
     "output_type": "stream",
     "text": [
      "✓ Valid shapes - Images: torch.Size([4, 9, 224, 224]), Labels: torch.Size([4])\n"
     ]
    },
    {
     "name": "stderr",
     "output_type": "stream",
     "text": [
      "Epoch 18/25:  35%|███████████▊                      | 8/23 [00:03<00:05,  2.60it/s, Loss=0.3910, Avg Loss=0.7770]"
     ]
    },
    {
     "name": "stdout",
     "output_type": "stream",
     "text": [
      "✓ Valid shapes - Images: torch.Size([4, 9, 224, 224]), Labels: torch.Size([4])\n"
     ]
    },
    {
     "name": "stderr",
     "output_type": "stream",
     "text": [
      "Epoch 18/25:  39%|█████████████▎                    | 9/23 [00:03<00:05,  2.61it/s, Loss=0.4671, Avg Loss=0.7425]"
     ]
    },
    {
     "name": "stdout",
     "output_type": "stream",
     "text": [
      "✓ Valid shapes - Images: torch.Size([4, 9, 224, 224]), Labels: torch.Size([4])\n"
     ]
    },
    {
     "name": "stderr",
     "output_type": "stream",
     "text": [
      "Epoch 18/25:  43%|██████████████▎                  | 10/23 [00:03<00:04,  2.61it/s, Loss=0.9306, Avg Loss=0.7614]"
     ]
    },
    {
     "name": "stdout",
     "output_type": "stream",
     "text": [
      "✓ Valid shapes - Images: torch.Size([4, 9, 224, 224]), Labels: torch.Size([4])\n"
     ]
    },
    {
     "name": "stderr",
     "output_type": "stream",
     "text": [
      "Epoch 18/25:  48%|███████████████▊                 | 11/23 [00:04<00:04,  2.62it/s, Loss=1.0950, Avg Loss=0.7917]"
     ]
    },
    {
     "name": "stdout",
     "output_type": "stream",
     "text": [
      "✓ Valid shapes - Images: torch.Size([4, 9, 224, 224]), Labels: torch.Size([4])\n"
     ]
    },
    {
     "name": "stderr",
     "output_type": "stream",
     "text": [
      "Epoch 18/25:  52%|█████████████████▏               | 12/23 [00:04<00:04,  2.62it/s, Loss=0.9285, Avg Loss=0.8031]"
     ]
    },
    {
     "name": "stdout",
     "output_type": "stream",
     "text": [
      "✓ Valid shapes - Images: torch.Size([4, 9, 224, 224]), Labels: torch.Size([4])\n"
     ]
    },
    {
     "name": "stderr",
     "output_type": "stream",
     "text": [
      "Epoch 18/25:  57%|██████████████████▋              | 13/23 [00:05<00:03,  2.59it/s, Loss=1.2359, Avg Loss=0.8364]"
     ]
    },
    {
     "name": "stdout",
     "output_type": "stream",
     "text": [
      "✓ Valid shapes - Images: torch.Size([4, 9, 224, 224]), Labels: torch.Size([4])\n"
     ]
    },
    {
     "name": "stderr",
     "output_type": "stream",
     "text": [
      "Epoch 18/25:  61%|████████████████████             | 14/23 [00:05<00:03,  2.58it/s, Loss=0.3857, Avg Loss=0.8042]"
     ]
    },
    {
     "name": "stdout",
     "output_type": "stream",
     "text": [
      "✓ Valid shapes - Images: torch.Size([4, 9, 224, 224]), Labels: torch.Size([4])\n"
     ]
    },
    {
     "name": "stderr",
     "output_type": "stream",
     "text": [
      "Epoch 18/25:  65%|█████████████████████▌           | 15/23 [00:05<00:03,  2.60it/s, Loss=0.6825, Avg Loss=0.7961]"
     ]
    },
    {
     "name": "stdout",
     "output_type": "stream",
     "text": [
      "✓ Valid shapes - Images: torch.Size([4, 9, 224, 224]), Labels: torch.Size([4])\n"
     ]
    },
    {
     "name": "stderr",
     "output_type": "stream",
     "text": [
      "Epoch 18/25:  70%|██████████████████████▉          | 16/23 [00:06<00:02,  2.60it/s, Loss=0.9546, Avg Loss=0.8060]"
     ]
    },
    {
     "name": "stdout",
     "output_type": "stream",
     "text": [
      "✓ Valid shapes - Images: torch.Size([4, 9, 224, 224]), Labels: torch.Size([4])\n"
     ]
    },
    {
     "name": "stderr",
     "output_type": "stream",
     "text": [
      "Epoch 18/25:  74%|████████████████████████▍        | 17/23 [00:06<00:02,  2.59it/s, Loss=1.6265, Avg Loss=0.8542]"
     ]
    },
    {
     "name": "stdout",
     "output_type": "stream",
     "text": [
      "✓ Valid shapes - Images: torch.Size([4, 9, 224, 224]), Labels: torch.Size([4])\n"
     ]
    },
    {
     "name": "stderr",
     "output_type": "stream",
     "text": [
      "Epoch 18/25:  78%|█████████████████████████▊       | 18/23 [00:07<00:01,  2.61it/s, Loss=0.3484, Avg Loss=0.8261]"
     ]
    },
    {
     "name": "stdout",
     "output_type": "stream",
     "text": [
      "✓ Valid shapes - Images: torch.Size([4, 9, 224, 224]), Labels: torch.Size([4])\n"
     ]
    },
    {
     "name": "stderr",
     "output_type": "stream",
     "text": [
      "Epoch 18/25:  83%|███████████████████████████▎     | 19/23 [00:07<00:01,  2.60it/s, Loss=0.6592, Avg Loss=0.8174]"
     ]
    },
    {
     "name": "stdout",
     "output_type": "stream",
     "text": [
      "✓ Valid shapes - Images: torch.Size([4, 9, 224, 224]), Labels: torch.Size([4])\n"
     ]
    },
    {
     "name": "stderr",
     "output_type": "stream",
     "text": [
      "Epoch 18/25:  87%|████████████████████████████▋    | 20/23 [00:07<00:01,  2.57it/s, Loss=1.2463, Avg Loss=0.8388]"
     ]
    },
    {
     "name": "stdout",
     "output_type": "stream",
     "text": [
      "✓ Valid shapes - Images: torch.Size([4, 9, 224, 224]), Labels: torch.Size([4])\n"
     ]
    },
    {
     "name": "stderr",
     "output_type": "stream",
     "text": [
      "Epoch 18/25:  91%|██████████████████████████████▏  | 21/23 [00:08<00:00,  2.54it/s, Loss=2.0355, Avg Loss=0.8958]"
     ]
    },
    {
     "name": "stdout",
     "output_type": "stream",
     "text": [
      "✓ Valid shapes - Images: torch.Size([4, 9, 224, 224]), Labels: torch.Size([4])\n"
     ]
    },
    {
     "name": "stderr",
     "output_type": "stream",
     "text": [
      "Epoch 18/25:  96%|███████████████████████████████▌ | 22/23 [00:08<00:00,  2.54it/s, Loss=0.5975, Avg Loss=0.8822]"
     ]
    },
    {
     "name": "stdout",
     "output_type": "stream",
     "text": [
      "✓ Valid shapes - Images: torch.Size([4, 9, 224, 224]), Labels: torch.Size([4])\n"
     ]
    },
    {
     "name": "stderr",
     "output_type": "stream",
     "text": [
      "Epoch 18/25: 100%|█████████████████████████████████| 23/23 [00:08<00:00,  2.56it/s, Loss=0.8268, Avg Loss=0.8798]\n"
     ]
    },
    {
     "name": "stdout",
     "output_type": "stream",
     "text": [
      "✓ Valid shapes - Images: torch.Size([4, 9, 224, 224]), Labels: torch.Size([4])\n"
     ]
    },
    {
     "name": "stderr",
     "output_type": "stream",
     "text": [
      "Validation: 100%|██████████████████████████████████████████████████████████████████| 6/6 [00:02<00:00,  2.83it/s]\n"
     ]
    },
    {
     "name": "stdout",
     "output_type": "stream",
     "text": [
      "Epoch 18/25 - Train Loss: 0.8798, Train Acc: 71.74% - Val Loss: 0.9909, Val Acc: 70.83%\n"
     ]
    },
    {
     "name": "stderr",
     "output_type": "stream",
     "text": [
      "Epoch 19/25:   0%|                                                                        | 0/23 [00:00<?, ?it/s]"
     ]
    },
    {
     "name": "stdout",
     "output_type": "stream",
     "text": [
      "✓ Valid shapes - Images: torch.Size([4, 9, 224, 224]), Labels: torch.Size([4])\n"
     ]
    },
    {
     "name": "stderr",
     "output_type": "stream",
     "text": [
      "Epoch 19/25:   9%|██▉                               | 2/23 [00:00<00:09,  2.11it/s, Loss=1.4208, Avg Loss=0.9310]"
     ]
    },
    {
     "name": "stdout",
     "output_type": "stream",
     "text": [
      "✓ Valid shapes - Images: torch.Size([4, 9, 224, 224]), Labels: torch.Size([4])\n"
     ]
    },
    {
     "name": "stderr",
     "output_type": "stream",
     "text": [
      "Epoch 19/25:  13%|████▍                             | 3/23 [00:01<00:08,  2.39it/s, Loss=1.7793, Avg Loss=1.2137]"
     ]
    },
    {
     "name": "stdout",
     "output_type": "stream",
     "text": [
      "✓ Valid shapes - Images: torch.Size([4, 9, 224, 224]), Labels: torch.Size([4])\n"
     ]
    },
    {
     "name": "stderr",
     "output_type": "stream",
     "text": [
      "Epoch 19/25:  17%|█████▉                            | 4/23 [00:01<00:07,  2.53it/s, Loss=1.4093, Avg Loss=1.2626]"
     ]
    },
    {
     "name": "stdout",
     "output_type": "stream",
     "text": [
      "✓ Valid shapes - Images: torch.Size([4, 9, 224, 224]), Labels: torch.Size([4])\n"
     ]
    },
    {
     "name": "stderr",
     "output_type": "stream",
     "text": [
      "Epoch 19/25:  22%|███████▍                          | 5/23 [00:02<00:06,  2.62it/s, Loss=0.4270, Avg Loss=1.0955]"
     ]
    },
    {
     "name": "stdout",
     "output_type": "stream",
     "text": [
      "✓ Valid shapes - Images: torch.Size([4, 9, 224, 224]), Labels: torch.Size([4])\n"
     ]
    },
    {
     "name": "stderr",
     "output_type": "stream",
     "text": [
      "Epoch 19/25:  26%|████████▊                         | 6/23 [00:02<00:06,  2.64it/s, Loss=0.5132, Avg Loss=0.9985]"
     ]
    },
    {
     "name": "stdout",
     "output_type": "stream",
     "text": [
      "✓ Valid shapes - Images: torch.Size([4, 9, 224, 224]), Labels: torch.Size([4])\n"
     ]
    },
    {
     "name": "stderr",
     "output_type": "stream",
     "text": [
      "Epoch 19/25:  30%|██████████▎                       | 7/23 [00:02<00:05,  2.67it/s, Loss=0.6398, Avg Loss=0.9472]"
     ]
    },
    {
     "name": "stdout",
     "output_type": "stream",
     "text": [
      "✓ Valid shapes - Images: torch.Size([4, 9, 224, 224]), Labels: torch.Size([4])\n"
     ]
    },
    {
     "name": "stderr",
     "output_type": "stream",
     "text": [
      "Epoch 19/25:  35%|███████████▊                      | 8/23 [00:03<00:05,  2.66it/s, Loss=0.4979, Avg Loss=0.8911]"
     ]
    },
    {
     "name": "stdout",
     "output_type": "stream",
     "text": [
      "✓ Valid shapes - Images: torch.Size([4, 9, 224, 224]), Labels: torch.Size([4])\n"
     ]
    },
    {
     "name": "stderr",
     "output_type": "stream",
     "text": [
      "Epoch 19/25:  39%|█████████████▎                    | 9/23 [00:03<00:05,  2.67it/s, Loss=0.9329, Avg Loss=0.8957]"
     ]
    },
    {
     "name": "stdout",
     "output_type": "stream",
     "text": [
      "✓ Valid shapes - Images: torch.Size([4, 9, 224, 224]), Labels: torch.Size([4])\n"
     ]
    },
    {
     "name": "stderr",
     "output_type": "stream",
     "text": [
      "Epoch 19/25:  43%|██████████████▎                  | 10/23 [00:03<00:04,  2.62it/s, Loss=0.4279, Avg Loss=0.8489]"
     ]
    },
    {
     "name": "stdout",
     "output_type": "stream",
     "text": [
      "✓ Valid shapes - Images: torch.Size([4, 9, 224, 224]), Labels: torch.Size([4])\n"
     ]
    },
    {
     "name": "stderr",
     "output_type": "stream",
     "text": [
      "Epoch 19/25:  48%|███████████████▊                 | 11/23 [00:04<00:04,  2.63it/s, Loss=0.4375, Avg Loss=0.8115]"
     ]
    },
    {
     "name": "stdout",
     "output_type": "stream",
     "text": [
      "✓ Valid shapes - Images: torch.Size([4, 9, 224, 224]), Labels: torch.Size([4])\n"
     ]
    },
    {
     "name": "stderr",
     "output_type": "stream",
     "text": [
      "Epoch 19/25:  52%|█████████████████▏               | 12/23 [00:04<00:04,  2.61it/s, Loss=0.8529, Avg Loss=0.8150]"
     ]
    },
    {
     "name": "stdout",
     "output_type": "stream",
     "text": [
      "✓ Valid shapes - Images: torch.Size([4, 9, 224, 224]), Labels: torch.Size([4])\n"
     ]
    },
    {
     "name": "stderr",
     "output_type": "stream",
     "text": [
      "Epoch 19/25:  57%|██████████████████▋              | 13/23 [00:05<00:03,  2.60it/s, Loss=0.8823, Avg Loss=0.8202]"
     ]
    },
    {
     "name": "stdout",
     "output_type": "stream",
     "text": [
      "✓ Valid shapes - Images: torch.Size([4, 9, 224, 224]), Labels: torch.Size([4])\n"
     ]
    },
    {
     "name": "stderr",
     "output_type": "stream",
     "text": [
      "Epoch 19/25:  61%|████████████████████             | 14/23 [00:05<00:03,  2.58it/s, Loss=0.6869, Avg Loss=0.8106]"
     ]
    },
    {
     "name": "stdout",
     "output_type": "stream",
     "text": [
      "✓ Valid shapes - Images: torch.Size([4, 9, 224, 224]), Labels: torch.Size([4])\n"
     ]
    },
    {
     "name": "stderr",
     "output_type": "stream",
     "text": [
      "Epoch 19/25:  65%|█████████████████████▌           | 15/23 [00:05<00:03,  2.59it/s, Loss=0.9922, Avg Loss=0.8227]"
     ]
    },
    {
     "name": "stdout",
     "output_type": "stream",
     "text": [
      "✓ Valid shapes - Images: torch.Size([4, 9, 224, 224]), Labels: torch.Size([4])\n"
     ]
    },
    {
     "name": "stderr",
     "output_type": "stream",
     "text": [
      "Epoch 19/25:  70%|██████████████████████▉          | 16/23 [00:06<00:02,  2.62it/s, Loss=0.3848, Avg Loss=0.7954]"
     ]
    },
    {
     "name": "stdout",
     "output_type": "stream",
     "text": [
      "✓ Valid shapes - Images: torch.Size([4, 9, 224, 224]), Labels: torch.Size([4])\n"
     ]
    },
    {
     "name": "stderr",
     "output_type": "stream",
     "text": [
      "Epoch 19/25:  74%|████████████████████████▍        | 17/23 [00:06<00:02,  2.61it/s, Loss=0.9897, Avg Loss=0.8068]"
     ]
    },
    {
     "name": "stdout",
     "output_type": "stream",
     "text": [
      "✓ Valid shapes - Images: torch.Size([4, 9, 224, 224]), Labels: torch.Size([4])\n"
     ]
    },
    {
     "name": "stderr",
     "output_type": "stream",
     "text": [
      "Epoch 19/25:  78%|█████████████████████████▊       | 18/23 [00:07<00:01,  2.61it/s, Loss=0.6473, Avg Loss=0.7979]"
     ]
    },
    {
     "name": "stdout",
     "output_type": "stream",
     "text": [
      "✓ Valid shapes - Images: torch.Size([4, 9, 224, 224]), Labels: torch.Size([4])\n"
     ]
    },
    {
     "name": "stderr",
     "output_type": "stream",
     "text": [
      "Epoch 19/25:  83%|███████████████████████████▎     | 19/23 [00:07<00:01,  2.55it/s, Loss=0.3948, Avg Loss=0.7767]"
     ]
    },
    {
     "name": "stdout",
     "output_type": "stream",
     "text": [
      "✓ Valid shapes - Images: torch.Size([4, 9, 224, 224]), Labels: torch.Size([4])\n"
     ]
    },
    {
     "name": "stderr",
     "output_type": "stream",
     "text": [
      "Epoch 19/25:  87%|████████████████████████████▋    | 20/23 [00:07<00:01,  2.41it/s, Loss=1.4662, Avg Loss=0.8112]"
     ]
    },
    {
     "name": "stdout",
     "output_type": "stream",
     "text": [
      "✓ Valid shapes - Images: torch.Size([4, 9, 224, 224]), Labels: torch.Size([4])\n"
     ]
    },
    {
     "name": "stderr",
     "output_type": "stream",
     "text": [
      "Epoch 19/25:  91%|██████████████████████████████▏  | 21/23 [00:08<00:00,  2.32it/s, Loss=0.3803, Avg Loss=0.7907]"
     ]
    },
    {
     "name": "stdout",
     "output_type": "stream",
     "text": [
      "✓ Valid shapes - Images: torch.Size([4, 9, 224, 224]), Labels: torch.Size([4])\n"
     ]
    },
    {
     "name": "stderr",
     "output_type": "stream",
     "text": [
      "Epoch 19/25:  96%|███████████████████████████████▌ | 22/23 [00:08<00:00,  2.42it/s, Loss=0.3792, Avg Loss=0.7720]"
     ]
    },
    {
     "name": "stdout",
     "output_type": "stream",
     "text": [
      "✓ Valid shapes - Images: torch.Size([4, 9, 224, 224]), Labels: torch.Size([4])\n"
     ]
    },
    {
     "name": "stderr",
     "output_type": "stream",
     "text": [
      "Epoch 19/25: 100%|█████████████████████████████████| 23/23 [00:09<00:00,  2.52it/s, Loss=0.9792, Avg Loss=0.7810]\n"
     ]
    },
    {
     "name": "stdout",
     "output_type": "stream",
     "text": [
      "✓ Valid shapes - Images: torch.Size([4, 9, 224, 224]), Labels: torch.Size([4])\n"
     ]
    },
    {
     "name": "stderr",
     "output_type": "stream",
     "text": [
      "Validation: 100%|██████████████████████████████████████████████████████████████████| 6/6 [00:02<00:00,  2.97it/s]\n"
     ]
    },
    {
     "name": "stdout",
     "output_type": "stream",
     "text": [
      "New best training accuracy: 78.26%\n",
      "New best model saved with accuracy: 78.26%\n",
      "Epoch 19/25 - Train Loss: 0.7810, Train Acc: 78.26% - Val Loss: 1.0307, Val Acc: 70.83% (Best!)\n"
     ]
    },
    {
     "name": "stderr",
     "output_type": "stream",
     "text": [
      "Epoch 20/25:   0%|                                                                        | 0/23 [00:00<?, ?it/s]"
     ]
    },
    {
     "name": "stdout",
     "output_type": "stream",
     "text": [
      "✓ Valid shapes - Images: torch.Size([4, 9, 224, 224]), Labels: torch.Size([4])\n"
     ]
    },
    {
     "name": "stderr",
     "output_type": "stream",
     "text": [
      "Epoch 20/25:   9%|██▉                               | 2/23 [00:00<00:09,  2.10it/s, Loss=0.3077, Avg Loss=0.9690]"
     ]
    },
    {
     "name": "stdout",
     "output_type": "stream",
     "text": [
      "✓ Valid shapes - Images: torch.Size([4, 9, 224, 224]), Labels: torch.Size([4])\n"
     ]
    },
    {
     "name": "stderr",
     "output_type": "stream",
     "text": [
      "Epoch 20/25:  13%|████▍                             | 3/23 [00:01<00:08,  2.27it/s, Loss=1.1223, Avg Loss=1.0201]"
     ]
    },
    {
     "name": "stdout",
     "output_type": "stream",
     "text": [
      "✓ Valid shapes - Images: torch.Size([4, 9, 224, 224]), Labels: torch.Size([4])\n"
     ]
    },
    {
     "name": "stderr",
     "output_type": "stream",
     "text": [
      "Epoch 20/25:  17%|█████▉                            | 4/23 [00:01<00:08,  2.37it/s, Loss=1.2073, Avg Loss=1.0669]"
     ]
    },
    {
     "name": "stdout",
     "output_type": "stream",
     "text": [
      "✓ Valid shapes - Images: torch.Size([4, 9, 224, 224]), Labels: torch.Size([4])\n"
     ]
    },
    {
     "name": "stderr",
     "output_type": "stream",
     "text": [
      "Epoch 20/25:  22%|███████▍                          | 5/23 [00:02<00:07,  2.48it/s, Loss=0.3313, Avg Loss=0.9198]"
     ]
    },
    {
     "name": "stdout",
     "output_type": "stream",
     "text": [
      "✓ Valid shapes - Images: torch.Size([4, 9, 224, 224]), Labels: torch.Size([4])\n"
     ]
    },
    {
     "name": "stderr",
     "output_type": "stream",
     "text": [
      "Epoch 20/25:  26%|████████▊                         | 6/23 [00:02<00:06,  2.48it/s, Loss=0.3138, Avg Loss=0.8188]"
     ]
    },
    {
     "name": "stdout",
     "output_type": "stream",
     "text": [
      "✓ Valid shapes - Images: torch.Size([4, 9, 224, 224]), Labels: torch.Size([4])\n"
     ]
    },
    {
     "name": "stderr",
     "output_type": "stream",
     "text": [
      "Epoch 20/25:  30%|██████████▎                       | 7/23 [00:02<00:06,  2.51it/s, Loss=0.4970, Avg Loss=0.7728]"
     ]
    },
    {
     "name": "stdout",
     "output_type": "stream",
     "text": [
      "✓ Valid shapes - Images: torch.Size([4, 9, 224, 224]), Labels: torch.Size([4])\n"
     ]
    },
    {
     "name": "stderr",
     "output_type": "stream",
     "text": [
      "Epoch 20/25:  35%|███████████▊                      | 8/23 [00:03<00:06,  2.48it/s, Loss=0.2962, Avg Loss=0.7132]"
     ]
    },
    {
     "name": "stdout",
     "output_type": "stream",
     "text": [
      "✓ Valid shapes - Images: torch.Size([4, 9, 224, 224]), Labels: torch.Size([4])\n"
     ]
    },
    {
     "name": "stderr",
     "output_type": "stream",
     "text": [
      "Epoch 20/25:  39%|█████████████▎                    | 9/23 [00:03<00:05,  2.52it/s, Loss=0.3051, Avg Loss=0.6679]"
     ]
    },
    {
     "name": "stdout",
     "output_type": "stream",
     "text": [
      "✓ Valid shapes - Images: torch.Size([4, 9, 224, 224]), Labels: torch.Size([4])\n"
     ]
    },
    {
     "name": "stderr",
     "output_type": "stream",
     "text": [
      "Epoch 20/25:  43%|██████████████▎                  | 10/23 [00:04<00:05,  2.50it/s, Loss=0.6210, Avg Loss=0.6632]"
     ]
    },
    {
     "name": "stdout",
     "output_type": "stream",
     "text": [
      "✓ Valid shapes - Images: torch.Size([4, 9, 224, 224]), Labels: torch.Size([4])\n"
     ]
    },
    {
     "name": "stderr",
     "output_type": "stream",
     "text": [
      "Epoch 20/25:  48%|███████████████▊                 | 11/23 [00:04<00:04,  2.52it/s, Loss=0.2410, Avg Loss=0.6248]"
     ]
    },
    {
     "name": "stdout",
     "output_type": "stream",
     "text": [
      "✓ Valid shapes - Images: torch.Size([4, 9, 224, 224]), Labels: torch.Size([4])\n"
     ]
    },
    {
     "name": "stderr",
     "output_type": "stream",
     "text": [
      "Epoch 20/25:  52%|█████████████████▏               | 12/23 [00:04<00:04,  2.51it/s, Loss=1.0118, Avg Loss=0.6571]"
     ]
    },
    {
     "name": "stdout",
     "output_type": "stream",
     "text": [
      "✓ Valid shapes - Images: torch.Size([4, 9, 224, 224]), Labels: torch.Size([4])\n"
     ]
    },
    {
     "name": "stderr",
     "output_type": "stream",
     "text": [
      "Epoch 20/25:  57%|██████████████████▋              | 13/23 [00:05<00:04,  2.49it/s, Loss=1.1465, Avg Loss=0.6947]"
     ]
    },
    {
     "name": "stdout",
     "output_type": "stream",
     "text": [
      "✓ Valid shapes - Images: torch.Size([4, 9, 224, 224]), Labels: torch.Size([4])\n"
     ]
    },
    {
     "name": "stderr",
     "output_type": "stream",
     "text": [
      "Epoch 20/25:  61%|████████████████████             | 14/23 [00:05<00:03,  2.53it/s, Loss=0.4536, Avg Loss=0.6775]"
     ]
    },
    {
     "name": "stdout",
     "output_type": "stream",
     "text": [
      "✓ Valid shapes - Images: torch.Size([4, 9, 224, 224]), Labels: torch.Size([4])\n"
     ]
    },
    {
     "name": "stderr",
     "output_type": "stream",
     "text": [
      "Epoch 20/25:  65%|█████████████████████▌           | 15/23 [00:06<00:03,  2.53it/s, Loss=2.0023, Avg Loss=0.7658]"
     ]
    },
    {
     "name": "stdout",
     "output_type": "stream",
     "text": [
      "✓ Valid shapes - Images: torch.Size([4, 9, 224, 224]), Labels: torch.Size([4])\n"
     ]
    },
    {
     "name": "stderr",
     "output_type": "stream",
     "text": [
      "Epoch 20/25:  70%|██████████████████████▉          | 16/23 [00:06<00:02,  2.49it/s, Loss=0.2626, Avg Loss=0.7343]"
     ]
    },
    {
     "name": "stdout",
     "output_type": "stream",
     "text": [
      "✓ Valid shapes - Images: torch.Size([4, 9, 224, 224]), Labels: torch.Size([4])\n"
     ]
    },
    {
     "name": "stderr",
     "output_type": "stream",
     "text": [
      "Epoch 20/25:  74%|████████████████████████▍        | 17/23 [00:06<00:02,  2.43it/s, Loss=1.5240, Avg Loss=0.7808]"
     ]
    },
    {
     "name": "stdout",
     "output_type": "stream",
     "text": [
      "✓ Valid shapes - Images: torch.Size([4, 9, 224, 224]), Labels: torch.Size([4])\n"
     ]
    },
    {
     "name": "stderr",
     "output_type": "stream",
     "text": [
      "Epoch 20/25:  78%|█████████████████████████▊       | 18/23 [00:07<00:02,  2.40it/s, Loss=0.3081, Avg Loss=0.7545]"
     ]
    },
    {
     "name": "stdout",
     "output_type": "stream",
     "text": [
      "✓ Valid shapes - Images: torch.Size([4, 9, 224, 224]), Labels: torch.Size([4])\n"
     ]
    },
    {
     "name": "stderr",
     "output_type": "stream",
     "text": [
      "Epoch 20/25:  83%|███████████████████████████▎     | 19/23 [00:07<00:01,  2.44it/s, Loss=1.5923, Avg Loss=0.7986]"
     ]
    },
    {
     "name": "stdout",
     "output_type": "stream",
     "text": [
      "✓ Valid shapes - Images: torch.Size([4, 9, 224, 224]), Labels: torch.Size([4])\n"
     ]
    },
    {
     "name": "stderr",
     "output_type": "stream",
     "text": [
      "Epoch 20/25:  87%|████████████████████████████▋    | 20/23 [00:08<00:01,  2.45it/s, Loss=0.2630, Avg Loss=0.7718]"
     ]
    },
    {
     "name": "stdout",
     "output_type": "stream",
     "text": [
      "✓ Valid shapes - Images: torch.Size([4, 9, 224, 224]), Labels: torch.Size([4])\n"
     ]
    },
    {
     "name": "stderr",
     "output_type": "stream",
     "text": [
      "Epoch 20/25:  91%|██████████████████████████████▏  | 21/23 [00:08<00:00,  2.47it/s, Loss=0.6890, Avg Loss=0.7679]"
     ]
    },
    {
     "name": "stdout",
     "output_type": "stream",
     "text": [
      "✓ Valid shapes - Images: torch.Size([4, 9, 224, 224]), Labels: torch.Size([4])\n"
     ]
    },
    {
     "name": "stderr",
     "output_type": "stream",
     "text": [
      "Epoch 20/25:  96%|███████████████████████████████▌ | 22/23 [00:09<00:00,  2.31it/s, Loss=0.4174, Avg Loss=0.7520]"
     ]
    },
    {
     "name": "stdout",
     "output_type": "stream",
     "text": [
      "✓ Valid shapes - Images: torch.Size([4, 9, 224, 224]), Labels: torch.Size([4])\n"
     ]
    },
    {
     "name": "stderr",
     "output_type": "stream",
     "text": [
      "Epoch 20/25: 100%|█████████████████████████████████| 23/23 [00:09<00:00,  2.40it/s, Loss=1.6433, Avg Loss=0.7907]\n"
     ]
    },
    {
     "name": "stdout",
     "output_type": "stream",
     "text": [
      "✓ Valid shapes - Images: torch.Size([4, 9, 224, 224]), Labels: torch.Size([4])\n"
     ]
    },
    {
     "name": "stderr",
     "output_type": "stream",
     "text": [
      "Validation: 100%|██████████████████████████████████████████████████████████████████| 6/6 [00:02<00:00,  2.47it/s]\n"
     ]
    },
    {
     "name": "stdout",
     "output_type": "stream",
     "text": [
      "Epoch 20/25 - Train Loss: 0.7907, Train Acc: 76.09% - Val Loss: 1.1113, Val Acc: 70.83%\n"
     ]
    },
    {
     "name": "stderr",
     "output_type": "stream",
     "text": [
      "Epoch 21/25:   0%|                                                                        | 0/23 [00:00<?, ?it/s]"
     ]
    },
    {
     "name": "stdout",
     "output_type": "stream",
     "text": [
      "✓ Valid shapes - Images: torch.Size([4, 9, 224, 224]), Labels: torch.Size([4])\n"
     ]
    },
    {
     "name": "stderr",
     "output_type": "stream",
     "text": [
      "Epoch 21/25:   9%|██▉                               | 2/23 [00:00<00:10,  2.09it/s, Loss=1.4083, Avg Loss=1.2810]"
     ]
    },
    {
     "name": "stdout",
     "output_type": "stream",
     "text": [
      "✓ Valid shapes - Images: torch.Size([4, 9, 224, 224]), Labels: torch.Size([4])\n"
     ]
    },
    {
     "name": "stderr",
     "output_type": "stream",
     "text": [
      "Epoch 21/25:  13%|████▍                             | 3/23 [00:01<00:08,  2.40it/s, Loss=0.9898, Avg Loss=1.1839]"
     ]
    },
    {
     "name": "stdout",
     "output_type": "stream",
     "text": [
      "✓ Valid shapes - Images: torch.Size([4, 9, 224, 224]), Labels: torch.Size([4])\n"
     ]
    },
    {
     "name": "stderr",
     "output_type": "stream",
     "text": [
      "Epoch 21/25:  17%|█████▉                            | 4/23 [00:01<00:07,  2.51it/s, Loss=0.2555, Avg Loss=0.9518]"
     ]
    },
    {
     "name": "stdout",
     "output_type": "stream",
     "text": [
      "✓ Valid shapes - Images: torch.Size([4, 9, 224, 224]), Labels: torch.Size([4])\n"
     ]
    },
    {
     "name": "stderr",
     "output_type": "stream",
     "text": [
      "Epoch 21/25:  22%|███████▍                          | 5/23 [00:02<00:06,  2.63it/s, Loss=1.0042, Avg Loss=0.9623]"
     ]
    },
    {
     "name": "stdout",
     "output_type": "stream",
     "text": [
      "✓ Valid shapes - Images: torch.Size([4, 9, 224, 224]), Labels: torch.Size([4])\n"
     ]
    },
    {
     "name": "stderr",
     "output_type": "stream",
     "text": [
      "Epoch 21/25:  26%|████████▊                         | 6/23 [00:02<00:06,  2.68it/s, Loss=0.2634, Avg Loss=0.8458]"
     ]
    },
    {
     "name": "stdout",
     "output_type": "stream",
     "text": [
      "✓ Valid shapes - Images: torch.Size([4, 9, 224, 224]), Labels: torch.Size([4])\n"
     ]
    },
    {
     "name": "stderr",
     "output_type": "stream",
     "text": [
      "Epoch 21/25:  30%|██████████▎                       | 7/23 [00:02<00:06,  2.66it/s, Loss=1.6645, Avg Loss=0.9628]"
     ]
    },
    {
     "name": "stdout",
     "output_type": "stream",
     "text": [
      "✓ Valid shapes - Images: torch.Size([4, 9, 224, 224]), Labels: torch.Size([4])\n"
     ]
    },
    {
     "name": "stderr",
     "output_type": "stream",
     "text": [
      "Epoch 21/25:  35%|███████████▊                      | 8/23 [00:03<00:05,  2.71it/s, Loss=1.6546, Avg Loss=1.0493]"
     ]
    },
    {
     "name": "stdout",
     "output_type": "stream",
     "text": [
      "✓ Valid shapes - Images: torch.Size([4, 9, 224, 224]), Labels: torch.Size([4])\n"
     ]
    },
    {
     "name": "stderr",
     "output_type": "stream",
     "text": [
      "Epoch 21/25:  39%|█████████████▎                    | 9/23 [00:03<00:05,  2.70it/s, Loss=1.4841, Avg Loss=1.0976]"
     ]
    },
    {
     "name": "stdout",
     "output_type": "stream",
     "text": [
      "✓ Valid shapes - Images: torch.Size([4, 9, 224, 224]), Labels: torch.Size([4])\n"
     ]
    },
    {
     "name": "stderr",
     "output_type": "stream",
     "text": [
      "Epoch 21/25:  43%|██████████████▎                  | 10/23 [00:03<00:04,  2.65it/s, Loss=0.3330, Avg Loss=1.0211]"
     ]
    },
    {
     "name": "stdout",
     "output_type": "stream",
     "text": [
      "✓ Valid shapes - Images: torch.Size([4, 9, 224, 224]), Labels: torch.Size([4])\n"
     ]
    },
    {
     "name": "stderr",
     "output_type": "stream",
     "text": [
      "Epoch 21/25:  48%|███████████████▊                 | 11/23 [00:04<00:04,  2.64it/s, Loss=0.3733, Avg Loss=0.9622]"
     ]
    },
    {
     "name": "stdout",
     "output_type": "stream",
     "text": [
      "✓ Valid shapes - Images: torch.Size([4, 9, 224, 224]), Labels: torch.Size([4])\n"
     ]
    },
    {
     "name": "stderr",
     "output_type": "stream",
     "text": [
      "Epoch 21/25:  52%|█████████████████▏               | 12/23 [00:04<00:04,  2.60it/s, Loss=0.4986, Avg Loss=0.9236]"
     ]
    },
    {
     "name": "stdout",
     "output_type": "stream",
     "text": [
      "✓ Valid shapes - Images: torch.Size([4, 9, 224, 224]), Labels: torch.Size([4])\n"
     ]
    },
    {
     "name": "stderr",
     "output_type": "stream",
     "text": [
      "Epoch 21/25:  57%|██████████████████▋              | 13/23 [00:05<00:03,  2.56it/s, Loss=0.8113, Avg Loss=0.9149]"
     ]
    },
    {
     "name": "stdout",
     "output_type": "stream",
     "text": [
      "✓ Valid shapes - Images: torch.Size([4, 9, 224, 224]), Labels: torch.Size([4])\n"
     ]
    },
    {
     "name": "stderr",
     "output_type": "stream",
     "text": [
      "Epoch 21/25:  61%|████████████████████             | 14/23 [00:05<00:03,  2.51it/s, Loss=0.2278, Avg Loss=0.8659]"
     ]
    },
    {
     "name": "stdout",
     "output_type": "stream",
     "text": [
      "✓ Valid shapes - Images: torch.Size([4, 9, 224, 224]), Labels: torch.Size([4])\n"
     ]
    },
    {
     "name": "stderr",
     "output_type": "stream",
     "text": [
      "Epoch 21/25:  65%|█████████████████████▌           | 15/23 [00:05<00:03,  2.51it/s, Loss=1.0023, Avg Loss=0.8750]"
     ]
    },
    {
     "name": "stdout",
     "output_type": "stream",
     "text": [
      "✓ Valid shapes - Images: torch.Size([4, 9, 224, 224]), Labels: torch.Size([4])\n"
     ]
    },
    {
     "name": "stderr",
     "output_type": "stream",
     "text": [
      "Epoch 21/25:  70%|██████████████████████▉          | 16/23 [00:06<00:02,  2.50it/s, Loss=0.5667, Avg Loss=0.8557]"
     ]
    },
    {
     "name": "stdout",
     "output_type": "stream",
     "text": [
      "✓ Valid shapes - Images: torch.Size([4, 9, 224, 224]), Labels: torch.Size([4])\n"
     ]
    },
    {
     "name": "stderr",
     "output_type": "stream",
     "text": [
      "Epoch 21/25:  74%|████████████████████████▍        | 17/23 [00:06<00:02,  2.54it/s, Loss=1.0863, Avg Loss=0.8693]"
     ]
    },
    {
     "name": "stdout",
     "output_type": "stream",
     "text": [
      "✓ Valid shapes - Images: torch.Size([4, 9, 224, 224]), Labels: torch.Size([4])\n"
     ]
    },
    {
     "name": "stderr",
     "output_type": "stream",
     "text": [
      "Epoch 21/25:  78%|█████████████████████████▊       | 18/23 [00:07<00:01,  2.52it/s, Loss=0.8790, Avg Loss=0.8698]"
     ]
    },
    {
     "name": "stdout",
     "output_type": "stream",
     "text": [
      "✓ Valid shapes - Images: torch.Size([4, 9, 224, 224]), Labels: torch.Size([4])\n"
     ]
    },
    {
     "name": "stderr",
     "output_type": "stream",
     "text": [
      "Epoch 21/25:  83%|███████████████████████████▎     | 19/23 [00:07<00:01,  2.55it/s, Loss=0.4642, Avg Loss=0.8485]"
     ]
    },
    {
     "name": "stdout",
     "output_type": "stream",
     "text": [
      "✓ Valid shapes - Images: torch.Size([4, 9, 224, 224]), Labels: torch.Size([4])\n"
     ]
    },
    {
     "name": "stderr",
     "output_type": "stream",
     "text": [
      "Epoch 21/25:  87%|████████████████████████████▋    | 20/23 [00:07<00:01,  2.55it/s, Loss=0.9874, Avg Loss=0.8554]"
     ]
    },
    {
     "name": "stdout",
     "output_type": "stream",
     "text": [
      "✓ Valid shapes - Images: torch.Size([4, 9, 224, 224]), Labels: torch.Size([4])\n"
     ]
    },
    {
     "name": "stderr",
     "output_type": "stream",
     "text": [
      "Epoch 21/25:  91%|██████████████████████████████▏  | 21/23 [00:08<00:00,  2.49it/s, Loss=0.2817, Avg Loss=0.8281]"
     ]
    },
    {
     "name": "stdout",
     "output_type": "stream",
     "text": [
      "✓ Valid shapes - Images: torch.Size([4, 9, 224, 224]), Labels: torch.Size([4])\n"
     ]
    },
    {
     "name": "stderr",
     "output_type": "stream",
     "text": [
      "Epoch 21/25:  96%|███████████████████████████████▌ | 22/23 [00:08<00:00,  2.49it/s, Loss=0.3011, Avg Loss=0.8041]"
     ]
    },
    {
     "name": "stdout",
     "output_type": "stream",
     "text": [
      "✓ Valid shapes - Images: torch.Size([4, 9, 224, 224]), Labels: torch.Size([4])\n"
     ]
    },
    {
     "name": "stderr",
     "output_type": "stream",
     "text": [
      "Epoch 21/25: 100%|█████████████████████████████████| 23/23 [00:09<00:00,  2.53it/s, Loss=0.3870, Avg Loss=0.7860]\n"
     ]
    },
    {
     "name": "stdout",
     "output_type": "stream",
     "text": [
      "✓ Valid shapes - Images: torch.Size([4, 9, 224, 224]), Labels: torch.Size([4])\n"
     ]
    },
    {
     "name": "stderr",
     "output_type": "stream",
     "text": [
      "Validation: 100%|██████████████████████████████████████████████████████████████████| 6/6 [00:01<00:00,  3.01it/s]\n"
     ]
    },
    {
     "name": "stdout",
     "output_type": "stream",
     "text": [
      "Epoch 21/25 - Train Loss: 0.7860, Train Acc: 76.09% - Val Loss: 1.0636, Val Acc: 70.83%\n"
     ]
    },
    {
     "name": "stderr",
     "output_type": "stream",
     "text": [
      "Epoch 22/25:   0%|                                                                        | 0/23 [00:00<?, ?it/s]"
     ]
    },
    {
     "name": "stdout",
     "output_type": "stream",
     "text": [
      "✓ Valid shapes - Images: torch.Size([4, 9, 224, 224]), Labels: torch.Size([4])\n"
     ]
    },
    {
     "name": "stderr",
     "output_type": "stream",
     "text": [
      "Epoch 22/25:   9%|██▉                               | 2/23 [00:00<00:09,  2.30it/s, Loss=1.3593, Avg Loss=1.0564]"
     ]
    },
    {
     "name": "stdout",
     "output_type": "stream",
     "text": [
      "✓ Valid shapes - Images: torch.Size([4, 9, 224, 224]), Labels: torch.Size([4])\n"
     ]
    },
    {
     "name": "stderr",
     "output_type": "stream",
     "text": [
      "Epoch 22/25:  13%|████▍                             | 3/23 [00:01<00:08,  2.43it/s, Loss=0.2783, Avg Loss=0.7970]"
     ]
    },
    {
     "name": "stdout",
     "output_type": "stream",
     "text": [
      "✓ Valid shapes - Images: torch.Size([4, 9, 224, 224]), Labels: torch.Size([4])\n"
     ]
    },
    {
     "name": "stderr",
     "output_type": "stream",
     "text": [
      "Epoch 22/25:  17%|█████▉                            | 4/23 [00:01<00:07,  2.51it/s, Loss=0.8931, Avg Loss=0.8211]"
     ]
    },
    {
     "name": "stdout",
     "output_type": "stream",
     "text": [
      "✓ Valid shapes - Images: torch.Size([4, 9, 224, 224]), Labels: torch.Size([4])\n"
     ]
    },
    {
     "name": "stderr",
     "output_type": "stream",
     "text": [
      "Epoch 22/25:  22%|███████▍                          | 5/23 [00:02<00:06,  2.59it/s, Loss=1.3085, Avg Loss=0.9185]"
     ]
    },
    {
     "name": "stdout",
     "output_type": "stream",
     "text": [
      "✓ Valid shapes - Images: torch.Size([4, 9, 224, 224]), Labels: torch.Size([4])\n"
     ]
    },
    {
     "name": "stderr",
     "output_type": "stream",
     "text": [
      "Epoch 22/25:  26%|████████▊                         | 6/23 [00:02<00:06,  2.62it/s, Loss=1.1153, Avg Loss=0.9513]"
     ]
    },
    {
     "name": "stdout",
     "output_type": "stream",
     "text": [
      "✓ Valid shapes - Images: torch.Size([4, 9, 224, 224]), Labels: torch.Size([4])\n"
     ]
    },
    {
     "name": "stderr",
     "output_type": "stream",
     "text": [
      "Epoch 22/25:  30%|██████████▎                       | 7/23 [00:02<00:06,  2.64it/s, Loss=0.2847, Avg Loss=0.8561]"
     ]
    },
    {
     "name": "stdout",
     "output_type": "stream",
     "text": [
      "✓ Valid shapes - Images: torch.Size([4, 9, 224, 224]), Labels: torch.Size([4])\n"
     ]
    },
    {
     "name": "stderr",
     "output_type": "stream",
     "text": [
      "Epoch 22/25:  35%|███████████▊                      | 8/23 [00:03<00:05,  2.62it/s, Loss=0.2691, Avg Loss=0.7827]"
     ]
    },
    {
     "name": "stdout",
     "output_type": "stream",
     "text": [
      "✓ Valid shapes - Images: torch.Size([4, 9, 224, 224]), Labels: torch.Size([4])\n"
     ]
    },
    {
     "name": "stderr",
     "output_type": "stream",
     "text": [
      "Epoch 22/25:  39%|█████████████▎                    | 9/23 [00:03<00:05,  2.64it/s, Loss=0.2581, Avg Loss=0.7244]"
     ]
    },
    {
     "name": "stdout",
     "output_type": "stream",
     "text": [
      "✓ Valid shapes - Images: torch.Size([4, 9, 224, 224]), Labels: torch.Size([4])\n"
     ]
    },
    {
     "name": "stderr",
     "output_type": "stream",
     "text": [
      "Epoch 22/25:  43%|██████████████▎                  | 10/23 [00:03<00:05,  2.57it/s, Loss=1.3710, Avg Loss=0.7891]"
     ]
    },
    {
     "name": "stdout",
     "output_type": "stream",
     "text": [
      "✓ Valid shapes - Images: torch.Size([4, 9, 224, 224]), Labels: torch.Size([4])\n"
     ]
    },
    {
     "name": "stderr",
     "output_type": "stream",
     "text": [
      "Epoch 22/25:  48%|███████████████▊                 | 11/23 [00:04<00:04,  2.56it/s, Loss=0.4748, Avg Loss=0.7605]"
     ]
    },
    {
     "name": "stdout",
     "output_type": "stream",
     "text": [
      "✓ Valid shapes - Images: torch.Size([4, 9, 224, 224]), Labels: torch.Size([4])\n"
     ]
    },
    {
     "name": "stderr",
     "output_type": "stream",
     "text": [
      "Epoch 22/25:  52%|█████████████████▏               | 12/23 [00:04<00:04,  2.58it/s, Loss=0.5179, Avg Loss=0.7403]"
     ]
    },
    {
     "name": "stdout",
     "output_type": "stream",
     "text": [
      "✓ Valid shapes - Images: torch.Size([4, 9, 224, 224]), Labels: torch.Size([4])\n"
     ]
    },
    {
     "name": "stderr",
     "output_type": "stream",
     "text": [
      "Epoch 22/25:  57%|██████████████████▋              | 13/23 [00:05<00:03,  2.57it/s, Loss=0.4468, Avg Loss=0.7177]"
     ]
    },
    {
     "name": "stdout",
     "output_type": "stream",
     "text": [
      "✓ Valid shapes - Images: torch.Size([4, 9, 224, 224]), Labels: torch.Size([4])\n"
     ]
    },
    {
     "name": "stderr",
     "output_type": "stream",
     "text": [
      "Epoch 22/25:  61%|████████████████████             | 14/23 [00:05<00:03,  2.55it/s, Loss=0.6371, Avg Loss=0.7120]"
     ]
    },
    {
     "name": "stdout",
     "output_type": "stream",
     "text": [
      "✓ Valid shapes - Images: torch.Size([4, 9, 224, 224]), Labels: torch.Size([4])\n"
     ]
    },
    {
     "name": "stderr",
     "output_type": "stream",
     "text": [
      "Epoch 22/25:  65%|█████████████████████▌           | 15/23 [00:05<00:03,  2.53it/s, Loss=1.7083, Avg Loss=0.7784]"
     ]
    },
    {
     "name": "stdout",
     "output_type": "stream",
     "text": [
      "✓ Valid shapes - Images: torch.Size([4, 9, 224, 224]), Labels: torch.Size([4])\n"
     ]
    },
    {
     "name": "stderr",
     "output_type": "stream",
     "text": [
      "Epoch 22/25:  70%|██████████████████████▉          | 16/23 [00:06<00:02,  2.53it/s, Loss=0.3319, Avg Loss=0.7505]"
     ]
    },
    {
     "name": "stdout",
     "output_type": "stream",
     "text": [
      "✓ Valid shapes - Images: torch.Size([4, 9, 224, 224]), Labels: torch.Size([4])\n"
     ]
    },
    {
     "name": "stderr",
     "output_type": "stream",
     "text": [
      "Epoch 22/25:  74%|████████████████████████▍        | 17/23 [00:06<00:02,  2.51it/s, Loss=1.0511, Avg Loss=0.7682]"
     ]
    },
    {
     "name": "stdout",
     "output_type": "stream",
     "text": [
      "✓ Valid shapes - Images: torch.Size([4, 9, 224, 224]), Labels: torch.Size([4])\n"
     ]
    },
    {
     "name": "stderr",
     "output_type": "stream",
     "text": [
      "Epoch 22/25:  78%|█████████████████████████▊       | 18/23 [00:07<00:01,  2.52it/s, Loss=0.4969, Avg Loss=0.7531]"
     ]
    },
    {
     "name": "stdout",
     "output_type": "stream",
     "text": [
      "✓ Valid shapes - Images: torch.Size([4, 9, 224, 224]), Labels: torch.Size([4])\n"
     ]
    },
    {
     "name": "stderr",
     "output_type": "stream",
     "text": [
      "Epoch 22/25:  83%|███████████████████████████▎     | 19/23 [00:07<00:01,  2.53it/s, Loss=0.3268, Avg Loss=0.7307]"
     ]
    },
    {
     "name": "stdout",
     "output_type": "stream",
     "text": [
      "✓ Valid shapes - Images: torch.Size([4, 9, 224, 224]), Labels: torch.Size([4])\n"
     ]
    },
    {
     "name": "stderr",
     "output_type": "stream",
     "text": [
      "Epoch 22/25:  87%|████████████████████████████▋    | 20/23 [00:07<00:01,  2.55it/s, Loss=0.3657, Avg Loss=0.7124]"
     ]
    },
    {
     "name": "stdout",
     "output_type": "stream",
     "text": [
      "✓ Valid shapes - Images: torch.Size([4, 9, 224, 224]), Labels: torch.Size([4])\n"
     ]
    },
    {
     "name": "stderr",
     "output_type": "stream",
     "text": [
      "Epoch 22/25:  91%|██████████████████████████████▏  | 21/23 [00:08<00:00,  2.51it/s, Loss=0.6805, Avg Loss=0.7109]"
     ]
    },
    {
     "name": "stdout",
     "output_type": "stream",
     "text": [
      "✓ Valid shapes - Images: torch.Size([4, 9, 224, 224]), Labels: torch.Size([4])\n"
     ]
    },
    {
     "name": "stderr",
     "output_type": "stream",
     "text": [
      "Epoch 22/25:  96%|███████████████████████████████▌ | 22/23 [00:08<00:00,  2.50it/s, Loss=1.1234, Avg Loss=0.7296]"
     ]
    },
    {
     "name": "stdout",
     "output_type": "stream",
     "text": [
      "✓ Valid shapes - Images: torch.Size([4, 9, 224, 224]), Labels: torch.Size([4])\n"
     ]
    },
    {
     "name": "stderr",
     "output_type": "stream",
     "text": [
      "Epoch 22/25: 100%|█████████████████████████████████| 23/23 [00:09<00:00,  2.53it/s, Loss=0.4753, Avg Loss=0.7186]\n"
     ]
    },
    {
     "name": "stdout",
     "output_type": "stream",
     "text": [
      "✓ Valid shapes - Images: torch.Size([4, 9, 224, 224]), Labels: torch.Size([4])\n"
     ]
    },
    {
     "name": "stderr",
     "output_type": "stream",
     "text": [
      "Validation: 100%|██████████████████████████████████████████████████████████████████| 6/6 [00:01<00:00,  3.06it/s]\n"
     ]
    },
    {
     "name": "stdout",
     "output_type": "stream",
     "text": [
      "New best training accuracy: 80.43%\n",
      "New best model saved with accuracy: 80.43%\n",
      "Epoch 22/25 - Train Loss: 0.7186, Train Acc: 80.43% - Val Loss: 1.0675, Val Acc: 70.83% (Best!)\n"
     ]
    },
    {
     "name": "stderr",
     "output_type": "stream",
     "text": [
      "Epoch 23/25:   0%|                                                                        | 0/23 [00:00<?, ?it/s]"
     ]
    },
    {
     "name": "stdout",
     "output_type": "stream",
     "text": [
      "✓ Valid shapes - Images: torch.Size([4, 9, 224, 224]), Labels: torch.Size([4])\n"
     ]
    },
    {
     "name": "stderr",
     "output_type": "stream",
     "text": [
      "Epoch 23/25:   9%|██▉                               | 2/23 [00:00<00:09,  2.16it/s, Loss=0.5363, Avg Loss=0.7475]"
     ]
    },
    {
     "name": "stdout",
     "output_type": "stream",
     "text": [
      "✓ Valid shapes - Images: torch.Size([4, 9, 224, 224]), Labels: torch.Size([4])\n"
     ]
    },
    {
     "name": "stderr",
     "output_type": "stream",
     "text": [
      "Epoch 23/25:  13%|████▍                             | 3/23 [00:01<00:08,  2.32it/s, Loss=1.1366, Avg Loss=0.8772]"
     ]
    },
    {
     "name": "stdout",
     "output_type": "stream",
     "text": [
      "✓ Valid shapes - Images: torch.Size([4, 9, 224, 224]), Labels: torch.Size([4])\n"
     ]
    },
    {
     "name": "stderr",
     "output_type": "stream",
     "text": [
      "Epoch 23/25:  17%|█████▉                            | 4/23 [00:01<00:07,  2.51it/s, Loss=0.7512, Avg Loss=0.8457]"
     ]
    },
    {
     "name": "stdout",
     "output_type": "stream",
     "text": [
      "✓ Valid shapes - Images: torch.Size([4, 9, 224, 224]), Labels: torch.Size([4])\n"
     ]
    },
    {
     "name": "stderr",
     "output_type": "stream",
     "text": [
      "Epoch 23/25:  22%|███████▍                          | 5/23 [00:02<00:06,  2.61it/s, Loss=0.9155, Avg Loss=0.8597]"
     ]
    },
    {
     "name": "stdout",
     "output_type": "stream",
     "text": [
      "✓ Valid shapes - Images: torch.Size([4, 9, 224, 224]), Labels: torch.Size([4])\n"
     ]
    },
    {
     "name": "stderr",
     "output_type": "stream",
     "text": [
      "Epoch 23/25:  26%|████████▊                         | 6/23 [00:02<00:06,  2.67it/s, Loss=0.4606, Avg Loss=0.7932]"
     ]
    },
    {
     "name": "stdout",
     "output_type": "stream",
     "text": [
      "✓ Valid shapes - Images: torch.Size([4, 9, 224, 224]), Labels: torch.Size([4])\n"
     ]
    },
    {
     "name": "stderr",
     "output_type": "stream",
     "text": [
      "Epoch 23/25:  30%|██████████▎                       | 7/23 [00:02<00:06,  2.64it/s, Loss=0.2490, Avg Loss=0.7154]"
     ]
    },
    {
     "name": "stdout",
     "output_type": "stream",
     "text": [
      "✓ Valid shapes - Images: torch.Size([4, 9, 224, 224]), Labels: torch.Size([4])\n"
     ]
    },
    {
     "name": "stderr",
     "output_type": "stream",
     "text": [
      "Epoch 23/25:  35%|███████████▊                      | 8/23 [00:03<00:05,  2.63it/s, Loss=0.6337, Avg Loss=0.7052]"
     ]
    },
    {
     "name": "stdout",
     "output_type": "stream",
     "text": [
      "✓ Valid shapes - Images: torch.Size([4, 9, 224, 224]), Labels: torch.Size([4])\n"
     ]
    },
    {
     "name": "stderr",
     "output_type": "stream",
     "text": [
      "Epoch 23/25:  39%|█████████████▎                    | 9/23 [00:03<00:05,  2.62it/s, Loss=2.5844, Avg Loss=0.9140]"
     ]
    },
    {
     "name": "stdout",
     "output_type": "stream",
     "text": [
      "✓ Valid shapes - Images: torch.Size([4, 9, 224, 224]), Labels: torch.Size([4])\n"
     ]
    },
    {
     "name": "stderr",
     "output_type": "stream",
     "text": [
      "Epoch 23/25:  43%|██████████████▎                  | 10/23 [00:03<00:04,  2.65it/s, Loss=0.4326, Avg Loss=0.8659]"
     ]
    },
    {
     "name": "stdout",
     "output_type": "stream",
     "text": [
      "✓ Valid shapes - Images: torch.Size([4, 9, 224, 224]), Labels: torch.Size([4])\n"
     ]
    },
    {
     "name": "stderr",
     "output_type": "stream",
     "text": [
      "Epoch 23/25:  48%|███████████████▊                 | 11/23 [00:04<00:04,  2.58it/s, Loss=0.2507, Avg Loss=0.8099]"
     ]
    },
    {
     "name": "stdout",
     "output_type": "stream",
     "text": [
      "✓ Valid shapes - Images: torch.Size([4, 9, 224, 224]), Labels: torch.Size([4])\n"
     ]
    },
    {
     "name": "stderr",
     "output_type": "stream",
     "text": [
      "Epoch 23/25:  52%|█████████████████▏               | 12/23 [00:04<00:04,  2.60it/s, Loss=0.8448, Avg Loss=0.8128]"
     ]
    },
    {
     "name": "stdout",
     "output_type": "stream",
     "text": [
      "✓ Valid shapes - Images: torch.Size([4, 9, 224, 224]), Labels: torch.Size([4])\n"
     ]
    },
    {
     "name": "stderr",
     "output_type": "stream",
     "text": [
      "Epoch 23/25:  57%|██████████████████▋              | 13/23 [00:05<00:03,  2.64it/s, Loss=0.5134, Avg Loss=0.7898]"
     ]
    },
    {
     "name": "stdout",
     "output_type": "stream",
     "text": [
      "✓ Valid shapes - Images: torch.Size([4, 9, 224, 224]), Labels: torch.Size([4])\n"
     ]
    },
    {
     "name": "stderr",
     "output_type": "stream",
     "text": [
      "Epoch 23/25:  61%|████████████████████             | 14/23 [00:05<00:03,  2.68it/s, Loss=0.6169, Avg Loss=0.7774]"
     ]
    },
    {
     "name": "stdout",
     "output_type": "stream",
     "text": [
      "✓ Valid shapes - Images: torch.Size([4, 9, 224, 224]), Labels: torch.Size([4])\n"
     ]
    },
    {
     "name": "stderr",
     "output_type": "stream",
     "text": [
      "Epoch 23/25:  65%|█████████████████████▌           | 15/23 [00:05<00:03,  2.65it/s, Loss=0.5073, Avg Loss=0.7594]"
     ]
    },
    {
     "name": "stdout",
     "output_type": "stream",
     "text": [
      "✓ Valid shapes - Images: torch.Size([4, 9, 224, 224]), Labels: torch.Size([4])\n"
     ]
    },
    {
     "name": "stderr",
     "output_type": "stream",
     "text": [
      "Epoch 23/25:  70%|██████████████████████▉          | 16/23 [00:06<00:02,  2.61it/s, Loss=1.5552, Avg Loss=0.8092]"
     ]
    },
    {
     "name": "stdout",
     "output_type": "stream",
     "text": [
      "✓ Valid shapes - Images: torch.Size([4, 9, 224, 224]), Labels: torch.Size([4])\n"
     ]
    },
    {
     "name": "stderr",
     "output_type": "stream",
     "text": [
      "Epoch 23/25:  74%|████████████████████████▍        | 17/23 [00:06<00:02,  2.54it/s, Loss=0.2473, Avg Loss=0.7761]"
     ]
    },
    {
     "name": "stdout",
     "output_type": "stream",
     "text": [
      "✓ Valid shapes - Images: torch.Size([4, 9, 224, 224]), Labels: torch.Size([4])\n"
     ]
    },
    {
     "name": "stderr",
     "output_type": "stream",
     "text": [
      "Epoch 23/25:  78%|█████████████████████████▊       | 18/23 [00:07<00:01,  2.54it/s, Loss=0.2614, Avg Loss=0.7475]"
     ]
    },
    {
     "name": "stdout",
     "output_type": "stream",
     "text": [
      "✓ Valid shapes - Images: torch.Size([4, 9, 224, 224]), Labels: torch.Size([4])\n"
     ]
    },
    {
     "name": "stderr",
     "output_type": "stream",
     "text": [
      "Epoch 23/25:  83%|███████████████████████████▎     | 19/23 [00:07<00:01,  2.54it/s, Loss=1.4326, Avg Loss=0.7836]"
     ]
    },
    {
     "name": "stdout",
     "output_type": "stream",
     "text": [
      "✓ Valid shapes - Images: torch.Size([4, 9, 224, 224]), Labels: torch.Size([4])\n"
     ]
    },
    {
     "name": "stderr",
     "output_type": "stream",
     "text": [
      "Epoch 23/25:  87%|████████████████████████████▋    | 20/23 [00:07<00:01,  2.57it/s, Loss=0.5153, Avg Loss=0.7702]"
     ]
    },
    {
     "name": "stdout",
     "output_type": "stream",
     "text": [
      "✓ Valid shapes - Images: torch.Size([4, 9, 224, 224]), Labels: torch.Size([4])\n"
     ]
    },
    {
     "name": "stderr",
     "output_type": "stream",
     "text": [
      "Epoch 23/25:  91%|██████████████████████████████▏  | 21/23 [00:08<00:00,  2.60it/s, Loss=0.9635, Avg Loss=0.7794]"
     ]
    },
    {
     "name": "stdout",
     "output_type": "stream",
     "text": [
      "✓ Valid shapes - Images: torch.Size([4, 9, 224, 224]), Labels: torch.Size([4])\n"
     ]
    },
    {
     "name": "stderr",
     "output_type": "stream",
     "text": [
      "Epoch 23/25:  96%|███████████████████████████████▌ | 22/23 [00:08<00:00,  2.59it/s, Loss=0.2214, Avg Loss=0.7540]"
     ]
    },
    {
     "name": "stdout",
     "output_type": "stream",
     "text": [
      "✓ Valid shapes - Images: torch.Size([4, 9, 224, 224]), Labels: torch.Size([4])\n"
     ]
    },
    {
     "name": "stderr",
     "output_type": "stream",
     "text": [
      "Epoch 23/25: 100%|█████████████████████████████████| 23/23 [00:08<00:00,  2.56it/s, Loss=0.2246, Avg Loss=0.7310]\n"
     ]
    },
    {
     "name": "stdout",
     "output_type": "stream",
     "text": [
      "✓ Valid shapes - Images: torch.Size([4, 9, 224, 224]), Labels: torch.Size([4])\n"
     ]
    },
    {
     "name": "stderr",
     "output_type": "stream",
     "text": [
      "Validation: 100%|██████████████████████████████████████████████████████████████████| 6/6 [00:02<00:00,  2.91it/s]\n"
     ]
    },
    {
     "name": "stdout",
     "output_type": "stream",
     "text": [
      "Epoch 23/25 - Train Loss: 0.7310, Train Acc: 76.09% - Val Loss: 1.0635, Val Acc: 70.83%\n"
     ]
    },
    {
     "name": "stderr",
     "output_type": "stream",
     "text": [
      "Epoch 24/25:   0%|                                                                        | 0/23 [00:00<?, ?it/s]"
     ]
    },
    {
     "name": "stdout",
     "output_type": "stream",
     "text": [
      "✓ Valid shapes - Images: torch.Size([4, 9, 224, 224]), Labels: torch.Size([4])\n"
     ]
    },
    {
     "name": "stderr",
     "output_type": "stream",
     "text": [
      "Epoch 24/25:   9%|██▉                               | 2/23 [00:00<00:09,  2.14it/s, Loss=0.9865, Avg Loss=0.9155]"
     ]
    },
    {
     "name": "stdout",
     "output_type": "stream",
     "text": [
      "✓ Valid shapes - Images: torch.Size([4, 9, 224, 224]), Labels: torch.Size([4])\n"
     ]
    },
    {
     "name": "stderr",
     "output_type": "stream",
     "text": [
      "Epoch 24/25:  13%|████▍                             | 3/23 [00:01<00:08,  2.42it/s, Loss=0.9391, Avg Loss=0.9234]"
     ]
    },
    {
     "name": "stdout",
     "output_type": "stream",
     "text": [
      "✓ Valid shapes - Images: torch.Size([4, 9, 224, 224]), Labels: torch.Size([4])\n"
     ]
    },
    {
     "name": "stderr",
     "output_type": "stream",
     "text": [
      "Epoch 24/25:  17%|█████▉                            | 4/23 [00:01<00:07,  2.56it/s, Loss=0.7786, Avg Loss=0.8872]"
     ]
    },
    {
     "name": "stdout",
     "output_type": "stream",
     "text": [
      "✓ Valid shapes - Images: torch.Size([4, 9, 224, 224]), Labels: torch.Size([4])\n"
     ]
    },
    {
     "name": "stderr",
     "output_type": "stream",
     "text": [
      "Epoch 24/25:  22%|███████▍                          | 5/23 [00:02<00:06,  2.64it/s, Loss=0.5136, Avg Loss=0.8125]"
     ]
    },
    {
     "name": "stdout",
     "output_type": "stream",
     "text": [
      "✓ Valid shapes - Images: torch.Size([4, 9, 224, 224]), Labels: torch.Size([4])\n"
     ]
    },
    {
     "name": "stderr",
     "output_type": "stream",
     "text": [
      "Epoch 24/25:  26%|████████▊                         | 6/23 [00:02<00:06,  2.68it/s, Loss=1.0537, Avg Loss=0.8527]"
     ]
    },
    {
     "name": "stdout",
     "output_type": "stream",
     "text": [
      "✓ Valid shapes - Images: torch.Size([4, 9, 224, 224]), Labels: torch.Size([4])\n"
     ]
    },
    {
     "name": "stderr",
     "output_type": "stream",
     "text": [
      "Epoch 24/25:  30%|██████████▎                       | 7/23 [00:02<00:05,  2.71it/s, Loss=0.3844, Avg Loss=0.7858]"
     ]
    },
    {
     "name": "stdout",
     "output_type": "stream",
     "text": [
      "✓ Valid shapes - Images: torch.Size([4, 9, 224, 224]), Labels: torch.Size([4])\n"
     ]
    },
    {
     "name": "stderr",
     "output_type": "stream",
     "text": [
      "Epoch 24/25:  35%|███████████▊                      | 8/23 [00:03<00:05,  2.73it/s, Loss=0.5789, Avg Loss=0.7599]"
     ]
    },
    {
     "name": "stdout",
     "output_type": "stream",
     "text": [
      "✓ Valid shapes - Images: torch.Size([4, 9, 224, 224]), Labels: torch.Size([4])\n"
     ]
    },
    {
     "name": "stderr",
     "output_type": "stream",
     "text": [
      "Epoch 24/25:  39%|█████████████▎                    | 9/23 [00:03<00:05,  2.72it/s, Loss=0.8208, Avg Loss=0.7667]"
     ]
    },
    {
     "name": "stdout",
     "output_type": "stream",
     "text": [
      "✓ Valid shapes - Images: torch.Size([4, 9, 224, 224]), Labels: torch.Size([4])\n"
     ]
    },
    {
     "name": "stderr",
     "output_type": "stream",
     "text": [
      "Epoch 24/25:  43%|██████████████▎                  | 10/23 [00:03<00:04,  2.61it/s, Loss=0.2573, Avg Loss=0.7157]"
     ]
    },
    {
     "name": "stdout",
     "output_type": "stream",
     "text": [
      "✓ Valid shapes - Images: torch.Size([4, 9, 224, 224]), Labels: torch.Size([4])\n"
     ]
    },
    {
     "name": "stderr",
     "output_type": "stream",
     "text": [
      "Epoch 24/25:  48%|███████████████▊                 | 11/23 [00:04<00:04,  2.59it/s, Loss=0.2637, Avg Loss=0.6747]"
     ]
    },
    {
     "name": "stdout",
     "output_type": "stream",
     "text": [
      "✓ Valid shapes - Images: torch.Size([4, 9, 224, 224]), Labels: torch.Size([4])\n"
     ]
    },
    {
     "name": "stderr",
     "output_type": "stream",
     "text": [
      "Epoch 24/25:  52%|█████████████████▏               | 12/23 [00:04<00:04,  2.58it/s, Loss=0.2254, Avg Loss=0.6372]"
     ]
    },
    {
     "name": "stdout",
     "output_type": "stream",
     "text": [
      "✓ Valid shapes - Images: torch.Size([4, 9, 224, 224]), Labels: torch.Size([4])\n"
     ]
    },
    {
     "name": "stderr",
     "output_type": "stream",
     "text": [
      "Epoch 24/25:  57%|██████████████████▋              | 13/23 [00:05<00:04,  2.44it/s, Loss=1.1392, Avg Loss=0.6758]"
     ]
    },
    {
     "name": "stdout",
     "output_type": "stream",
     "text": [
      "✓ Valid shapes - Images: torch.Size([4, 9, 224, 224]), Labels: torch.Size([4])\n"
     ]
    },
    {
     "name": "stderr",
     "output_type": "stream",
     "text": [
      "Epoch 24/25:  61%|████████████████████             | 14/23 [00:05<00:03,  2.42it/s, Loss=0.5016, Avg Loss=0.6634]"
     ]
    },
    {
     "name": "stdout",
     "output_type": "stream",
     "text": [
      "✓ Valid shapes - Images: torch.Size([4, 9, 224, 224]), Labels: torch.Size([4])\n"
     ]
    },
    {
     "name": "stderr",
     "output_type": "stream",
     "text": [
      "Epoch 24/25:  65%|█████████████████████▌           | 15/23 [00:05<00:03,  2.43it/s, Loss=0.3020, Avg Loss=0.6393]"
     ]
    },
    {
     "name": "stdout",
     "output_type": "stream",
     "text": [
      "✓ Valid shapes - Images: torch.Size([4, 9, 224, 224]), Labels: torch.Size([4])\n"
     ]
    },
    {
     "name": "stderr",
     "output_type": "stream",
     "text": [
      "Epoch 24/25:  70%|██████████████████████▉          | 16/23 [00:06<00:02,  2.44it/s, Loss=0.3310, Avg Loss=0.6200]"
     ]
    },
    {
     "name": "stdout",
     "output_type": "stream",
     "text": [
      "✓ Valid shapes - Images: torch.Size([4, 9, 224, 224]), Labels: torch.Size([4])\n"
     ]
    },
    {
     "name": "stderr",
     "output_type": "stream",
     "text": [
      "Epoch 24/25:  74%|████████████████████████▍        | 17/23 [00:06<00:02,  2.35it/s, Loss=0.2283, Avg Loss=0.5970]"
     ]
    },
    {
     "name": "stdout",
     "output_type": "stream",
     "text": [
      "✓ Valid shapes - Images: torch.Size([4, 9, 224, 224]), Labels: torch.Size([4])\n"
     ]
    },
    {
     "name": "stderr",
     "output_type": "stream",
     "text": [
      "Epoch 24/25:  78%|█████████████████████████▊       | 18/23 [00:07<00:02,  2.41it/s, Loss=0.2635, Avg Loss=0.5785]"
     ]
    },
    {
     "name": "stdout",
     "output_type": "stream",
     "text": [
      "✓ Valid shapes - Images: torch.Size([4, 9, 224, 224]), Labels: torch.Size([4])\n"
     ]
    },
    {
     "name": "stderr",
     "output_type": "stream",
     "text": [
      "Epoch 24/25:  83%|███████████████████████████▎     | 19/23 [00:07<00:01,  2.46it/s, Loss=0.4062, Avg Loss=0.5694]"
     ]
    },
    {
     "name": "stdout",
     "output_type": "stream",
     "text": [
      "✓ Valid shapes - Images: torch.Size([4, 9, 224, 224]), Labels: torch.Size([4])\n"
     ]
    },
    {
     "name": "stderr",
     "output_type": "stream",
     "text": [
      "Epoch 24/25:  87%|████████████████████████████▋    | 20/23 [00:07<00:01,  2.50it/s, Loss=0.9026, Avg Loss=0.5861]"
     ]
    },
    {
     "name": "stdout",
     "output_type": "stream",
     "text": [
      "✓ Valid shapes - Images: torch.Size([4, 9, 224, 224]), Labels: torch.Size([4])\n"
     ]
    },
    {
     "name": "stderr",
     "output_type": "stream",
     "text": [
      "Epoch 24/25:  91%|██████████████████████████████▏  | 21/23 [00:08<00:00,  2.51it/s, Loss=1.0184, Avg Loss=0.6066]"
     ]
    },
    {
     "name": "stdout",
     "output_type": "stream",
     "text": [
      "✓ Valid shapes - Images: torch.Size([4, 9, 224, 224]), Labels: torch.Size([4])\n"
     ]
    },
    {
     "name": "stderr",
     "output_type": "stream",
     "text": [
      "Epoch 24/25:  96%|███████████████████████████████▌ | 22/23 [00:08<00:00,  2.55it/s, Loss=0.9397, Avg Loss=0.6218]"
     ]
    },
    {
     "name": "stdout",
     "output_type": "stream",
     "text": [
      "✓ Valid shapes - Images: torch.Size([4, 9, 224, 224]), Labels: torch.Size([4])\n"
     ]
    },
    {
     "name": "stderr",
     "output_type": "stream",
     "text": [
      "Epoch 24/25: 100%|█████████████████████████████████| 23/23 [00:09<00:00,  2.51it/s, Loss=1.5546, Avg Loss=0.6623]\n"
     ]
    },
    {
     "name": "stdout",
     "output_type": "stream",
     "text": [
      "✓ Valid shapes - Images: torch.Size([4, 9, 224, 224]), Labels: torch.Size([4])\n"
     ]
    },
    {
     "name": "stderr",
     "output_type": "stream",
     "text": [
      "Validation: 100%|██████████████████████████████████████████████████████████████████| 6/6 [00:02<00:00,  2.87it/s]\n"
     ]
    },
    {
     "name": "stdout",
     "output_type": "stream",
     "text": [
      "New best training accuracy: 81.52%\n",
      "New best model saved with accuracy: 81.52%\n",
      "Epoch 24/25 - Train Loss: 0.6623, Train Acc: 81.52% - Val Loss: 1.0833, Val Acc: 70.83% (Best!)\n"
     ]
    },
    {
     "name": "stderr",
     "output_type": "stream",
     "text": [
      "Epoch 25/25:   0%|                                                                        | 0/23 [00:00<?, ?it/s]"
     ]
    },
    {
     "name": "stdout",
     "output_type": "stream",
     "text": [
      "✓ Valid shapes - Images: torch.Size([4, 9, 224, 224]), Labels: torch.Size([4])\n"
     ]
    },
    {
     "name": "stderr",
     "output_type": "stream",
     "text": [
      "Epoch 25/25:   9%|██▉                               | 2/23 [00:00<00:09,  2.27it/s, Loss=1.0905, Avg Loss=1.0803]"
     ]
    },
    {
     "name": "stdout",
     "output_type": "stream",
     "text": [
      "✓ Valid shapes - Images: torch.Size([4, 9, 224, 224]), Labels: torch.Size([4])\n"
     ]
    },
    {
     "name": "stderr",
     "output_type": "stream",
     "text": [
      "Epoch 25/25:  13%|████▍                             | 3/23 [00:01<00:08,  2.40it/s, Loss=0.3851, Avg Loss=0.8486]"
     ]
    },
    {
     "name": "stdout",
     "output_type": "stream",
     "text": [
      "✓ Valid shapes - Images: torch.Size([4, 9, 224, 224]), Labels: torch.Size([4])\n"
     ]
    },
    {
     "name": "stderr",
     "output_type": "stream",
     "text": [
      "Epoch 25/25:  17%|█████▉                            | 4/23 [00:01<00:07,  2.54it/s, Loss=0.4998, Avg Loss=0.7614]"
     ]
    },
    {
     "name": "stdout",
     "output_type": "stream",
     "text": [
      "✓ Valid shapes - Images: torch.Size([4, 9, 224, 224]), Labels: torch.Size([4])\n"
     ]
    },
    {
     "name": "stderr",
     "output_type": "stream",
     "text": [
      "Epoch 25/25:  22%|███████▍                          | 5/23 [00:02<00:06,  2.63it/s, Loss=0.3768, Avg Loss=0.6845]"
     ]
    },
    {
     "name": "stdout",
     "output_type": "stream",
     "text": [
      "✓ Valid shapes - Images: torch.Size([4, 9, 224, 224]), Labels: torch.Size([4])\n"
     ]
    },
    {
     "name": "stderr",
     "output_type": "stream",
     "text": [
      "Epoch 25/25:  26%|████████▊                         | 6/23 [00:02<00:06,  2.69it/s, Loss=0.2329, Avg Loss=0.6092]"
     ]
    },
    {
     "name": "stdout",
     "output_type": "stream",
     "text": [
      "✓ Valid shapes - Images: torch.Size([4, 9, 224, 224]), Labels: torch.Size([4])\n"
     ]
    },
    {
     "name": "stderr",
     "output_type": "stream",
     "text": [
      "Epoch 25/25:  30%|██████████▎                       | 7/23 [00:02<00:05,  2.74it/s, Loss=0.9768, Avg Loss=0.6617]"
     ]
    },
    {
     "name": "stdout",
     "output_type": "stream",
     "text": [
      "✓ Valid shapes - Images: torch.Size([4, 9, 224, 224]), Labels: torch.Size([4])\n"
     ]
    },
    {
     "name": "stderr",
     "output_type": "stream",
     "text": [
      "Epoch 25/25:  35%|███████████▊                      | 8/23 [00:03<00:05,  2.70it/s, Loss=0.6567, Avg Loss=0.6611]"
     ]
    },
    {
     "name": "stdout",
     "output_type": "stream",
     "text": [
      "✓ Valid shapes - Images: torch.Size([4, 9, 224, 224]), Labels: torch.Size([4])\n"
     ]
    },
    {
     "name": "stderr",
     "output_type": "stream",
     "text": [
      "Epoch 25/25:  39%|█████████████▎                    | 9/23 [00:03<00:05,  2.69it/s, Loss=1.6099, Avg Loss=0.7665]"
     ]
    },
    {
     "name": "stdout",
     "output_type": "stream",
     "text": [
      "✓ Valid shapes - Images: torch.Size([4, 9, 224, 224]), Labels: torch.Size([4])\n"
     ]
    },
    {
     "name": "stderr",
     "output_type": "stream",
     "text": [
      "Epoch 25/25:  43%|██████████████▎                  | 10/23 [00:03<00:04,  2.69it/s, Loss=0.6709, Avg Loss=0.7570]"
     ]
    },
    {
     "name": "stdout",
     "output_type": "stream",
     "text": [
      "✓ Valid shapes - Images: torch.Size([4, 9, 224, 224]), Labels: torch.Size([4])\n"
     ]
    },
    {
     "name": "stderr",
     "output_type": "stream",
     "text": [
      "Epoch 25/25:  48%|███████████████▊                 | 11/23 [00:04<00:04,  2.63it/s, Loss=0.8029, Avg Loss=0.7611]"
     ]
    },
    {
     "name": "stdout",
     "output_type": "stream",
     "text": [
      "✓ Valid shapes - Images: torch.Size([4, 9, 224, 224]), Labels: torch.Size([4])\n"
     ]
    },
    {
     "name": "stderr",
     "output_type": "stream",
     "text": [
      "Epoch 25/25:  52%|█████████████████▏               | 12/23 [00:04<00:04,  2.63it/s, Loss=0.6521, Avg Loss=0.7520]"
     ]
    },
    {
     "name": "stdout",
     "output_type": "stream",
     "text": [
      "✓ Valid shapes - Images: torch.Size([4, 9, 224, 224]), Labels: torch.Size([4])\n"
     ]
    },
    {
     "name": "stderr",
     "output_type": "stream",
     "text": [
      "Epoch 25/25:  57%|██████████████████▋              | 13/23 [00:05<00:03,  2.62it/s, Loss=0.3833, Avg Loss=0.7237]"
     ]
    },
    {
     "name": "stdout",
     "output_type": "stream",
     "text": [
      "✓ Valid shapes - Images: torch.Size([4, 9, 224, 224]), Labels: torch.Size([4])\n"
     ]
    },
    {
     "name": "stderr",
     "output_type": "stream",
     "text": [
      "Epoch 25/25:  61%|████████████████████             | 14/23 [00:05<00:03,  2.59it/s, Loss=1.3234, Avg Loss=0.7665]"
     ]
    },
    {
     "name": "stdout",
     "output_type": "stream",
     "text": [
      "✓ Valid shapes - Images: torch.Size([4, 9, 224, 224]), Labels: torch.Size([4])\n"
     ]
    },
    {
     "name": "stderr",
     "output_type": "stream",
     "text": [
      "Epoch 25/25:  65%|█████████████████████▌           | 15/23 [00:05<00:03,  2.57it/s, Loss=0.4367, Avg Loss=0.7445]"
     ]
    },
    {
     "name": "stdout",
     "output_type": "stream",
     "text": [
      "✓ Valid shapes - Images: torch.Size([4, 9, 224, 224]), Labels: torch.Size([4])\n"
     ]
    },
    {
     "name": "stderr",
     "output_type": "stream",
     "text": [
      "Epoch 25/25:  70%|██████████████████████▉          | 16/23 [00:06<00:02,  2.59it/s, Loss=1.0987, Avg Loss=0.7667]"
     ]
    },
    {
     "name": "stdout",
     "output_type": "stream",
     "text": [
      "✓ Valid shapes - Images: torch.Size([4, 9, 224, 224]), Labels: torch.Size([4])\n"
     ]
    },
    {
     "name": "stderr",
     "output_type": "stream",
     "text": [
      "Epoch 25/25:  74%|████████████████████████▍        | 17/23 [00:06<00:02,  2.57it/s, Loss=0.2574, Avg Loss=0.7367]"
     ]
    },
    {
     "name": "stdout",
     "output_type": "stream",
     "text": [
      "✓ Valid shapes - Images: torch.Size([4, 9, 224, 224]), Labels: torch.Size([4])\n"
     ]
    },
    {
     "name": "stderr",
     "output_type": "stream",
     "text": [
      "Epoch 25/25:  78%|█████████████████████████▊       | 18/23 [00:06<00:01,  2.60it/s, Loss=0.3388, Avg Loss=0.7146]"
     ]
    },
    {
     "name": "stdout",
     "output_type": "stream",
     "text": [
      "✓ Valid shapes - Images: torch.Size([4, 9, 224, 224]), Labels: torch.Size([4])\n"
     ]
    },
    {
     "name": "stderr",
     "output_type": "stream",
     "text": [
      "Epoch 25/25:  83%|███████████████████████████▎     | 19/23 [00:07<00:01,  2.63it/s, Loss=0.9691, Avg Loss=0.7280]"
     ]
    },
    {
     "name": "stdout",
     "output_type": "stream",
     "text": [
      "✓ Valid shapes - Images: torch.Size([4, 9, 224, 224]), Labels: torch.Size([4])\n"
     ]
    },
    {
     "name": "stderr",
     "output_type": "stream",
     "text": [
      "Epoch 25/25:  87%|████████████████████████████▋    | 20/23 [00:07<00:01,  2.60it/s, Loss=1.7940, Avg Loss=0.7813]"
     ]
    },
    {
     "name": "stdout",
     "output_type": "stream",
     "text": [
      "✓ Valid shapes - Images: torch.Size([4, 9, 224, 224]), Labels: torch.Size([4])\n"
     ]
    },
    {
     "name": "stderr",
     "output_type": "stream",
     "text": [
      "Epoch 25/25:  91%|██████████████████████████████▏  | 21/23 [00:08<00:00,  2.59it/s, Loss=0.5028, Avg Loss=0.7680]"
     ]
    },
    {
     "name": "stdout",
     "output_type": "stream",
     "text": [
      "✓ Valid shapes - Images: torch.Size([4, 9, 224, 224]), Labels: torch.Size([4])\n"
     ]
    },
    {
     "name": "stderr",
     "output_type": "stream",
     "text": [
      "Epoch 25/25:  96%|███████████████████████████████▌ | 22/23 [00:08<00:00,  2.54it/s, Loss=0.4706, Avg Loss=0.7545]"
     ]
    },
    {
     "name": "stdout",
     "output_type": "stream",
     "text": [
      "✓ Valid shapes - Images: torch.Size([4, 9, 224, 224]), Labels: torch.Size([4])\n"
     ]
    },
    {
     "name": "stderr",
     "output_type": "stream",
     "text": [
      "Epoch 25/25: 100%|█████████████████████████████████| 23/23 [00:08<00:00,  2.58it/s, Loss=0.7950, Avg Loss=0.7563]\n"
     ]
    },
    {
     "name": "stdout",
     "output_type": "stream",
     "text": [
      "✓ Valid shapes - Images: torch.Size([4, 9, 224, 224]), Labels: torch.Size([4])\n"
     ]
    },
    {
     "name": "stderr",
     "output_type": "stream",
     "text": [
      "Validation: 100%|██████████████████████████████████████████████████████████████████| 6/6 [00:02<00:00,  2.81it/s]\n"
     ]
    },
    {
     "name": "stdout",
     "output_type": "stream",
     "text": [
      "Epoch 25/25 - Train Loss: 0.7563, Train Acc: 78.26% - Val Loss: 1.0844, Val Acc: 70.83%\n",
      "\n",
      "Training completed!\n",
      "\n",
      "Best Model Metrics (Based on Training Accuracy):\n",
      "======================================================================\n",
      "Epoch: 24\n",
      "Training Accuracy: 81.52% (Used for model selection)\n",
      "Validation Accuracy: 70.83%\n",
      "Training Loss: 0.6623\n",
      "Validation Loss: 1.0833\n"
     ]
    },
    {
     "data": {
      "image/png": "[encoded data removed]",
      "text/plain": [
       "<Figure size 1800x600 with 2 Axes>"
      ]
     },
     "metadata": {},
     "output_type": "display_data"
    },
    {
     "name": "stdout",
     "output_type": "stream",
     "text": [
      "\n",
      "Detailed Classification Report:\n",
      "Overall Accuracy: 70.83%\n",
      "Weighted Avg - Precision: 0.5017, Recall: 0.7083, F1: 0.5874\n",
      "\n",
      "Training completed successfully!\n",
      "\n",
      "Generating training visualization...\n"
     ]
    },
    {
     "name": "stderr",
     "output_type": "stream",
     "text": [
      "/mnt/d/ML/Projects/Breast-Thermography/notebooks/visualize_training.py:16: FutureWarning: You are using `torch.load` with `weights_only=False` (the current default value), which uses the default pickle module implicitly. It is possible to construct malicious pickle data which will execute arbitrary code during unpickling (See https://github.com/pytorch/pytorch/blob/main/SECURITY.md#untrusted-models for more details). In a future release, the default value for `weights_only` will be flipped to `True`. This limits the functions that could be executed during unpickling. Arbitrary objects will no longer be allowed to be loaded via this mode unless they are explicitly allowlisted by the user via `torch.serialization.add_safe_globals`. We recommend you start setting `weights_only=True` for any use case where you don't have full control of the loaded file. Please open an issue on GitHub for any issues related to this experimental feature.\n",
      "  checkpoint = torch.load(checkpoint_path, map_location='cpu')\n"
     ]
    },
    {
     "name": "stdout",
     "output_type": "stream",
     "text": [
      "Loaded checkpoint from epoch 25\n",
      "Saved training metrics plot to outputs/plots/training_metrics.png\n"
     ]
    },
    {
     "data": {
      "image/png": "[encoded data removed]",
      "text/plain": [
       "<Figure size 1500x500 with 2 Axes>"
      ]
     },
     "metadata": {},
     "output_type": "display_data"
    },
    {
     "name": "stdout",
     "output_type": "stream",
     "text": [
      "\n",
      "======================================================================\n",
      "🏆 Best Model Performance\n",
      "======================================================================\n",
      "📊 Best Epoch: 25\n",
      "🎯 Best Training Accuracy: 0.00%\n",
      "🏅 Best Validation Accuracy: 70.83%\n",
      "======================================================================\n",
      "\n"
     ]
    }
   ],
   "source": [
    "if __name__ == \"__main__\":\n",
    "    main()\n",
    "\n",
    "    try:\n",
    "        from visualize_training import main as visualize_main\n",
    "        print(\"\\nGenerating training visualization...\")\n",
    "        visualize_main()\n",
    "    except Exception as e:\n",
    "        print(f\"Could not generate visualization: {str(e)}\")"
   ]
  },
  {
   "cell_type": "code",
   "execution_count": null,
   "id": "e74ec702-790d-4d81-8d5a-0a114ae21c36",
   "metadata": {},
   "outputs": [],
   "source": []
  }
 ],
 "metadata": {
  "kernelspec": {
   "display_name": "Python 3 (ipykernel)",
   "language": "python",
   "name": "python3"
  },
  "language_info": {
   "codemirror_mode": {
    "name": "ipython",
    "version": 3
   },
   "file_extension": ".py",
   "mimetype": "text/x-python",
   "name": "python",
   "nbconvert_exporter": "python",
   "pygments_lexer": "ipython3",
   "version": "3.11.13"
  }
 },
 "nbformat": 4,
 "nbformat_minor": 5
}
