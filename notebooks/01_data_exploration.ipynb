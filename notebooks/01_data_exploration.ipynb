{
 "cells": [
  {
   "cell_type": "code",
   "execution_count": null,
   "id": "c668b404-e638-47de-935c-c42d21cc7d01",
   "metadata": {},
   "outputs": [],
   "source": [
    "# Key imports and setup\n",
    "import sys\n",
    "sys.path.append('..')\n",
    "\n",
    "import pandas as pd\n",
    "import numpy as np\n",
    "import matplotlib.pyplot as plt\n",
    "import seaborn as sns\n",
    "from src.data_prep import DataPreprocessor\n",
    "from src.visualize import VisualizationUtils\n",
    "\n",
    "# Initialize and load data\n",
    "preprocessor = DataPreprocessor()\n",
    "df = preprocessor.load_diagnostics()\n",
    "\n",
    "# Key analysis code\n",
    "print(f\"Dataset shape: {df.shape}\")\n",
    "print(f\"Label distribution:\\n{df['combined_label'].value_counts()}\")\n",
    "\n",
    "# Visualization\n",
    "vis_utils = VisualizationUtils()\n",
    "vis_utils.plot_data_statistics(df, save_path=\"../outputs/plots/data_statistics.png\")"
   ]
  }
 ],
 "metadata": {
  "kernelspec": {
   "display_name": "Python 3 (ipykernel)",
   "language": "python",
   "name": "python3"
  },
  "language_info": {
   "codemirror_mode": {
    "name": "ipython",
    "version": 3
   },
   "file_extension": ".py",
   "mimetype": "text/x-python",
   "name": "python",
   "nbconvert_exporter": "python",
   "pygments_lexer": "ipython3",
   "version": "3.12.3"
  }
 },
 "nbformat": 4,
 "nbformat_minor": 5
}
