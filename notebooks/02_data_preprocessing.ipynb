{
 "cells": [
  {
   "cell_type": "code",
   "execution_count": 1,
   "id": "d6aae1b1-5344-4dcf-a6e9-3c265de7fb25",
   "metadata": {},
   "outputs": [],
   "source": [
    "# Imports and setup\n",
    "import os\n",
    "import sys\n",
    "import io\n",
    "import torch\n",
    "from contextlib import redirect_stderr\n",
    "from tqdm import tqdm\n",
    "sys.path.append('..')\n",
    "\n",
    "# Import custom modules\n",
    "from src.data_prep import DataPreprocessor"
   ]
  },
  {
   "cell_type": "code",
   "execution_count": 2,
   "id": "b20630d3-20ee-4fd0-811f-26f376b1e2f8",
   "metadata": {},
   "outputs": [],
   "source": [
    "def setup_directories():\n",
    "    \"\"\"Create necessary directories if they don't exist.\"\"\"\n",
    "    os.makedirs(\"../data/processed\", exist_ok=True)\n",
    "    os.makedirs(\"../outputs/plots\", exist_ok=True)"
   ]
  },
  {
   "cell_type": "code",
   "execution_count": 3,
   "id": "8f1af21c-e253-429d-a974-a386ffc98bdc",
   "metadata": {},
   "outputs": [],
   "source": [
    "def process_and_save_data():\n",
    "    \"\"\"Process the data and save it to disk with a progress bar.\"\"\"\n",
    "    print(\"Initializing data preprocessor...\")\n",
    "    preprocessor = DataPreprocessor()\n",
    "    \n",
    "    # Load diagnostics\n",
    "    df = preprocessor.load_diagnostics()\n",
    "    \n",
    "    # Create datasets (without saving)\n",
    "    train_loader, val_loader, _ = preprocessor.create_datasets(save_processed=False)\n",
    "    \n",
    "    # Process and save training data\n",
    "    print(\"\\nProcessing and saving training data...\")\n",
    "    os.makedirs(\"../data/processed/train\", exist_ok=True)\n",
    "    train_dataset = train_loader.dataset\n",
    "    \n",
    "    for idx in tqdm(range(len(train_dataset)), desc=\"Training data\"):\n",
    "        try:\n",
    "            sample = train_dataset[idx]\n",
    "            patient_id = train_dataset.data_df.iloc[idx]['Image']\n",
    "            label = train_dataset.data_df.iloc[idx]['label']\n",
    "            \n",
    "            # Create class directory\n",
    "            class_dir = os.path.join(\"../data/processed/train\", str(label))\n",
    "            os.makedirs(class_dir, exist_ok=True)\n",
    "            \n",
    "            # Save processed sample\n",
    "            torch.save({\n",
    "                'image': sample['image'],\n",
    "                'label': label,\n",
    "                'patient_id': patient_id\n",
    "            }, os.path.join(class_dir, f\"{patient_id}.pt\"))\n",
    "                \n",
    "        except Exception as e:\n",
    "            print(f\"\\nError processing training sample {idx}: {str(e)}\")\n",
    "            continue\n",
    "    \n",
    "    # Process and save validation data\n",
    "    print(\"\\nProcessing and saving validation data...\")\n",
    "    os.makedirs(\"../data/processed/val\", exist_ok=True)\n",
    "    val_dataset = val_loader.dataset  # Get the actual dataset from the DataLoader\n",
    "    \n",
    "    for idx in tqdm(range(len(val_dataset)), desc=\"Validation data\"):\n",
    "        try:\n",
    "            sample = val_dataset[idx]\n",
    "            patient_id = val_dataset.data_df.iloc[idx]['Image']\n",
    "            label = val_dataset.data_df.iloc[idx]['label']\n",
    "            \n",
    "            # Create class directory\n",
    "            class_dir = os.path.join(\"../data/processed/val\", str(label))\n",
    "            os.makedirs(class_dir, exist_ok=True)\n",
    "            \n",
    "            # Save processed sample\n",
    "            torch.save({\n",
    "                'image': sample['image'],\n",
    "                'label': label,\n",
    "                'patient_id': patient_id\n",
    "            }, os.path.join(class_dir, f\"{patient_id}.pt\"))\n",
    "                \n",
    "        except Exception as e:\n",
    "            print(f\"\\nError processing validation sample {idx}: {str(e)}\")\n",
    "            continue\n",
    "    \n",
    "    return df, train_loader, val_loader"
   ]
  },
  {
   "cell_type": "code",
   "execution_count": 4,
   "id": "656a3aab-a3ce-47f0-9e97-f47e4cbd2198",
   "metadata": {},
   "outputs": [],
   "source": [
    "def verify_processed_data():\n",
    "    \"\"\"Verify the processed data was saved correctly.\"\"\"\n",
    "    processed_dir = \"../data/processed\"\n",
    "    if not os.path.exists(processed_dir):\n",
    "        print(\"Error: Processed data directory not found!\")\n",
    "        return\n",
    "    \n",
    "    print(\"\\nProcessed data verification:\")\n",
    "    for cls_dir in os.listdir(processed_dir):\n",
    "        cls_path = os.path.join(processed_dir, cls_dir)\n",
    "        if os.path.isdir(cls_path):\n",
    "            print(f\"- {cls_dir}: {len(os.listdir(cls_path))} samples\")"
   ]
  },
  {
   "cell_type": "code",
   "execution_count": 5,
   "id": "dde3594a-f800-434d-a9d4-46c1092b3f7c",
   "metadata": {
    "scrolled": true
   },
   "outputs": [
    {
     "name": "stdout",
     "output_type": "stream",
     "text": [
      "Initializing data preprocessor...\n",
      "Loading diagnostics from: /mnt/d/ML/Projects/Breast-Thermography/data/raw/Breast-Thermography-Raw/Diagnostics.xlsx\n"
     ]
    },
    {
     "name": "stderr",
     "output_type": "stream",
     "text": [
      "/mnt/d/ML/Projects/Breast-Thermography/venv/lib/python3.11/site-packages/albumentations/core/validation.py:114: UserWarning: ShiftScaleRotate is a special case of Affine transform. Please use Affine transform instead.\n",
      "  original_init(self, **validated_kwargs)\n",
      "/mnt/d/ML/Projects/Breast-Thermography/notebooks/../src/data_prep.py:426: UserWarning: Argument(s) 'var_limit' are not valid for transform GaussNoise\n",
      "  A.GaussNoise(var_limit=(10.0 * strength, 50.0 * strength), p=0.1 * strength),\n",
      "/mnt/d/ML/Projects/Breast-Thermography/notebooks/../src/data_prep.py:430: UserWarning: Argument(s) 'max_holes, max_height, max_width, min_holes, min_height, min_width, fill_value' are not valid for transform CoarseDropout\n",
      "  A.CoarseDropout(\n"
     ]
    },
    {
     "name": "stdout",
     "output_type": "stream",
     "text": [
      "Loading diagnostics from: /mnt/d/ML/Projects/Breast-Thermography/data/raw/Breast-Thermography-Raw/Diagnostics.xlsx\n",
      "\n",
      "Processing and saving training data...\n"
     ]
    },
    {
     "name": "stderr",
     "output_type": "stream",
     "text": [
      "Training data: 100%|█████████████████████████████████████████████████████████████| 95/95 [00:14<00:00,  6.47it/s]\n"
     ]
    },
    {
     "name": "stdout",
     "output_type": "stream",
     "text": [
      "\n",
      "Processing and saving validation data...\n"
     ]
    },
    {
     "name": "stderr",
     "output_type": "stream",
     "text": [
      "Validation data: 100%|███████████████████████████████████████████████████████████| 24/24 [00:03<00:00,  6.52it/s]\n"
     ]
    },
    {
     "name": "stdout",
     "output_type": "stream",
     "text": [
      "\n",
      "Generating data visualizations...\n",
      "Plot saved to ../outputs/plots/data_distribution.png\n"
     ]
    },
    {
     "data": {
      "image/png": "[encoded data removed]",
      "text/plain": [
       "<Figure size 1000x600 with 1 Axes>"
      ]
     },
     "metadata": {},
     "output_type": "display_data"
    },
    {
     "name": "stdout",
     "output_type": "stream",
     "text": [
      "\n",
      "Dataset Information:\n",
      "==================================================\n",
      "Total samples: 119\n",
      "Training samples: 95\n",
      "Validation samples: 24\n",
      "Number of classes: 2\n",
      "\n",
      "Class distribution:\n",
      "combined_label\n",
      "Benign       84\n",
      "Malignant    35\n",
      "Name: count, dtype: int64\n",
      "\n",
      "Processed data verification:\n",
      "- Benign: 55 samples\n",
      "- Malignant: 21 samples\n",
      "- train: 2 samples\n",
      "- val: 2 samples\n",
      "\n",
      "Data preprocessing complete! The processed data is ready for training.\n",
      "Processed data location: /mnt/d/ML/Projects/Breast-Thermography/data/processed\n"
     ]
    }
   ],
   "source": [
    "def main():\n",
    "    # Setup directories\n",
    "    setup_directories()\n",
    "    \n",
    "    # Process and save data\n",
    "    df, train_loader, val_loader = process_and_save_data()\n",
    "    \n",
    "    # Generate visualizations\n",
    "    print(\"\\nGenerating data visualizations...\")\n",
    "    preprocessor = DataPreprocessor()\n",
    "    preprocessor.visualize_data_distribution(df, save_path=\"../outputs/plots/data_distribution.png\")\n",
    "    \n",
    "    # Print dataset information\n",
    "    print(\"\\nDataset Information:\")\n",
    "    print(\"=\" * 50)\n",
    "    print(f\"Total samples: {len(df)}\")\n",
    "    print(f\"Training samples: {len(train_loader.dataset)}\")\n",
    "    print(f\"Validation samples: {len(val_loader.dataset)}\")\n",
    "    print(f\"Number of classes: {len(df['combined_label'].unique())}\")\n",
    "    print(\"\\nClass distribution:\")\n",
    "    print(df['combined_label'].value_counts())\n",
    "    \n",
    "    # Verify processed data\n",
    "    verify_processed_data()\n",
    "    \n",
    "    print(\"\\nData preprocessing complete! The processed data is ready for training.\")\n",
    "    print(f\"Processed data location: {os.path.abspath('../data/processed')}\")\n",
    "\n",
    "if __name__ == \"__main__\":\n",
    "    main()"
   ]
  },
  {
   "cell_type": "code",
   "execution_count": null,
   "id": "b8f19bf9-01f8-4643-b3ac-15ba6d79cbe6",
   "metadata": {},
   "outputs": [],
   "source": []
  }
 ],
 "metadata": {
  "kernelspec": {
   "display_name": "Python 3 (ipykernel)",
   "language": "python",
   "name": "python3"
  },
  "language_info": {
   "codemirror_mode": {
    "name": "ipython",
    "version": 3
   },
   "file_extension": ".py",
   "mimetype": "text/x-python",
   "name": "python",
   "nbconvert_exporter": "python",
   "pygments_lexer": "ipython3",
   "version": "3.11.13"
  }
 },
 "nbformat": 4,
 "nbformat_minor": 5
}
